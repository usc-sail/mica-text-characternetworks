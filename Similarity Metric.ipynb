{
 "cells": [
  {
   "cell_type": "code",
   "execution_count": 1,
   "metadata": {
    "collapsed": true
   },
   "outputs": [],
   "source": [
    "%matplotlib inline\n",
    "import numpy as np\n",
    "import pandas as pd \n",
    "import seaborn as sns\n",
    "from matplotlib import pyplot as plt\n",
    "from sklearn.metrics.pairwise import cosine_similarity\n",
    "from scipy.cluster import hierarchy"
   ]
  },
  {
   "cell_type": "code",
   "execution_count": 2,
   "metadata": {
    "collapsed": false
   },
   "outputs": [
    {
     "data": {
      "text/html": [
       "<div>\n",
       "<table border=\"1\" class=\"dataframe\">\n",
       "  <thead>\n",
       "    <tr style=\"text-align: right;\">\n",
       "      <th></th>\n",
       "      <th>script</th>\n",
       "      <th>nodes</th>\n",
       "      <th>edges</th>\n",
       "      <th>nodes_males</th>\n",
       "      <th>edges_males</th>\n",
       "      <th>nodes_females</th>\n",
       "      <th>edges_females</th>\n",
       "      <th>degree_min</th>\n",
       "      <th>degree_mean</th>\n",
       "      <th>degree_median</th>\n",
       "      <th>degree_max</th>\n",
       "      <th>male_degree_min</th>\n",
       "      <th>male_degree_mean</th>\n",
       "      <th>male_degree_median</th>\n",
       "      <th>male_degree_max</th>\n",
       "      <th>female_degree_min</th>\n",
       "      <th>female_degree_mean</th>\n",
       "      <th>female_degree_median</th>\n",
       "      <th>female_degree_max</th>\n",
       "    </tr>\n",
       "  </thead>\n",
       "  <tbody>\n",
       "    <tr>\n",
       "      <th>0</th>\n",
       "      <td>./data/by_movie/elizabeth_the_golden_age.xml</td>\n",
       "      <td>38</td>\n",
       "      <td>136</td>\n",
       "      <td>20</td>\n",
       "      <td>54</td>\n",
       "      <td>10</td>\n",
       "      <td>20</td>\n",
       "      <td>1</td>\n",
       "      <td>7.157895</td>\n",
       "      <td>5.0</td>\n",
       "      <td>24</td>\n",
       "      <td>1</td>\n",
       "      <td>5.400000</td>\n",
       "      <td>5.0</td>\n",
       "      <td>13</td>\n",
       "      <td>1</td>\n",
       "      <td>4.00</td>\n",
       "      <td>4.5</td>\n",
       "      <td>7</td>\n",
       "    </tr>\n",
       "    <tr>\n",
       "      <th>1</th>\n",
       "      <td>./data/by_movie/angel_eyes.xml</td>\n",
       "      <td>23</td>\n",
       "      <td>62</td>\n",
       "      <td>15</td>\n",
       "      <td>28</td>\n",
       "      <td>4</td>\n",
       "      <td>8</td>\n",
       "      <td>1</td>\n",
       "      <td>5.391304</td>\n",
       "      <td>4.0</td>\n",
       "      <td>19</td>\n",
       "      <td>0</td>\n",
       "      <td>3.733333</td>\n",
       "      <td>3.0</td>\n",
       "      <td>13</td>\n",
       "      <td>3</td>\n",
       "      <td>4.00</td>\n",
       "      <td>4.0</td>\n",
       "      <td>5</td>\n",
       "    </tr>\n",
       "    <tr>\n",
       "      <th>2</th>\n",
       "      <td>./data/by_movie/synecdoche_new_york.xml</td>\n",
       "      <td>39</td>\n",
       "      <td>106</td>\n",
       "      <td>14</td>\n",
       "      <td>22</td>\n",
       "      <td>12</td>\n",
       "      <td>24</td>\n",
       "      <td>1</td>\n",
       "      <td>5.435897</td>\n",
       "      <td>4.0</td>\n",
       "      <td>34</td>\n",
       "      <td>0</td>\n",
       "      <td>3.142857</td>\n",
       "      <td>3.0</td>\n",
       "      <td>14</td>\n",
       "      <td>0</td>\n",
       "      <td>4.00</td>\n",
       "      <td>4.0</td>\n",
       "      <td>8</td>\n",
       "    </tr>\n",
       "    <tr>\n",
       "      <th>3</th>\n",
       "      <td>./data/by_movie/even_cowgirls_get_the_blues.xml</td>\n",
       "      <td>24</td>\n",
       "      <td>67</td>\n",
       "      <td>10</td>\n",
       "      <td>18</td>\n",
       "      <td>8</td>\n",
       "      <td>9</td>\n",
       "      <td>3</td>\n",
       "      <td>5.583333</td>\n",
       "      <td>4.0</td>\n",
       "      <td>19</td>\n",
       "      <td>1</td>\n",
       "      <td>3.600000</td>\n",
       "      <td>3.5</td>\n",
       "      <td>8</td>\n",
       "      <td>0</td>\n",
       "      <td>2.25</td>\n",
       "      <td>2.0</td>\n",
       "      <td>6</td>\n",
       "    </tr>\n",
       "    <tr>\n",
       "      <th>4</th>\n",
       "      <td>./data/by_movie/detroit_rock_city.xml</td>\n",
       "      <td>28</td>\n",
       "      <td>84</td>\n",
       "      <td>14</td>\n",
       "      <td>39</td>\n",
       "      <td>4</td>\n",
       "      <td>2</td>\n",
       "      <td>1</td>\n",
       "      <td>6.000000</td>\n",
       "      <td>4.5</td>\n",
       "      <td>18</td>\n",
       "      <td>1</td>\n",
       "      <td>5.571429</td>\n",
       "      <td>4.5</td>\n",
       "      <td>12</td>\n",
       "      <td>0</td>\n",
       "      <td>1.00</td>\n",
       "      <td>1.0</td>\n",
       "      <td>2</td>\n",
       "    </tr>\n",
       "  </tbody>\n",
       "</table>\n",
       "</div>"
      ],
      "text/plain": [
       "                                            script  nodes  edges  nodes_males  \\\n",
       "0     ./data/by_movie/elizabeth_the_golden_age.xml     38    136           20   \n",
       "1                   ./data/by_movie/angel_eyes.xml     23     62           15   \n",
       "2          ./data/by_movie/synecdoche_new_york.xml     39    106           14   \n",
       "3  ./data/by_movie/even_cowgirls_get_the_blues.xml     24     67           10   \n",
       "4            ./data/by_movie/detroit_rock_city.xml     28     84           14   \n",
       "\n",
       "   edges_males  nodes_females  edges_females  degree_min  degree_mean  \\\n",
       "0           54             10             20           1     7.157895   \n",
       "1           28              4              8           1     5.391304   \n",
       "2           22             12             24           1     5.435897   \n",
       "3           18              8              9           3     5.583333   \n",
       "4           39              4              2           1     6.000000   \n",
       "\n",
       "   degree_median  degree_max  male_degree_min  male_degree_mean  \\\n",
       "0            5.0          24                1          5.400000   \n",
       "1            4.0          19                0          3.733333   \n",
       "2            4.0          34                0          3.142857   \n",
       "3            4.0          19                1          3.600000   \n",
       "4            4.5          18                1          5.571429   \n",
       "\n",
       "   male_degree_median  male_degree_max  female_degree_min  female_degree_mean  \\\n",
       "0                 5.0               13                  1                4.00   \n",
       "1                 3.0               13                  3                4.00   \n",
       "2                 3.0               14                  0                4.00   \n",
       "3                 3.5                8                  0                2.25   \n",
       "4                 4.5               12                  0                1.00   \n",
       "\n",
       "   female_degree_median  female_degree_max  \n",
       "0                   4.5                  7  \n",
       "1                   4.0                  5  \n",
       "2                   4.0                  8  \n",
       "3                   2.0                  6  \n",
       "4                   1.0                  2  "
      ]
     },
     "execution_count": 2,
     "metadata": {},
     "output_type": "execute_result"
    }
   ],
   "source": [
    "data = pd.read_pickle(\"./data/dataframe.pkl\")\n",
    "data.head()"
   ]
  },
  {
   "cell_type": "code",
   "execution_count": 3,
   "metadata": {
    "collapsed": false
   },
   "outputs": [
    {
     "data": {
      "text/html": [
       "<div>\n",
       "<table border=\"1\" class=\"dataframe\">\n",
       "  <thead>\n",
       "    <tr style=\"text-align: right;\">\n",
       "      <th></th>\n",
       "      <th>script</th>\n",
       "      <th>nodes</th>\n",
       "      <th>edges</th>\n",
       "      <th>nodes_males</th>\n",
       "      <th>edges_males</th>\n",
       "      <th>nodes_females</th>\n",
       "      <th>edges_females</th>\n",
       "      <th>degree_min</th>\n",
       "      <th>degree_mean</th>\n",
       "      <th>degree_median</th>\n",
       "      <th>degree_max</th>\n",
       "      <th>male_degree_min</th>\n",
       "      <th>male_degree_mean</th>\n",
       "      <th>male_degree_median</th>\n",
       "      <th>male_degree_max</th>\n",
       "      <th>female_degree_min</th>\n",
       "      <th>female_degree_mean</th>\n",
       "      <th>female_degree_median</th>\n",
       "      <th>female_degree_max</th>\n",
       "    </tr>\n",
       "  </thead>\n",
       "  <tbody>\n",
       "    <tr>\n",
       "      <th>449</th>\n",
       "      <td>./data/by_movie/fight_club.xml</td>\n",
       "      <td>29</td>\n",
       "      <td>64</td>\n",
       "      <td>13</td>\n",
       "      <td>27</td>\n",
       "      <td>3</td>\n",
       "      <td>5</td>\n",
       "      <td>1</td>\n",
       "      <td>4.413793</td>\n",
       "      <td>3.0</td>\n",
       "      <td>28</td>\n",
       "      <td>1</td>\n",
       "      <td>4.153846</td>\n",
       "      <td>3.0</td>\n",
       "      <td>13</td>\n",
       "      <td>3</td>\n",
       "      <td>3.333333</td>\n",
       "      <td>3.0</td>\n",
       "      <td>4</td>\n",
       "    </tr>\n",
       "    <tr>\n",
       "      <th>450</th>\n",
       "      <td>./data/by_movie/groundhog_day.xml</td>\n",
       "      <td>33</td>\n",
       "      <td>72</td>\n",
       "      <td>18</td>\n",
       "      <td>27</td>\n",
       "      <td>7</td>\n",
       "      <td>6</td>\n",
       "      <td>1</td>\n",
       "      <td>4.363636</td>\n",
       "      <td>3.0</td>\n",
       "      <td>29</td>\n",
       "      <td>0</td>\n",
       "      <td>3.000000</td>\n",
       "      <td>2.0</td>\n",
       "      <td>17</td>\n",
       "      <td>0</td>\n",
       "      <td>1.714286</td>\n",
       "      <td>1.0</td>\n",
       "      <td>5</td>\n",
       "    </tr>\n",
       "    <tr>\n",
       "      <th>451</th>\n",
       "      <td>./data/by_movie/anonymous.xml</td>\n",
       "      <td>34</td>\n",
       "      <td>110</td>\n",
       "      <td>20</td>\n",
       "      <td>51</td>\n",
       "      <td>3</td>\n",
       "      <td>3</td>\n",
       "      <td>1</td>\n",
       "      <td>6.470588</td>\n",
       "      <td>5.5</td>\n",
       "      <td>23</td>\n",
       "      <td>0</td>\n",
       "      <td>5.100000</td>\n",
       "      <td>4.5</td>\n",
       "      <td>17</td>\n",
       "      <td>2</td>\n",
       "      <td>2.000000</td>\n",
       "      <td>2.0</td>\n",
       "      <td>2</td>\n",
       "    </tr>\n",
       "    <tr>\n",
       "      <th>452</th>\n",
       "      <td>./data/by_movie/hackers.xml</td>\n",
       "      <td>25</td>\n",
       "      <td>99</td>\n",
       "      <td>14</td>\n",
       "      <td>43</td>\n",
       "      <td>3</td>\n",
       "      <td>5</td>\n",
       "      <td>2</td>\n",
       "      <td>7.920000</td>\n",
       "      <td>6.0</td>\n",
       "      <td>19</td>\n",
       "      <td>1</td>\n",
       "      <td>6.142857</td>\n",
       "      <td>5.0</td>\n",
       "      <td>14</td>\n",
       "      <td>3</td>\n",
       "      <td>3.333333</td>\n",
       "      <td>3.0</td>\n",
       "      <td>4</td>\n",
       "    </tr>\n",
       "    <tr>\n",
       "      <th>453</th>\n",
       "      <td>./data/by_movie/apocalypse_now.xml</td>\n",
       "      <td>30</td>\n",
       "      <td>100</td>\n",
       "      <td>22</td>\n",
       "      <td>71</td>\n",
       "      <td>5</td>\n",
       "      <td>4</td>\n",
       "      <td>1</td>\n",
       "      <td>6.666667</td>\n",
       "      <td>5.5</td>\n",
       "      <td>28</td>\n",
       "      <td>1</td>\n",
       "      <td>6.454545</td>\n",
       "      <td>5.5</td>\n",
       "      <td>21</td>\n",
       "      <td>0</td>\n",
       "      <td>1.600000</td>\n",
       "      <td>2.0</td>\n",
       "      <td>2</td>\n",
       "    </tr>\n",
       "  </tbody>\n",
       "</table>\n",
       "</div>"
      ],
      "text/plain": [
       "                                 script  nodes  edges  nodes_males  \\\n",
       "449      ./data/by_movie/fight_club.xml     29     64           13   \n",
       "450   ./data/by_movie/groundhog_day.xml     33     72           18   \n",
       "451       ./data/by_movie/anonymous.xml     34    110           20   \n",
       "452         ./data/by_movie/hackers.xml     25     99           14   \n",
       "453  ./data/by_movie/apocalypse_now.xml     30    100           22   \n",
       "\n",
       "     edges_males  nodes_females  edges_females  degree_min  degree_mean  \\\n",
       "449           27              3              5           1     4.413793   \n",
       "450           27              7              6           1     4.363636   \n",
       "451           51              3              3           1     6.470588   \n",
       "452           43              3              5           2     7.920000   \n",
       "453           71              5              4           1     6.666667   \n",
       "\n",
       "     degree_median  degree_max  male_degree_min  male_degree_mean  \\\n",
       "449            3.0          28                1          4.153846   \n",
       "450            3.0          29                0          3.000000   \n",
       "451            5.5          23                0          5.100000   \n",
       "452            6.0          19                1          6.142857   \n",
       "453            5.5          28                1          6.454545   \n",
       "\n",
       "     male_degree_median  male_degree_max  female_degree_min  \\\n",
       "449                 3.0               13                  3   \n",
       "450                 2.0               17                  0   \n",
       "451                 4.5               17                  2   \n",
       "452                 5.0               14                  3   \n",
       "453                 5.5               21                  0   \n",
       "\n",
       "     female_degree_mean  female_degree_median  female_degree_max  \n",
       "449            3.333333                   3.0                  4  \n",
       "450            1.714286                   1.0                  5  \n",
       "451            2.000000                   2.0                  2  \n",
       "452            3.333333                   3.0                  4  \n",
       "453            1.600000                   2.0                  2  "
      ]
     },
     "execution_count": 3,
     "metadata": {},
     "output_type": "execute_result"
    }
   ],
   "source": [
    "data.tail()"
   ]
  },
  {
   "cell_type": "markdown",
   "metadata": {},
   "source": [
    "# Clustering\n",
    "First, lets get cosine similarity between movies' graphs"
   ]
  },
  {
   "cell_type": "code",
   "execution_count": 11,
   "metadata": {
    "collapsed": false
   },
   "outputs": [],
   "source": [
    "X = data._get_numeric_data().values\n",
    "dist_mtx = cosine_similarity(X)"
   ]
  },
  {
   "cell_type": "code",
   "execution_count": 12,
   "metadata": {
    "collapsed": false
   },
   "outputs": [
    {
     "data": {
      "text/plain": [
       "array([[ 1.        ,  0.98398843,  0.9727782 , ...,  0.98982451,\n",
       "         0.99313613,  0.96439236],\n",
       "       [ 0.98398843,  1.        ,  0.96973342, ...,  0.98756744,\n",
       "         0.98500855,  0.97427993],\n",
       "       [ 0.9727782 ,  0.96973342,  1.        , ...,  0.95160075,\n",
       "         0.95475052,  0.90694083],\n",
       "       ..., \n",
       "       [ 0.98982451,  0.98756744,  0.95160075, ...,  1.        ,\n",
       "         0.99712363,  0.98379034],\n",
       "       [ 0.99313613,  0.98500855,  0.95475052, ...,  0.99712363,\n",
       "         1.        ,  0.97755915],\n",
       "       [ 0.96439236,  0.97427993,  0.90694083, ...,  0.98379034,\n",
       "         0.97755915,  1.        ]])"
      ]
     },
     "execution_count": 12,
     "metadata": {},
     "output_type": "execute_result"
    }
   ],
   "source": [
    "dist_mtx"
   ]
  },
  {
   "cell_type": "code",
   "execution_count": 13,
   "metadata": {
    "collapsed": false
   },
   "outputs": [
    {
     "data": {
      "text/plain": [
       "(454, 454)"
      ]
     },
     "execution_count": 13,
     "metadata": {},
     "output_type": "execute_result"
    }
   ],
   "source": [
    "dist_mtx.shape"
   ]
  },
  {
   "cell_type": "markdown",
   "metadata": {},
   "source": [
    "Given $X$ movie, return $N$-most similar movies"
   ]
  },
  {
   "cell_type": "code",
   "execution_count": 9,
   "metadata": {
    "collapsed": false
   },
   "outputs": [
    {
     "data": {
      "text/plain": [
       "92                        ./data/by_movie/x_men.xml\n",
       "281            ./data/by_movie/eastern_promises.xml\n",
       "355    ./data/by_movie/someone_to_watch_over_me.xml\n",
       "447            ./data/by_movie/perfect_creature.xml\n",
       "7                      ./data/by_movie/die_hard.xml\n",
       "441          ./data/by_movie/death_at_a_funeral.xml\n",
       "97                       ./data/by_movie/legion.xml\n",
       "210                    ./data/by_movie/scream_3.xml\n",
       "396                 ./data/by_movie/drive_angry.xml\n",
       "157    ./data/by_movie/buffy_the_vampire_slayer.xml\n",
       "Name: script, dtype: object"
      ]
     },
     "execution_count": 9,
     "metadata": {},
     "output_type": "execute_result"
    }
   ],
   "source": [
    "script = \"./data/by_movie/x_men.xml\"\n",
    "i = data[(data.script == script)].index.tolist()[0]\n",
    "\n",
    "distances = np.copy(dist_mtx[i, :])\n",
    "data.script.iloc[distances.argsort()[-10:][::-1]]"
   ]
  },
  {
   "cell_type": "code",
   "execution_count": 15,
   "metadata": {
    "collapsed": false
   },
   "outputs": [
    {
     "data": {
      "text/plain": [
       "317                  ./data/by_movie/toy_story.xml\n",
       "246    ./data/by_movie/star_trek_first_contact.xml\n",
       "194         ./data/by_movie/cowboys_and_aliens.xml\n",
       "293             ./data/by_movie/fantastic_four.xml\n",
       "437            ./data/by_movie/mission_to_mars.xml\n",
       "107                ./data/by_movie/in_the_loop.xml\n",
       "345                ./data/by_movie/crime_spree.xml\n",
       "116                 ./data/by_movie/confidence.xml\n",
       "250              ./data/by_movie/lost_in_space.xml\n",
       "263        ./data/by_movie/from_dusk_till_dawn.xml\n",
       "Name: script, dtype: object"
      ]
     },
     "execution_count": 15,
     "metadata": {},
     "output_type": "execute_result"
    }
   ],
   "source": [
    "script = \"./data/by_movie/toy_story.xml\"\n",
    "i = data[(data.script == script)].index.tolist()[0]\n",
    "\n",
    "distances = np.copy(dist_mtx[i, :])\n",
    "data.script.iloc[distances.argsort()[-10:][::-1]]"
   ]
  },
  {
   "cell_type": "code",
   "execution_count": 16,
   "metadata": {
    "collapsed": false
   },
   "outputs": [
    {
     "data": {
      "text/plain": [
       "12     ./data/by_movie/lost_in_translation.xml\n",
       "342        ./data/by_movie/american_psycho.xml\n",
       "179                  ./data/by_movie/shame.xml\n",
       "282              ./data/by_movie/beginners.xml\n",
       "138          ./data/by_movie/high_fidelity.xml\n",
       "253               ./data/by_movie/sideways.xml\n",
       "47            ./data/by_movie/agnes_of_god.xml\n",
       "306              ./data/by_movie/assassins.xml\n",
       "440          ./data/by_movie/light_sleeper.xml\n",
       "424           ./data/by_movie/suspect_zero.xml\n",
       "Name: script, dtype: object"
      ]
     },
     "execution_count": 16,
     "metadata": {},
     "output_type": "execute_result"
    }
   ],
   "source": [
    "script = \"./data/by_movie/lost_in_translation.xml\"\n",
    "i = data[(data.script == script)].index.tolist()[0]\n",
    "\n",
    "distances = np.copy(dist_mtx[i, :])\n",
    "data.script.iloc[distances.argsort()[-10:][::-1]]"
   ]
  },
  {
   "cell_type": "code",
   "execution_count": null,
   "metadata": {
    "collapsed": true
   },
   "outputs": [],
   "source": []
  }
 ],
 "metadata": {
  "anaconda-cloud": {},
  "kernelspec": {
   "display_name": "Python [Root]",
   "language": "python",
   "name": "Python [Root]"
  },
  "language_info": {
   "codemirror_mode": {
    "name": "ipython",
    "version": 3
   },
   "file_extension": ".py",
   "mimetype": "text/x-python",
   "name": "python",
   "nbconvert_exporter": "python",
   "pygments_lexer": "ipython3",
   "version": "3.5.2"
  }
 },
 "nbformat": 4,
 "nbformat_minor": 0
}
