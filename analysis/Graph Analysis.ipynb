{
 "cells": [
  {
   "cell_type": "code",
   "execution_count": 1,
   "metadata": {
    "collapsed": false
   },
   "outputs": [],
   "source": [
    "%matplotlib inline\n",
    "from utils import read, createGraph, readExtraInfo, readGenre, readBirthdays, getCharacterAges\n",
    "from glob import iglob as glob\n",
    "from os.path import exists, basename\n",
    "import pandas as pd\n",
    "import matplotlib.pyplot as plt\n",
    "import seaborn as sns\n",
    "from collections import defaultdict, Counter\n",
    "import numpy as np\n",
    "import scipy as sp\n",
    "import warnings\n",
    "import networkx as nx\n",
    "import logging\n",
    "from funcy import walk_values\n",
    "from scipy import stats\n",
    "import itertools\n",
    "import statsmodels.api as sm\n",
    "from statsmodels.formula.api import ols\n",
    "from statsmodels.stats.multicomp import pairwise_tukeyhsd, MultiComparison\n",
    "\n",
    "plt.rcParams[\"figure.figsize\"] = (10, 8)"
   ]
  },
  {
   "cell_type": "code",
   "execution_count": 2,
   "metadata": {
    "collapsed": false
   },
   "outputs": [],
   "source": [
    "logging.basicConfig(format = \"%(asctime)-15s %(message)s\", level = logging.DEBUG)"
   ]
  },
  {
   "cell_type": "code",
   "execution_count": 3,
   "metadata": {
    "collapsed": false
   },
   "outputs": [],
   "source": [
    "th = 2\n",
    "data_dir = \"../data/utterances_with_charnames/*\"\n",
    "info_dir = \"../data/charandmovie_info/\"\n",
    "birthdays_f = \"../data/age/actor_birthdays.txt\""
   ]
  },
  {
   "cell_type": "markdown",
   "metadata": {
    "collapsed": true
   },
   "source": [
    "## Read all scripts"
   ]
  },
  {
   "cell_type": "code",
   "execution_count": 4,
   "metadata": {
    "collapsed": true
   },
   "outputs": [],
   "source": [
    "birthdays = readBirthdays(birthdays_f)"
   ]
  },
  {
   "cell_type": "code",
   "execution_count": 5,
   "metadata": {
    "collapsed": false
   },
   "outputs": [],
   "source": [
    "data = {}\n",
    "for script in glob(data_dir):\n",
    "    \n",
    "    _, char_list, adj = read(script, threshold = th)\n",
    "\n",
    "    extra_info = info_dir + basename(script)\n",
    "    if exists(extra_info):\n",
    "        genders, races, namesids, movieyear = readExtraInfo(extra_info)\n",
    "        genres = readGenre(extra_info)\n",
    "    else:\n",
    "#         logging.warning(\"Info for {} not found\".format(basename(script)))\n",
    "#         gens = defaultdict(lambda: 'unknown')\n",
    "#         races = defaultdict(lambda: 'unknown')  \n",
    "        continue\n",
    "    \n",
    "    def splitRaces(x):\n",
    "        r = x.split(\",\")\n",
    "        if len(r) > 0:\n",
    "            if len(r) > 1:\n",
    "                return \"mixed\"\n",
    "            else:\n",
    "                return r[0]\n",
    "    \n",
    "    races = walk_values(splitRaces, races)\n",
    "    ages = getCharacterAges(char_list, namesids, movieyear, birthdays)\n",
    "        \n",
    "        \n",
    "    G = createGraph(char_list,\n",
    "                    adj,\n",
    "                    genders = genders,\n",
    "                    races = races,\n",
    "                    ages = ages)\n",
    "\n",
    "    \n",
    "\n",
    "    key = basename(script)\n",
    "\n",
    "    data[key] = {}\n",
    "    data[key]['graph'] = G\n",
    "    data[key]['chars'] = char_list\n",
    "    data[key]['genres'] = genres\n",
    "    data[key]['ages'] = ages\n",
    "    data[key]['races'] = races\n",
    "    data[key]['year'] = movieyear\n",
    "    "
   ]
  },
  {
   "cell_type": "code",
   "execution_count": 6,
   "metadata": {
    "collapsed": false
   },
   "outputs": [],
   "source": [
    "data['american_beauty.txt'];"
   ]
  },
  {
   "cell_type": "code",
   "execution_count": 7,
   "metadata": {
    "collapsed": false
   },
   "outputs": [
    {
     "data": {
      "text/plain": [
       "15133"
      ]
     },
     "execution_count": 7,
     "metadata": {},
     "output_type": "execute_result"
    }
   ],
   "source": [
    "np.sum([nx.number_of_nodes(d['graph']) for d in data.values()])"
   ]
  },
  {
   "cell_type": "code",
   "execution_count": 8,
   "metadata": {
    "collapsed": false
   },
   "outputs": [
    {
     "name": "stdout",
     "output_type": "stream",
     "text": [
      "Counter({'Drama': 559, 'Thriller': 368, 'Comedy': 287, 'Action': 252, 'Crime': 242, 'Romance': 194, 'Adventure': 170, 'Sci-Fi': 156, 'Mystery': 145, 'Horror': 116, 'Fantasy': 115, 'Biography': 70, 'Family': 49, 'History': 34, 'War': 34, 'Sport': 32, 'Animation': 32, 'Music': 22, 'Musical': 19, 'Western': 17, 'Film-Noir': 5, 'Short': 5})\n"
     ]
    }
   ],
   "source": [
    "types = Counter([y for x in [d['genres'] for script, d in data.items()] for y in x])\n",
    "print(types)\n",
    "types = list(types.keys())"
   ]
  },
  {
   "cell_type": "code",
   "execution_count": 9,
   "metadata": {
    "collapsed": false
   },
   "outputs": [
    {
     "name": "stdout",
     "output_type": "stream",
     "text": [
      "Counter({'unknown': 7893, 'caucasian': 6887, 'african': 618, 'mixed': 449, 'latino': 165, 'eastasian': 78, 'asianindian': 44, 'other': 25, 'nativeamerican': 15, 'pacificislander': 7, 'others': 2})\n"
     ]
    }
   ],
   "source": [
    "races = Counter([y for x in [list(d['races'].values()) for d in data.values()] for y in x])\n",
    "print(races)\n",
    "races = list(races.keys())"
   ]
  },
  {
   "cell_type": "code",
   "execution_count": 39,
   "metadata": {
    "collapsed": true
   },
   "outputs": [],
   "source": [
    "centrality_measures = ['degree_cent', 'betweenness_cent', 'closeness_cent', 'pagerank_cent']"
   ]
  },
  {
   "cell_type": "code",
   "execution_count": 10,
   "metadata": {
    "collapsed": false
   },
   "outputs": [],
   "source": [
    "xkcd_colors = sns.xkcd_palette([\"grass green\", \"sand\", \"blue\", \"light red\", \"cerulean\",\n",
    "                                \"red\", \"light blue\", \"teal\", \"orange\", \"light green\",\n",
    "                                \"magenta\", \"yellow\", \"sky blue\", \"grey\", \"cobalt\",\n",
    "                                \"grass\", \"algae green\", \"coral\", \"cerise\", \"steel\",\n",
    "                                \"hot purple\", \"mango\", \"pale lime\", \"rouge\"])\n",
    "colors = itertools.cycle(xkcd_colors)"
   ]
  },
  {
   "cell_type": "markdown",
   "metadata": {},
   "source": [
    "# Pre-check\n",
    "In [GENDER BIAS WITHOUT BORDERS](http://seejane.org/wp-content/uploads/gender-bias-without-borders-executive-summary.pdf), there is a ratio of 2.25 men for every women on screen (women = $30.9$%). Lets check our numbers."
   ]
  },
  {
   "cell_type": "code",
   "execution_count": 11,
   "metadata": {
    "collapsed": false
   },
   "outputs": [
    {
     "name": "stdout",
     "output_type": "stream",
     "text": [
      "total: 15133\n",
      "males: 0.55%\n",
      "females: 0.21%\n"
     ]
    }
   ],
   "source": [
    "total, males, females = 0, 0, 0\n",
    "for _, d in data.items():\n",
    "    G = d['graph']\n",
    "    \n",
    "    for i in G.nodes():\n",
    "        if G.node[i]['gender'] == 'male':\n",
    "            males += 1\n",
    "        elif G.node[i]['gender'] == 'female':\n",
    "            females += 1\n",
    "        \n",
    "        total += 1\n",
    "        \n",
    "print(\"total: {}\".format(total))\n",
    "print(\"males: {:.2f}%\".format(float(males) / total))\n",
    "print(\"females: {:.2f}%\".format(float(females) / total))\n"
   ]
  },
  {
   "cell_type": "markdown",
   "metadata": {},
   "source": [
    "What if we drop unknown?... shouldn't matter right?"
   ]
  },
  {
   "cell_type": "code",
   "execution_count": 12,
   "metadata": {
    "collapsed": false
   },
   "outputs": [
    {
     "name": "stdout",
     "output_type": "stream",
     "text": [
      "males: 0.72%\n",
      "females: 0.28%\n"
     ]
    }
   ],
   "source": [
    "print(\"males: {:.2f}%\".format(float(males) / (males + females)))\n",
    "print(\"females: {:.2f}%\".format(float(females) / (males + females)))"
   ]
  },
  {
   "cell_type": "markdown",
   "metadata": {},
   "source": [
    "# Graph analysis\n",
    "\n",
    "## Centrality Measurements"
   ]
  },
  {
   "cell_type": "markdown",
   "metadata": {},
   "source": [
    "### Calculate and save centralities"
   ]
  },
  {
   "cell_type": "code",
   "execution_count": 26,
   "metadata": {
    "collapsed": false
   },
   "outputs": [],
   "source": [
    "for script, d in data.items():\n",
    "    G = d['graph']\n",
    "    \n",
    "    degree = nx.degree_centrality(G)\n",
    "    nx.set_node_attributes(G, 'degree_cent', degree)\n",
    "    \n",
    "    betweenness = nx.betweenness_centrality(G)\n",
    "    nx.set_node_attributes(G, 'betweenness_cent', betweenness)\n",
    "    \n",
    "    #eigen = nx.eigenvector_centrality(G)\n",
    "    #nx.set_node_attributes(G, 'eigen_cent', eigen)\n",
    "        \n",
    "    closeness = nx.closeness_centrality(G)\n",
    "    nx.set_node_attributes(G, 'closeness_cent', closeness)\n",
    "        \n",
    "    pagerank = nx.pagerank(G)\n",
    "    nx.set_node_attributes(G, 'pagerank_cent', pagerank)\n",
    "    \n",
    "    "
   ]
  },
  {
   "cell_type": "markdown",
   "metadata": {},
   "source": [
    "### Some examples"
   ]
  },
  {
   "cell_type": "markdown",
   "metadata": {},
   "source": [
    "Most prominent women / most prominent men"
   ]
  },
  {
   "cell_type": "code",
   "execution_count": 29,
   "metadata": {
    "collapsed": false
   },
   "outputs": [],
   "source": [
    "def averageCents(node):\n",
    "    return np.mean([node['degree_cent'], node['betweenness_cent'], node['closeness_cent'], node['pagerank_cent']])  \n",
    "    \n",
    "male_cents, female_cents = [], []\n",
    "for script, d in data.items():\n",
    "    G = d['graph']\n",
    "    char_list = d['chars']\n",
    "       \n",
    "    male_cents.extend([(averageCents(G.node[i]), char_list[i], script) for i in G.nodes() if G.node[i]['gender'] == 'male'])\n",
    "    female_cents.extend([(averageCents(G.node[i]), char_list[i], script) for i in G.nodes() if G.node[i]['gender'] == 'female'])"
   ]
  },
  {
   "cell_type": "code",
   "execution_count": 30,
   "metadata": {
    "collapsed": false
   },
   "outputs": [
    {
     "data": {
      "text/plain": [
       "[(0.87162145608110519, 'LT', 'bad_lieutenant.txt'),\n",
       " (0.87162145608110519, 'SCOTTIE', 'vertigo.txt'),\n",
       " (0.76924099084391862, 'TONY', 'scarface.txt'),\n",
       " (0.7583504914299114, 'KIT', 'badlands.txt'),\n",
       " (0.7583504914299114, 'ARON', '127_hours.txt'),\n",
       " (0.75557364024770701, 'CHUCK', 'cast_away.txt'),\n",
       " (0.75092688171410182, 'ALEXANDER', 'the_time_machine.txt'),\n",
       " (0.74796299414234346, 'NICHOLAS', 'the_game.txt'),\n",
       " (0.74649130757766047, 'STUMP', 'cobb.txt'),\n",
       " (0.73237240060039221, 'RODERICK', 'barry_lyndon.txt')]"
      ]
     },
     "execution_count": 30,
     "metadata": {},
     "output_type": "execute_result"
    }
   ],
   "source": [
    "sorted(male_cents, key=lambda x: x[0], reverse=True)[0:10]"
   ]
  },
  {
   "cell_type": "code",
   "execution_count": 31,
   "metadata": {
    "collapsed": false
   },
   "outputs": [
    {
     "data": {
      "text/plain": [
       "[(0.74573585404146026, 'OLIVE', 'easy_a.txt'),\n",
       " (0.73039165623589319, 'CORALINE', 'coraline.txt'),\n",
       " (0.68348361272748526, 'DOROTHY', 'wizard_of_oz_the.txt'),\n",
       " (0.67818149282150342, 'JOEY', 'hellraiser_3_hell_on_earth.txt'),\n",
       " (0.67770537997062208, 'STEPHANIE', 'drag_me_to_hell.txt'),\n",
       " (0.67612995476013682, 'KATHY', 'whistleblower_the.txt'),\n",
       " (0.67239447542947228, 'FRANCES', 'frances.txt'),\n",
       " (0.67226367733629899, 'THE BRIDE', 'kill_bill_volume_1_and_2.txt'),\n",
       " (0.66928807937611212, 'SISSY', 'even_cowgirls_get_the_blues.txt'),\n",
       " (0.66738762422461217, 'NORMA', 'sunset_blvd..txt')]"
      ]
     },
     "execution_count": 31,
     "metadata": {},
     "output_type": "execute_result"
    }
   ],
   "source": [
    "sorted(female_cents, key=lambda x: x[0], reverse=True)[0:10]"
   ]
  },
  {
   "cell_type": "markdown",
   "metadata": {},
   "source": [
    "## By Gender"
   ]
  },
  {
   "cell_type": "code",
   "execution_count": 37,
   "metadata": {
    "collapsed": false
   },
   "outputs": [],
   "source": [
    "tests = {}\n",
    "for cent in centr_measures:\n",
    "    \n",
    "    male_cent, female_cent = [], []\n",
    "    \n",
    "    for script, d in data.items():\n",
    "        G = d['graph']    \n",
    "        male_cent.extend([G.node[i][cent] for i in G.nodes() if G.node[i]['gender'] == 'male'])\n",
    "        female_cent.extend([G.node[i][cent] for i in G.nodes() if G.node[i]['gender'] == 'female'])\n",
    "    \n",
    "    #Remove nans\n",
    "    male_cent, female_cent = np.array(male_cent), np.array(female_cent)\n",
    "    male_cent = male_cent[~np.isnan(male_cent)]\n",
    "    female_cent = female_cent[~np.isnan(female_cent)]\n",
    "\n",
    "    tests[cent] = sp.stats.ttest_ind(male_cent, female_cent, equal_var = False) #Welch’s t-test\n"
   ]
  },
  {
   "cell_type": "code",
   "execution_count": 38,
   "metadata": {
    "collapsed": false
   },
   "outputs": [
    {
     "data": {
      "text/plain": [
       "[('betweenness_cent',\n",
       "  Ttest_indResult(statistic=3.8572208376848756, pvalue=0.00011572014861540153)),\n",
       " ('pagerank_cent',\n",
       "  Ttest_indResult(statistic=-3.1812155459681355, pvalue=0.0014741102505456153))]"
      ]
     },
     "execution_count": 38,
     "metadata": {},
     "output_type": "execute_result"
    }
   ],
   "source": [
    "# Using Benjamin-Hochberg's method\n",
    "res_2 = sorted(tests.items(), key = lambda x: x[1].pvalue)\n",
    "m = len(res_2)\n",
    "\n",
    "i = 1\n",
    "while i < len(res_2) + 1:\n",
    "    if res_2[i - 1][1].pvalue > i / m * 0.05:\n",
    "        break\n",
    "    i = i + 1\n",
    "        \n",
    "res_2[:(i - 1)]"
   ]
  },
  {
   "cell_type": "markdown",
   "metadata": {},
   "source": [
    "### Split by genre"
   ]
  },
  {
   "cell_type": "code",
   "execution_count": 61,
   "metadata": {
    "collapsed": false
   },
   "outputs": [
    {
     "data": {
      "text/html": [
       "<div>\n",
       "<table border=\"1\" class=\"dataframe\">\n",
       "  <thead>\n",
       "    <tr style=\"text-align: right;\">\n",
       "      <th></th>\n",
       "      <th>genre</th>\n",
       "      <th>centrality</th>\n",
       "      <th>gender</th>\n",
       "      <th>value</th>\n",
       "    </tr>\n",
       "  </thead>\n",
       "  <tbody>\n",
       "    <tr>\n",
       "      <th>0</th>\n",
       "      <td>Drama</td>\n",
       "      <td>degree_cent</td>\n",
       "      <td>female</td>\n",
       "      <td>0.230769</td>\n",
       "    </tr>\n",
       "    <tr>\n",
       "      <th>1</th>\n",
       "      <td>Mystery</td>\n",
       "      <td>degree_cent</td>\n",
       "      <td>female</td>\n",
       "      <td>0.230769</td>\n",
       "    </tr>\n",
       "    <tr>\n",
       "      <th>2</th>\n",
       "      <td>Thriller</td>\n",
       "      <td>degree_cent</td>\n",
       "      <td>female</td>\n",
       "      <td>0.230769</td>\n",
       "    </tr>\n",
       "    <tr>\n",
       "      <th>3</th>\n",
       "      <td>Drama</td>\n",
       "      <td>degree_cent</td>\n",
       "      <td>male</td>\n",
       "      <td>0.615385</td>\n",
       "    </tr>\n",
       "    <tr>\n",
       "      <th>4</th>\n",
       "      <td>Mystery</td>\n",
       "      <td>degree_cent</td>\n",
       "      <td>male</td>\n",
       "      <td>0.615385</td>\n",
       "    </tr>\n",
       "  </tbody>\n",
       "</table>\n",
       "</div>"
      ],
      "text/plain": [
       "      genre   centrality  gender     value\n",
       "0     Drama  degree_cent  female  0.230769\n",
       "1   Mystery  degree_cent  female  0.230769\n",
       "2  Thriller  degree_cent  female  0.230769\n",
       "3     Drama  degree_cent    male  0.615385\n",
       "4   Mystery  degree_cent    male  0.615385"
      ]
     },
     "execution_count": 61,
     "metadata": {},
     "output_type": "execute_result"
    }
   ],
   "source": [
    "centr_byGenre = []\n",
    "for script, d in data.items():\n",
    "    G = d['graph']\n",
    "    genres = d['genres']\n",
    "        \n",
    "    for centr_t in centrality_measures:\n",
    "        centr_v = nx.get_node_attributes(G, centr_t)\n",
    "        genders = nx.get_node_attributes(G, 'gender')\n",
    "        \n",
    "        for k in genders:\n",
    "            if k in centr_v:\n",
    "                centr_byGenre.extend([(t, centr_t, genders[k], centr_v[k]) for t in genres])\n",
    "            else:\n",
    "                centr_byGenre.extend([(t, centr_t, genders[k], np.nan) for t in genres])\n",
    "                \n",
    "centr_byGenre = pd.DataFrame(centr_byGenre, columns = [\"genre\", \"centrality\", \"gender\", \"value\"])\n",
    "centr_byGenre.head()\n",
    "    "
   ]
  },
  {
   "cell_type": "code",
   "execution_count": 62,
   "metadata": {
    "collapsed": false
   },
   "outputs": [
    {
     "data": {
      "text/html": [
       "<div>\n",
       "<table border=\"1\" class=\"dataframe\">\n",
       "  <thead>\n",
       "    <tr style=\"text-align: right;\">\n",
       "      <th></th>\n",
       "      <th>genre</th>\n",
       "      <th>centrality</th>\n",
       "      <th>gender</th>\n",
       "      <th>value</th>\n",
       "    </tr>\n",
       "  </thead>\n",
       "  <tbody>\n",
       "    <tr>\n",
       "      <th>0</th>\n",
       "      <td>Drama</td>\n",
       "      <td>degree_cent</td>\n",
       "      <td>female</td>\n",
       "      <td>0.230769</td>\n",
       "    </tr>\n",
       "    <tr>\n",
       "      <th>1</th>\n",
       "      <td>Mystery</td>\n",
       "      <td>degree_cent</td>\n",
       "      <td>female</td>\n",
       "      <td>0.230769</td>\n",
       "    </tr>\n",
       "    <tr>\n",
       "      <th>2</th>\n",
       "      <td>Thriller</td>\n",
       "      <td>degree_cent</td>\n",
       "      <td>female</td>\n",
       "      <td>0.230769</td>\n",
       "    </tr>\n",
       "    <tr>\n",
       "      <th>3</th>\n",
       "      <td>Drama</td>\n",
       "      <td>degree_cent</td>\n",
       "      <td>male</td>\n",
       "      <td>0.615385</td>\n",
       "    </tr>\n",
       "    <tr>\n",
       "      <th>4</th>\n",
       "      <td>Mystery</td>\n",
       "      <td>degree_cent</td>\n",
       "      <td>male</td>\n",
       "      <td>0.615385</td>\n",
       "    </tr>\n",
       "  </tbody>\n",
       "</table>\n",
       "</div>"
      ],
      "text/plain": [
       "      genre   centrality  gender     value\n",
       "0     Drama  degree_cent  female  0.230769\n",
       "1   Mystery  degree_cent  female  0.230769\n",
       "2  Thriller  degree_cent  female  0.230769\n",
       "3     Drama  degree_cent    male  0.615385\n",
       "4   Mystery  degree_cent    male  0.615385"
      ]
     },
     "execution_count": 62,
     "metadata": {},
     "output_type": "execute_result"
    }
   ],
   "source": [
    "#Drop nan's\n",
    "centr_byGenre = centr_byGenre[(centr_byGenre.genre!=\"Documentary\")]\n",
    "centr_byGenre = centr_byGenre[(centr_byGenre.genre!=\"Short\")]\n",
    "centr_byGenre = centr_byGenre[(centr_byGenre.genre!=\"Reality-TV\")]\n",
    "\n",
    "centr_byGenre = centr_byGenre[(centr_byGenre.gender!=\"unknown\")]\n",
    "\n",
    "centr_byGenre = centr_byGenre.dropna()\n",
    "\n",
    "centr_byGenre.head()"
   ]
  },
  {
   "cell_type": "code",
   "execution_count": 63,
   "metadata": {
    "collapsed": false
   },
   "outputs": [],
   "source": [
    "res = centr_byGenre.groupby([\"centrality\", \"genre\"]).apply(lambda x: stats.ttest_ind(x.ix[x['gender'] == 'male', 'value'].values,\n",
    "                                                                     x.ix[x['gender'] == 'female', 'value'].values))"
   ]
  },
  {
   "cell_type": "markdown",
   "metadata": {},
   "source": [
    "__ There is a real difference in the centrality of characters in: __"
   ]
  },
  {
   "cell_type": "code",
   "execution_count": 92,
   "metadata": {
    "collapsed": false
   },
   "outputs": [
    {
     "name": "stdout",
     "output_type": "stream",
     "text": [
      "degree_cent\n",
      "Horror Ttest_indResult(statistic=-3.2818519347171673, pvalue=0.0010604448907446699)\n",
      "\n",
      "betweenness_cent\n",
      "Horror Ttest_indResult(statistic=-4.4196894732152261, pvalue=1.0762192050839886e-05)\n",
      "Drama Ttest_indResult(statistic=4.0141115272343946, pvalue=6.0336059004308011e-05)\n",
      "Comedy Ttest_indResult(statistic=3.5570755832364216, pvalue=0.0003801932560866106)\n",
      "\n",
      "closeness_cent\n",
      "Horror Ttest_indResult(statistic=-3.4837010213770698, pvalue=0.00051203560117389418)\n",
      "\n",
      "pagerank_cent\n",
      "Horror Ttest_indResult(statistic=-3.7184372138310744, pvalue=0.00020955032684054153)\n",
      "\n"
     ]
    }
   ],
   "source": [
    "# Using Benjamin-Hochberg's method\n",
    "bygenre = res.unstack(level=0)\n",
    "for centr_t in centrality_measures:\n",
    "    \n",
    "    tmp = zip(bygenre[centr_t].index, bygenre[centr_t].values)\n",
    "    \n",
    "    \n",
    "    \n",
    "    res_2 = sorted(tmp, key = lambda x: x[1].pvalue)\n",
    "    m = len(res_2)\n",
    "\n",
    "    i = 1\n",
    "    while i < len(res_2) + 1:\n",
    "        if res_2[i - 1][1].pvalue > i / m * 0.05:\n",
    "            break\n",
    "        i = i + 1\n",
    "\n",
    "    print(centr_t)\n",
    "    for g, ttest in res_2[:(i - 1)]:\n",
    "        print(g, ttest)\n",
    "    print()"
   ]
  },
  {
   "cell_type": "code",
   "execution_count": 102,
   "metadata": {
    "collapsed": false
   },
   "outputs": [
    {
     "data": {
      "image/png": "[encoded data removed]",
      "text/plain": [
       "<matplotlib.figure.Figure at 0x114506c88>"
      ]
     },
     "metadata": {},
     "output_type": "display_data"
    }
   ],
   "source": [
    "t = centr_byGenre[centr_byGenre.genre.isin(['Drama', 'Comedy', 'Horror'])]\n",
    "t = t[t.centrality == \"betweenness_cent\"]\n",
    "bplt = sns.boxplot(x = 'genre', y = 'value', hue = 'gender', data = t)\n",
    "bplt.axes.set_ylim([0, .3]);"
   ]
  },
  {
   "cell_type": "markdown",
   "metadata": {},
   "source": [
    "## By Race\n",
    "I can either agg by race (e.g., caucassian males get more important roles) or I could agg races by gender (e.g., latino women are more demanded than latino men)."
   ]
  },
  {
   "cell_type": "code",
   "execution_count": 108,
   "metadata": {
    "collapsed": false
   },
   "outputs": [
    {
     "data": {
      "text/html": [
       "<div>\n",
       "<table border=\"1\" class=\"dataframe\">\n",
       "  <thead>\n",
       "    <tr style=\"text-align: right;\">\n",
       "      <th></th>\n",
       "      <th>genre</th>\n",
       "      <th>centrality</th>\n",
       "      <th>gender</th>\n",
       "      <th>race</th>\n",
       "      <th>value</th>\n",
       "    </tr>\n",
       "  </thead>\n",
       "  <tbody>\n",
       "    <tr>\n",
       "      <th>0</th>\n",
       "      <td>Drama</td>\n",
       "      <td>degree_cent</td>\n",
       "      <td>female</td>\n",
       "      <td>unknown</td>\n",
       "      <td>0.230769</td>\n",
       "    </tr>\n",
       "    <tr>\n",
       "      <th>1</th>\n",
       "      <td>Mystery</td>\n",
       "      <td>degree_cent</td>\n",
       "      <td>female</td>\n",
       "      <td>unknown</td>\n",
       "      <td>0.230769</td>\n",
       "    </tr>\n",
       "    <tr>\n",
       "      <th>2</th>\n",
       "      <td>Thriller</td>\n",
       "      <td>degree_cent</td>\n",
       "      <td>female</td>\n",
       "      <td>unknown</td>\n",
       "      <td>0.230769</td>\n",
       "    </tr>\n",
       "    <tr>\n",
       "      <th>3</th>\n",
       "      <td>Drama</td>\n",
       "      <td>degree_cent</td>\n",
       "      <td>male</td>\n",
       "      <td>caucasian</td>\n",
       "      <td>0.615385</td>\n",
       "    </tr>\n",
       "    <tr>\n",
       "      <th>4</th>\n",
       "      <td>Mystery</td>\n",
       "      <td>degree_cent</td>\n",
       "      <td>male</td>\n",
       "      <td>caucasian</td>\n",
       "      <td>0.615385</td>\n",
       "    </tr>\n",
       "  </tbody>\n",
       "</table>\n",
       "</div>"
      ],
      "text/plain": [
       "      genre   centrality  gender       race     value\n",
       "0     Drama  degree_cent  female    unknown  0.230769\n",
       "1   Mystery  degree_cent  female    unknown  0.230769\n",
       "2  Thriller  degree_cent  female    unknown  0.230769\n",
       "3     Drama  degree_cent    male  caucasian  0.615385\n",
       "4   Mystery  degree_cent    male  caucasian  0.615385"
      ]
     },
     "execution_count": 108,
     "metadata": {},
     "output_type": "execute_result"
    }
   ],
   "source": [
    "# Agg by race\n",
    "centr_race_byGenre = []\n",
    "for script, d in data.items():\n",
    "    G = d['graph']\n",
    "    genres = d['genres']\n",
    "        \n",
    "    for centr_t in centrality_measures:\n",
    "        centr_v = nx.get_node_attributes(G, centr_t)\n",
    "        genders = nx.get_node_attributes(G, 'gender')\n",
    "        races = nx.get_node_attributes(G, 'race')\n",
    "        \n",
    "        for k in genders:\n",
    "            if k in centr_v:\n",
    "                centr_race_byGenre.extend([(t, centr_t, genders[k], races[k], centr_v[k]) for t in genres])\n",
    "            else:\n",
    "                centr_race_byGenre.extend([(t, centr_t, genders[k], races[k], np.nan) for t in genres])\n",
    "                \n",
    "centr_race_byGenre = pd.DataFrame(centr_race_byGenre, columns = [\"genre\", \"centrality\", \"gender\", \"race\", \"value\"])\n",
    "centr_race_byGenre.head()"
   ]
  },
  {
   "cell_type": "markdown",
   "metadata": {},
   "source": [
    "__ Analysis was moved to R __"
   ]
  },
  {
   "cell_type": "code",
   "execution_count": 109,
   "metadata": {
    "collapsed": true
   },
   "outputs": [],
   "source": [
    "# Save to use in R\n",
    "centr_race_byGenre.to_csv(\"../data/R/aggByRace.csv\")"
   ]
  },
  {
   "cell_type": "markdown",
   "metadata": {},
   "source": [
    "## By Age"
   ]
  },
  {
   "cell_type": "code",
   "execution_count": null,
   "metadata": {
    "collapsed": false
   },
   "outputs": [],
   "source": [
    "# WHO THE FUCK HAD >!00 YRS!?\n",
    "for script, d in data.items():\n",
    "    G = d['graph']\n",
    "    char_list = d['chars']\n",
    "    \n",
    "    for n in G.nodes():\n",
    "        if G.node[n]['age'] > 100:\n",
    "            print(script, char_list[n], G.node[n]['age'])"
   ]
  },
  {
   "cell_type": "code",
   "execution_count": null,
   "metadata": {
    "collapsed": false
   },
   "outputs": [],
   "source": [
    "# Agg by age\n",
    "\n",
    "aggByAge = []\n",
    "\n",
    "for script, d in data.items():\n",
    "    G = d['graph']\n",
    "    centrs = nx.betweenness_centrality(G)\n",
    "    \n",
    "    \n",
    "    for n in G.nodes():\n",
    "        aggByAge.append((G.node[n]['age'], centrs[n]))\n",
    "        \n",
    "aggByAge = pd.DataFrame(aggByAge, columns=['age', 'value'])\n",
    "aggByAge = aggByAge[aggByAge.age > 0]\n",
    "aggByAge.head()"
   ]
  },
  {
   "cell_type": "code",
   "execution_count": null,
   "metadata": {
    "collapsed": true
   },
   "outputs": [],
   "source": [
    "# Drop the guy with more than 100 yrs\n",
    "aggByAge = aggByAge[aggByAge.age < 100]"
   ]
  },
  {
   "cell_type": "code",
   "execution_count": null,
   "metadata": {
    "collapsed": false
   },
   "outputs": [],
   "source": [
    "stats.describe(aggByAge.age)"
   ]
  },
  {
   "cell_type": "code",
   "execution_count": null,
   "metadata": {
    "collapsed": false
   },
   "outputs": [],
   "source": [
    "# Make age groups\n",
    "aggByAge['ageGrp'] = aggByAge.age.apply(lambda x: (x // 15) * 15)\n",
    "aggByAge.groupby('ageGrp').agg([len, np.mean, np.std])"
   ]
  },
  {
   "cell_type": "code",
   "execution_count": null,
   "metadata": {
    "collapsed": false
   },
   "outputs": [],
   "source": [
    "ax = sns.regplot(x = \"age\", y = \"value\", data = aggByAge, fit_reg = False)"
   ]
  },
  {
   "cell_type": "markdown",
   "metadata": {
    "collapsed": true
   },
   "source": [
    "### By Age and Gender"
   ]
  },
  {
   "cell_type": "code",
   "execution_count": null,
   "metadata": {
    "collapsed": false
   },
   "outputs": [],
   "source": [
    "# Agg by age & gender\n",
    "\n",
    "aggByAgeGender = []\n",
    "\n",
    "for script, d in data.items():\n",
    "    G = d['graph']\n",
    "    centrs = nx.betweenness_centrality(G)\n",
    "    \n",
    "    \n",
    "    for n in G.nodes():\n",
    "        aggByAgeGender.append((G.node[n]['age'], G.node[n]['gender'], centrs[n]))\n",
    "        \n",
    "aggByAgeGender = pd.DataFrame(aggByAgeGender, columns=['age', 'gender', 'value'])\n",
    "aggByAgeGender = aggByAgeGender[aggByAgeGender.age > 0]\n",
    "aggByAgeGender = aggByAgeGender[aggByAgeGender.gender != 'unknown']\n",
    "\n",
    "aggByAgeGender.head()"
   ]
  },
  {
   "cell_type": "code",
   "execution_count": null,
   "metadata": {
    "collapsed": true
   },
   "outputs": [],
   "source": [
    "aggByAgeGender.to_csv(\"../data/R/aggByAgeGender.csv\")"
   ]
  },
  {
   "cell_type": "code",
   "execution_count": null,
   "metadata": {
    "collapsed": false
   },
   "outputs": [],
   "source": [
    "ax = sns.lmplot(x = \"age\", y = \"value\", hue = \"gender\", data = aggByAgeGender, fit_reg = False)"
   ]
  },
  {
   "cell_type": "code",
   "execution_count": null,
   "metadata": {
    "collapsed": false
   },
   "outputs": [],
   "source": [
    "#sns.boxplot(x = \"gender\", y = \"value\", hue = \"gender\", data = aggByAgeGender);"
   ]
  },
  {
   "cell_type": "code",
   "execution_count": null,
   "metadata": {
    "collapsed": false
   },
   "outputs": [],
   "source": [
    "ages_women = aggByAgeGender.ix[aggByAgeGender.gender == \"female\", \"age\"]\n",
    "ages_male = aggByAgeGender.ix[aggByAgeGender.gender == \"male\", \"age\"]\n",
    "\n",
    "#Remove nans\n",
    "male_deg, female_deg = np.array(ages_male), np.array(ages_women)\n",
    "male_deg = male_deg[~np.isnan(male_deg)]\n",
    "female_deg = female_deg[~np.isnan(female_deg)]\n",
    "\n",
    "ttest = sp.stats.ttest_ind(male_deg, female_deg, equal_var = False) #Welch’s t-test\n",
    "ttest"
   ]
  },
  {
   "cell_type": "code",
   "execution_count": null,
   "metadata": {
    "collapsed": true
   },
   "outputs": [],
   "source": [
    "# homoscedasticity\n",
    "# WTF??? Age is continuous "
   ]
  },
  {
   "cell_type": "code",
   "execution_count": null,
   "metadata": {
    "collapsed": false
   },
   "outputs": [],
   "source": [
    "#2-way ANOVA for differences\n",
    "\n",
    "mod = ols('value ~ C(gender) + age + C(gender):age',\n",
    "                data=aggByAgeGender).fit()\n",
    "                \n",
    "aov_table = sm.stats.anova_lm(mod, typ=2)\n",
    "print(aov_table)"
   ]
  },
  {
   "cell_type": "markdown",
   "metadata": {
    "collapsed": true
   },
   "source": [
    "### Controlling by genre"
   ]
  },
  {
   "cell_type": "code",
   "execution_count": null,
   "metadata": {
    "collapsed": true
   },
   "outputs": [],
   "source": [
    "res = {}\n",
    "for t in types:\n",
    "    male_age, female_age = [], []\n",
    "    for script, d in data.items():\n",
    "        \n",
    "        if t not in d['genres']:\n",
    "            continue \n",
    "            \n",
    "        G = d['graph']\n",
    "        #centralities = nx.betweenness_centrality(G)\n",
    "\n",
    "        male_age.extend([G.node[i]['age'] for i in G.nodes() if G.node[i]['gender'] == 'male'])\n",
    "        female_age.extend([G.node[i]['age'] for i in G.nodes() if G.node[i]['gender'] == 'female'])\n",
    "    \n",
    "    res[t] = {}\n",
    "    res[t]['male'] = male_age\n",
    "    res[t]['female'] = female_age"
   ]
  },
  {
   "cell_type": "code",
   "execution_count": null,
   "metadata": {
    "collapsed": false
   },
   "outputs": [],
   "source": [
    "# Pass into long format\n",
    "tmp = []\n",
    "for t, k in res.items():\n",
    "    for g, v in k.items():\n",
    "        for i in v:\n",
    "            tmp.append((t, g, i))\n",
    "\n",
    "tmp = pd.DataFrame(tmp, columns=[\"genre\", \"gender\", \"age\"])\n",
    "\n",
    "#Drop nan's\n",
    "tmp = tmp[(tmp.genre!=\"Documentary\")]\n",
    "tmp = tmp[(tmp.genre!=\"Short\")]\n",
    "tmp = tmp[(tmp.genre!=\"Reality-TV\")]\n",
    "\n",
    "# Drop zero age\n",
    "tmp = tmp[tmp.age > 0]\n",
    "\n",
    "tmp.head()"
   ]
  },
  {
   "cell_type": "code",
   "execution_count": null,
   "metadata": {
    "collapsed": false
   },
   "outputs": [],
   "source": [
    "sns.boxplot(x = \"genre\", y = \"age\", hue = \"gender\", data = tmp);"
   ]
  },
  {
   "cell_type": "code",
   "execution_count": null,
   "metadata": {
    "collapsed": true
   },
   "outputs": [],
   "source": [
    "res = {}\n",
    "for t in types:\n",
    "    male_deg = tmp.ix[(tmp.genre == t) & (tmp.gender == \"male\"), \"age\"]\n",
    "    female_deg = tmp.ix[(tmp.genre == t) & (tmp.gender == \"female\"), \"age\"]\n",
    "    \n",
    "    #Remove nans\n",
    "    male_deg, female_deg = np.array(male_deg), np.array(female_deg)\n",
    "    male_deg = male_deg[~np.isnan(male_deg)]\n",
    "    female_deg = female_deg[~np.isnan(female_deg)]\n",
    "\n",
    "    ttest = sp.stats.ttest_ind(male_deg, female_deg, equal_var = False) # Welch’s t-test\n",
    "\n",
    "    if not np.isnan(ttest.pvalue):\n",
    "        res[t] = ttest\n",
    "    \n",
    "res;"
   ]
  },
  {
   "cell_type": "code",
   "execution_count": null,
   "metadata": {
    "collapsed": false
   },
   "outputs": [],
   "source": [
    "# Using Benjamin-Hochberg's method\n",
    "res_2 = sorted(res.items(), key = lambda x: x[1].pvalue)\n",
    "m = len(res_2)\n",
    "\n",
    "i = 1\n",
    "while i < len(res_2) + 1:\n",
    "    if res_2[i - 1][1].pvalue > i / m * 0.05:\n",
    "        break\n",
    "    i = i + 1\n",
    "        \n",
    "res_2[:(i - 1)]"
   ]
  },
  {
   "cell_type": "code",
   "execution_count": null,
   "metadata": {
    "collapsed": false
   },
   "outputs": [],
   "source": [
    "set(types) - set(map(lambda x: x[0], res_2))"
   ]
  },
  {
   "cell_type": "code",
   "execution_count": null,
   "metadata": {
    "collapsed": true
   },
   "outputs": [],
   "source": []
  }
 ],
 "metadata": {
  "anaconda-cloud": {},
  "kernelspec": {
   "display_name": "Python [default]",
   "language": "python",
   "name": "python3"
  },
  "language_info": {
   "codemirror_mode": {
    "name": "ipython",
    "version": 3
   },
   "file_extension": ".py",
   "mimetype": "text/x-python",
   "name": "python",
   "nbconvert_exporter": "python",
   "pygments_lexer": "ipython3",
   "version": "3.5.2"
  }
 },
 "nbformat": 4,
 "nbformat_minor": 0
}
