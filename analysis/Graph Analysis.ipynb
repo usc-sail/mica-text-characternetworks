{
 "cells": [
  {
   "cell_type": "code",
   "execution_count": 1,
   "metadata": {
    "collapsed": false
   },
   "outputs": [],
   "source": [
    "%matplotlib inline\n",
    "from utils import read, createGraph, readGenders, functionals\n",
    "from glob import iglob as glob\n",
    "from os.path import exists, basename\n",
    "import pandas as pd\n",
    "import matplotlib.pyplot as plt\n",
    "import seaborn as sns\n",
    "from collections import defaultdict, Counter\n",
    "import numpy as np\n",
    "import scipy as sp\n",
    "import pickle\n",
    "import warnings\n",
    "import community\n",
    "import networkx as nx\n",
    "import itertools\n",
    "import scipy as sp \n",
    "import logging\n",
    "\n",
    "plt.rcParams[\"figure.figsize\"] = (10, 8)"
   ]
  },
  {
   "cell_type": "code",
   "execution_count": 2,
   "metadata": {
    "collapsed": true
   },
   "outputs": [],
   "source": [
    "logging.basicConfig(format = \"%(asctime)-15s %(message)s\", level = logging.DEBUG)"
   ]
  },
  {
   "cell_type": "code",
   "execution_count": 3,
   "metadata": {
    "collapsed": false
   },
   "outputs": [],
   "source": [
    "th = 2\n",
    "data_dir = \"../data/utterances_with_charnames/*\"\n",
    "info_dir = \"../data/character_info/\"\n",
    "genre_dir = \"../data/genres/*\""
   ]
  },
  {
   "cell_type": "markdown",
   "metadata": {},
   "source": [
    "## Read genres"
   ]
  },
  {
   "cell_type": "code",
   "execution_count": 4,
   "metadata": {
    "collapsed": false
   },
   "outputs": [],
   "source": [
    "genres = {}\n",
    "for file in glob(genre_dir):\n",
    "    with open(file) as inpt:\n",
    "        try:\n",
    "            next(inpt)\n",
    "            next(inpt)\n",
    "            next(inpt)\n",
    "\n",
    "            genre_list = next(inpt).strip().split(\": \")[1]\n",
    "\n",
    "            genres[basename(file).replace('.tsv', '.txt')] = list(map(lambda x: x.replace(' ', ''), genre_list.split(\",\")))\n",
    "        except:\n",
    "            continue"
   ]
  },
  {
   "cell_type": "markdown",
   "metadata": {
    "collapsed": true
   },
   "source": [
    "## Read all scripts"
   ]
  },
  {
   "cell_type": "code",
   "execution_count": 5,
   "metadata": {
    "collapsed": false
   },
   "outputs": [
    {
     "name": "stderr",
     "output_type": "stream",
     "text": [
      "/Users/victor/miniconda3/lib/python3.5/site-packages/ipykernel/__main__.py:15: DeprecationWarning: The 'warn' function is deprecated, use 'warning' instead\n",
      "WARNING:root:Info for 3_kings_spoils_of_war.txt not found\n",
      "WARNING:root:Info for a_dry_white_season.txt not found\n",
      "WARNING:root:Info for arac_attack_released_as_eight_legged_freaks.txt not found\n",
      "WARNING:root:Info for batman_2_unproduced.txt not found\n",
      "WARNING:root:Info for box_the.txt not found\n",
      "WARNING:root:Info for commando.txt not found\n",
      "WARNING:root:Info for committed_filmed_as_crazy_love.txt not found\n",
      "WARNING:root:Info for crazy_love_was_committed.txt not found\n",
      "WARNING:root:Info for dances_with_wolves.txt not found\n",
      "WARNING:root:Info for death_at_a_funeral.txt not found\n",
      "WARNING:root:Info for deep_rising.txt not found\n",
      "WARNING:root:Info for despicable_me_2.txt not found\n",
      "WARNING:root:Info for drive.txt not found\n",
      "WARNING:root:Info for eight_legged_freaks_originally_titled_arac_attack.txt not found\n",
      "WARNING:root:Info for english_patient_the.txt not found\n",
      "WARNING:root:Info for french_connection_the.txt not found\n",
      "WARNING:root:Info for from_here_to_eternity.txt not found\n",
      "WARNING:root:Info for grifters_the.txt not found\n",
      "WARNING:root:Info for hanna.txt not found\n",
      "WARNING:root:Info for hard_to_kill.txt not found\n",
      "WARNING:root:Info for hellraiser_deader.txt not found\n",
      "WARNING:root:Info for hellraiser_hellseeker.txt not found\n",
      "WARNING:root:Info for hudson_hawk.txt not found\n",
      "WARNING:root:Info for imaginarium_of_doctor_parnassus_the.txt not found\n",
      "WARNING:root:Info for informant_the.txt not found\n",
      "WARNING:root:Info for iron_lady_the.txt not found\n",
      "WARNING:root:Info for jacket_the.txt not found\n",
      "WARNING:root:Info for jacobs_ladder.txt not found\n",
      "WARNING:root:Info for jane_eyre.txt not found\n",
      "WARNING:root:Info for king_of_comedy_the.txt not found\n",
      "WARNING:root:Info for les_tontons_flingueurs.txt not found\n",
      "WARNING:root:Info for man_on_fire.txt not found\n",
      "WARNING:root:Info for man_trouble.txt not found\n",
      "WARNING:root:Info for men_in_black_3.txt not found\n",
      "WARNING:root:Info for moneyball.txt not found\n",
      "WARNING:root:Info for mulan.txt not found\n",
      "WARNING:root:Info for mulholland_drive.txt not found\n",
      "WARNING:root:Info for mummy_the.txt not found\n",
      "WARNING:root:Info for nashville.txt not found\n",
      "WARNING:root:Info for nightmare_on_elm_street_the_final_chapter.txt not found\n",
      "WARNING:root:Info for one_saliva_bubble.txt not found\n",
      "WARNING:root:Info for out_of_sight.txt not found\n",
      "WARNING:root:Info for panic_room.txt not found\n",
      "WARNING:root:Info for peggy_sue_got_married.txt not found\n",
      "WARNING:root:Info for petulia.txt not found\n",
      "WARNING:root:Info for power_of_one_the.txt not found\n",
      "WARNING:root:Info for rko_281.txt not found\n",
      "WARNING:root:Info for scott_pilgrim_vs_the_world.txt not found\n",
      "WARNING:root:Info for shawshank_redemption_the.txt not found\n",
      "WARNING:root:Info for sunshine_cleaning.txt not found\n",
      "WARNING:root:Info for the_flintstones.txt not found\n",
      "WARNING:root:Info for the_island_of_dr._moreau.txt not found\n",
      "WARNING:root:Info for the_piano.txt not found\n",
      "WARNING:root:Info for the_three_musketeers.txt not found\n",
      "WARNING:root:Info for top_gun.txt not found\n",
      "WARNING:root:Info for white_jazz.txt not found\n",
      "WARNING:root:Info for whos_your_daddy.txt not found\n",
      "WARNING:root:Info for wild_things_diamonds_in_the_rough.txt not found\n",
      "WARNING:root:Info for xmen.txt not found\n",
      "WARNING:root:Info for xmen_origins_wolverine.txt not found\n",
      "WARNING:root:Info for zerophilia.txt not found\n"
     ]
    }
   ],
   "source": [
    "#genres = pickle.load(open(genre_file, 'rb'))\n",
    "\n",
    "data = {}\n",
    "for script in glob(data_dir):\n",
    "    \n",
    "    _, char_list, adj = read(script, threshold = th)\n",
    "\n",
    "    gender_file = info_dir + basename(script)\n",
    "    if exists(gender_file):\n",
    "        gens, races = readGenders(gender_file)\n",
    "    else:\n",
    "        gens = defaultdict(lambda: 'unknown')\n",
    "        races = defaultdict(lambda: 'unknown')\n",
    "        \n",
    "        logging.warn(\"Info for {} not found\".format(basename(script)))\n",
    "\n",
    "    G = createGraph(char_list, adj, gens, races)\n",
    "\n",
    "\n",
    "    key = basename(script)\n",
    "\n",
    "    data[key] = {}\n",
    "    data[key]['graph'] = G\n",
    "    data[key]['chars'] = char_list\n",
    "    data[key]['genres'] = genres.get(key, [])\n",
    "    \n",
    "#     if isinstance(data[key]['genres'], np.ndarray):\n",
    "#         data[key]['genres'] = list(data[key]['genres'])\n",
    "#     elif isinstance(data[key]['genres'], str):\n",
    "#         data[key]['genres'] = [data[key]['genres']]"
   ]
  },
  {
   "cell_type": "code",
   "execution_count": 6,
   "metadata": {
    "collapsed": false
   },
   "outputs": [
    {
     "name": "stdout",
     "output_type": "stream",
     "text": [
      "Counter({'Drama': 650, 'Thriller': 404, 'Comedy': 336, 'Action': 282, 'Crime': 273, 'Romance': 231, 'Adventure': 195, 'Sci-Fi': 178, 'Mystery': 171, 'Horror': 137, 'Fantasy': 125, 'Biography': 75, 'History': 71, 'Family': 53, 'War': 42, 'Animation': 37, 'Sport': 35, 'Music': 25, 'Musical': 19, 'Western': 19, 'Short': 9, 'Documentary': 4, 'Film-Noir': 4})\n"
     ]
    }
   ],
   "source": [
    "types = Counter([y for x in [d['genres'] for script, d in data.items()] for y in x])\n",
    "print(types)\n",
    "types = list(types.keys())"
   ]
  },
  {
   "cell_type": "code",
   "execution_count": 13,
   "metadata": {
    "collapsed": false
   },
   "outputs": [
    {
     "data": {
      "text/plain": [
       "[0,\n",
       " 1,\n",
       " 2,\n",
       " 3,\n",
       " 4,\n",
       " 5,\n",
       " 6,\n",
       " 7,\n",
       " 8,\n",
       " 9,\n",
       " 10,\n",
       " 11,\n",
       " 12,\n",
       " 13,\n",
       " 14,\n",
       " 15,\n",
       " 16,\n",
       " 17,\n",
       " 18,\n",
       " 19,\n",
       " 20,\n",
       " 21,\n",
       " 22,\n",
       " 23,\n",
       " 24,\n",
       " 25,\n",
       " 26,\n",
       " 27,\n",
       " 28,\n",
       " 29]"
      ]
     },
     "execution_count": 13,
     "metadata": {},
     "output_type": "execute_result"
    }
   ],
   "source": [
    "G = data['12_monkeys.txt']['graph']\n",
    "[x for x in G.nodes_iter()]"
   ]
  },
  {
   "cell_type": "code",
   "execution_count": null,
   "metadata": {
    "collapsed": true
   },
   "outputs": [],
   "source": [
    "xkcd_colors = sns.xkcd_palette([\"grass green\", \"sand\", \"blue\", \"light red\", \"cerulean\",\n",
    "                                \"red\", \"light blue\", \"teal\", \"orange\", \"light green\",\n",
    "                                \"magenta\", \"yellow\", \"sky blue\", \"grey\", \"cobalt\",\n",
    "                                \"grass\", \"algae green\", \"coral\", \"cerise\", \"steel\",\n",
    "                                \"hot purple\", \"mango\", \"pale lime\", \"rouge\"])\n",
    "colors = itertools.cycle(xkcd_colors)"
   ]
  },
  {
   "cell_type": "markdown",
   "metadata": {},
   "source": [
    "# Pre-check\n",
    "In [GENDER BIAS WITHOUT BORDERS](http://seejane.org/wp-content/uploads/gender-bias-without-borders-executive-summary.pdf), there is a ratio of 2.25 men for every women on screen (women = $30.9$%). Lets check our numbers."
   ]
  },
  {
   "cell_type": "code",
   "execution_count": null,
   "metadata": {
    "collapsed": false
   },
   "outputs": [],
   "source": [
    "total, males, females = 0, 0, 0\n",
    "for _, d in data.items():\n",
    "    G = d['graph']\n",
    "    \n",
    "    for i in G.nodes():\n",
    "        if G.node[i]['gender'] == 'male':\n",
    "            males += 1\n",
    "        elif G.node[i]['gender'] == 'female':\n",
    "            females += 1\n",
    "        \n",
    "        total += 1\n",
    "        \n",
    "print(\"total: {}\".format(total))\n",
    "print(\"males: {:.2f}%\".format(float(males) / total))\n",
    "print(\"females: {:.2f}%\".format(float(females) / total))\n"
   ]
  },
  {
   "cell_type": "markdown",
   "metadata": {},
   "source": [
    "What if we drop unknown?... shouldn't matter right?"
   ]
  },
  {
   "cell_type": "code",
   "execution_count": null,
   "metadata": {
    "collapsed": false
   },
   "outputs": [],
   "source": [
    "print(\"males: {:.2f}%\".format(float(males) / (males + females)))\n",
    "print(\"females: {:.2f}%\".format(float(females) / (males + females)))"
   ]
  },
  {
   "cell_type": "markdown",
   "metadata": {},
   "source": [
    "# Graph analysis"
   ]
  },
  {
   "cell_type": "markdown",
   "metadata": {
    "collapsed": true
   },
   "source": [
    "# Degree centrality"
   ]
  },
  {
   "cell_type": "markdown",
   "metadata": {},
   "source": [
    "#### Average degree"
   ]
  },
  {
   "cell_type": "code",
   "execution_count": null,
   "metadata": {
    "collapsed": false
   },
   "outputs": [],
   "source": [
    "warnings.simplefilter(\"ignore\")\n",
    "male_deg, female_deg = [], []\n",
    "for script, d in data.items():\n",
    "    G = d['graph']\n",
    "    degrees = nx.degree(G)\n",
    "    \n",
    "    male_deg.append(np.mean([degrees[i] for i in G.nodes() if G.node[i]['gender'] == 'male']))\n",
    "    female_deg.append(np.mean([degrees[i] for i in G.nodes() if G.node[i]['gender'] == 'female']))"
   ]
  },
  {
   "cell_type": "code",
   "execution_count": null,
   "metadata": {
    "collapsed": false
   },
   "outputs": [],
   "source": [
    "#Remove nans\n",
    "\n",
    "male_deg = np.array(male_deg)\n",
    "female_deg = np.array(female_deg)\n",
    "\n",
    "male_deg = male_deg[~np.isnan(male_deg)]\n",
    "female_deg = female_deg[~np.isnan(female_deg)]"
   ]
  },
  {
   "cell_type": "code",
   "execution_count": null,
   "metadata": {
    "collapsed": false
   },
   "outputs": [],
   "source": [
    "sp.stats.describe([y for x in [list(nx.degree(d['graph']).values()) for script, d in data.items()]\n",
    "     for y in x])"
   ]
  },
  {
   "cell_type": "code",
   "execution_count": null,
   "metadata": {
    "collapsed": false
   },
   "outputs": [],
   "source": [
    "sns.distplot(male_deg, hist = False, label = \"male\");\n",
    "sns.distplot(female_deg, hist = False, label = \"female\");\n",
    "plt.legend();\n",
    "plt.xlabel(\"average degree\");"
   ]
  },
  {
   "cell_type": "markdown",
   "metadata": {},
   "source": [
    "There is no real difference in the number of connections between men and women."
   ]
  },
  {
   "cell_type": "code",
   "execution_count": null,
   "metadata": {
    "collapsed": false
   },
   "outputs": [],
   "source": [
    "sp.stats.ttest_ind(male_deg, female_deg)"
   ]
  },
  {
   "cell_type": "markdown",
   "metadata": {},
   "source": [
    "### Based on Genre"
   ]
  },
  {
   "cell_type": "code",
   "execution_count": null,
   "metadata": {
    "collapsed": false
   },
   "outputs": [],
   "source": [
    "res = {}\n",
    "for t in types:\n",
    "    male_deg, female_deg = [], []\n",
    "    for script, d in data.items():\n",
    "        \n",
    "        if t not in d['genres']:\n",
    "            continue \n",
    "            \n",
    "        G = d['graph']\n",
    "        degrees = nx.degree(G)\n",
    "\n",
    "        male_deg.append(np.mean([degrees[i] for i in G.nodes() if G.node[i]['gender'] == 'male']))\n",
    "        female_deg.append(np.mean([degrees[i] for i in G.nodes() if G.node[i]['gender'] == 'female']))\n",
    "    \n",
    "    res[t] = {}\n",
    "    res[t]['male'] = male_deg\n",
    "    res[t]['female'] = female_deg"
   ]
  },
  {
   "cell_type": "code",
   "execution_count": null,
   "metadata": {
    "collapsed": false
   },
   "outputs": [],
   "source": [
    "# Pass into long format\n",
    "tmp = []\n",
    "for t, k in res.items():\n",
    "    for g, v in k.items():\n",
    "        for i in v:\n",
    "            tmp.append((t, g, i))\n",
    "\n",
    "tmp = pd.DataFrame(tmp, columns=[\"genre\", \"gender\", \"value\"])\n",
    "\n",
    "#Drop nan's\n",
    "tmp = tmp[(tmp.genre!=\"Documentary\")]\n",
    "tmp = tmp[(tmp.genre!=\"Short\")]\n",
    "tmp = tmp[(tmp.genre!=\"Reality-TV\")]\n",
    "\n",
    "tmp.head()"
   ]
  },
  {
   "cell_type": "code",
   "execution_count": null,
   "metadata": {
    "collapsed": false
   },
   "outputs": [],
   "source": [
    "g = sns.FacetGrid(tmp, col = \"genre\", row = \"gender\")\n",
    "g = g.map(sns.distplot, \"value\", hist=False)"
   ]
  },
  {
   "cell_type": "code",
   "execution_count": null,
   "metadata": {
    "collapsed": false
   },
   "outputs": [],
   "source": [
    "res = {}\n",
    "for t in types:\n",
    "    male_deg = tmp.ix[(tmp.genre == t) & (tmp.gender == \"male\"), \"value\"]\n",
    "    female_deg = tmp.ix[(tmp.genre == t) & (tmp.gender == \"female\"), \"value\"]\n",
    "    \n",
    "    #Remove nans\n",
    "    male_deg, female_deg = np.array(male_deg), np.array(female_deg)\n",
    "    male_deg = male_deg[~np.isnan(male_deg)]\n",
    "    female_deg = female_deg[~np.isnan(female_deg)]\n",
    "\n",
    "    ttest = sp.stats.ttest_ind(male_deg, female_deg)\n",
    "\n",
    "    if not np.isnan(ttest.pvalue):\n",
    "        res[t] = ttest\n",
    "    \n",
    "res;"
   ]
  },
  {
   "cell_type": "markdown",
   "metadata": {},
   "source": [
    "__There are no significant differences between the degrees based on gender.__"
   ]
  },
  {
   "cell_type": "code",
   "execution_count": null,
   "metadata": {
    "collapsed": false
   },
   "outputs": [],
   "source": [
    "# Using Benjamin-Hochberg's method\n",
    "res_2 = sorted(res.items(), key = lambda x: x[1].pvalue)\n",
    "m = len(res_2)\n",
    "\n",
    "i = 1\n",
    "while i < len(res_2) + 1:\n",
    "    if res_2[i - 1][1].pvalue > i / m * 0.05:\n",
    "        break\n",
    "    i = i + 1\n",
    "        \n",
    "res_2[:(i - 1)]"
   ]
  },
  {
   "cell_type": "markdown",
   "metadata": {},
   "source": [
    "\n",
    "# Betweeness Centrality"
   ]
  },
  {
   "cell_type": "markdown",
   "metadata": {},
   "source": [
    "#### Average centrality"
   ]
  },
  {
   "cell_type": "code",
   "execution_count": null,
   "metadata": {
    "collapsed": false
   },
   "outputs": [],
   "source": [
    "male_cent, female_cent = [], []\n",
    "for script, d in data.items():\n",
    "    G = d['graph']\n",
    "    cents = nx.betweenness_centrality(G)\n",
    "    \n",
    "    male_cent.append(np.mean([cents[i] for i in G.nodes() if G.node[i]['gender'] == 'male']))\n",
    "    female_cent.append(np.mean([cents[i] for i in G.nodes() if G.node[i]['gender'] == 'female']))"
   ]
  },
  {
   "cell_type": "code",
   "execution_count": null,
   "metadata": {
    "collapsed": true
   },
   "outputs": [],
   "source": [
    "#Remove nans\n",
    "male_cent, female_cent = np.array(male_cent), np.array(female_cent)\n",
    "male_cent = male_cent[~np.isnan(male_cent)]\n",
    "female_cent = female_cent[~np.isnan(female_cent)]"
   ]
  },
  {
   "cell_type": "markdown",
   "metadata": {},
   "source": [
    "Just a quick note, this is a _density_, not a probability. The AUC adds up to 1. "
   ]
  },
  {
   "cell_type": "code",
   "execution_count": null,
   "metadata": {
    "collapsed": false
   },
   "outputs": [],
   "source": [
    "sns.distplot(male_cent, hist = False, label = \"male\");\n",
    "sns.distplot(female_cent, hist = False, label = \"female\");\n",
    "plt.legend();\n",
    "plt.xlabel(\"average centrality\");"
   ]
  },
  {
   "cell_type": "markdown",
   "metadata": {
    "collapsed": true
   },
   "source": [
    "In this case, there is a significant difference in the average centrality of male characters and female characters ($t(?) = 4.8805,\\, p < 0.01$). In most of the scripts, males occupy a more central role than females."
   ]
  },
  {
   "cell_type": "code",
   "execution_count": null,
   "metadata": {
    "collapsed": false
   },
   "outputs": [],
   "source": [
    "sp.stats.ttest_ind(male_cent, female_cent)"
   ]
  },
  {
   "cell_type": "markdown",
   "metadata": {},
   "source": [
    "### Condition on Genre"
   ]
  },
  {
   "cell_type": "code",
   "execution_count": null,
   "metadata": {
    "collapsed": false
   },
   "outputs": [],
   "source": [
    "res = {}\n",
    "for t in types:\n",
    "    male_centr, female_centr = [], []\n",
    "    for script, d in data.items():\n",
    "        \n",
    "        if t not in d['genres']:\n",
    "            continue \n",
    "            \n",
    "        G = d['graph']\n",
    "        centralities = nx.betweenness_centrality(G)\n",
    "\n",
    "        male_centr.append(np.mean([centralities[i] for i in G.nodes() if G.node[i]['gender'] == 'male']))\n",
    "        female_centr.append(np.mean([centralities[i] for i in G.nodes() if G.node[i]['gender'] == 'female']))\n",
    "    \n",
    "    res[t] = {}\n",
    "    res[t]['male'] = male_centr\n",
    "    res[t]['female'] = female_centr"
   ]
  },
  {
   "cell_type": "code",
   "execution_count": null,
   "metadata": {
    "collapsed": false
   },
   "outputs": [],
   "source": [
    "# Pass into long format\n",
    "tmp = []\n",
    "for t, k in res.items():\n",
    "    for g, v in k.items():\n",
    "        for i in v:\n",
    "            tmp.append((t, g, i))\n",
    "\n",
    "tmp = pd.DataFrame(tmp, columns=[\"genre\", \"gender\", \"value\"])\n",
    "\n",
    "#Drop nan's\n",
    "tmp = tmp[(tmp.genre!=\"Documentary\")]\n",
    "tmp = tmp[(tmp.genre!=\"Short\")]\n",
    "tmp = tmp[(tmp.genre!=\"Reality-TV\")]\n",
    "\n",
    "tmp.head()"
   ]
  },
  {
   "cell_type": "code",
   "execution_count": null,
   "metadata": {
    "collapsed": false
   },
   "outputs": [],
   "source": [
    "g = sns.FacetGrid(tmp, col = \"genre\", row = \"gender\")\n",
    "g = g.map(sns.distplot, \"value\", hist=False)"
   ]
  },
  {
   "cell_type": "code",
   "execution_count": null,
   "metadata": {
    "collapsed": false
   },
   "outputs": [],
   "source": [
    "res = {}\n",
    "for t in types:\n",
    "    male_deg = tmp.ix[(tmp.genre == t) & (tmp.gender == \"male\"), \"value\"]\n",
    "    female_deg = tmp.ix[(tmp.genre == t) & (tmp.gender == \"female\"), \"value\"]\n",
    "    \n",
    "    #Remove nans\n",
    "    male_deg, female_deg = np.array(male_deg), np.array(female_deg)\n",
    "    male_deg = male_deg[~np.isnan(male_deg)]\n",
    "    female_deg = female_deg[~np.isnan(female_deg)]\n",
    "\n",
    "    ttest = sp.stats.ttest_ind(male_deg, female_deg)\n",
    "\n",
    "    if not np.isnan(ttest.pvalue):\n",
    "        res[t] = ttest\n",
    "    \n",
    "res;"
   ]
  },
  {
   "cell_type": "markdown",
   "metadata": {},
   "source": [
    "__ There is a real difference in the centrality of characters in: __"
   ]
  },
  {
   "cell_type": "code",
   "execution_count": null,
   "metadata": {
    "collapsed": false
   },
   "outputs": [],
   "source": [
    "# Using Benjamin-Hochberg's method\n",
    "res_2 = sorted(res.items(), key = lambda x: x[1].pvalue)\n",
    "m = len(res_2)\n",
    "\n",
    "i = 1\n",
    "while i < len(res_2) + 1:\n",
    "    if res_2[i - 1][1].pvalue > i / m * 0.05:\n",
    "        break\n",
    "    i = i + 1\n",
    "        \n",
    "res_2[:(i - 1)]"
   ]
  },
  {
   "cell_type": "markdown",
   "metadata": {
    "collapsed": true
   },
   "source": [
    "## Communities and Modularities\n",
    "\n",
    "Extract the community structure and modularity measurement of each graph using Louvain Method. The Louvain Method was created by Blondel et. al [https://arxiv.org/abs/0803.0476]"
   ]
  },
  {
   "cell_type": "code",
   "execution_count": null,
   "metadata": {
    "collapsed": false
   },
   "outputs": [],
   "source": [
    "communities = []\n",
    "modularities = []\n",
    "\n",
    "for t in types:\n",
    "    for script, d in data.items():\n",
    "        if t not in d['genres']:\n",
    "            continue\n",
    "        \n",
    "        G = d['graph']\n",
    "        parts = community.best_partition(G)\n",
    "        q = community.modularity(parts, G)\n",
    "        \n",
    "        communities.append((t, len(set(parts.values()))))\n",
    "        modularities.append((t, q))\n",
    "        \n",
    "communities = pd.DataFrame(communities, columns=[\"genre\", \"communities\"])\n",
    "modularities = pd.DataFrame(modularities, columns=[\"genre\", \"modularity\"])"
   ]
  },
  {
   "cell_type": "code",
   "execution_count": null,
   "metadata": {
    "collapsed": false
   },
   "outputs": [],
   "source": [
    "communities.communities.describe()"
   ]
  },
  {
   "cell_type": "code",
   "execution_count": null,
   "metadata": {
    "collapsed": false
   },
   "outputs": [],
   "source": [
    "communities.groupby(\"genre\").apply(np.mean).sort_values(by=\"communities\")"
   ]
  },
  {
   "cell_type": "code",
   "execution_count": null,
   "metadata": {
    "collapsed": false
   },
   "outputs": [],
   "source": [
    "axs = sns.boxplot(x = \"genre\", y = \"communities\", data = communities, palette=xkcd_colors)\n",
    "for item in axs.get_xticklabels():\n",
    "    item.set_rotation(90)"
   ]
  },
  {
   "cell_type": "code",
   "execution_count": null,
   "metadata": {
    "collapsed": false
   },
   "outputs": [],
   "source": [
    "modularities.modularity.describe()"
   ]
  },
  {
   "cell_type": "code",
   "execution_count": null,
   "metadata": {
    "collapsed": false
   },
   "outputs": [],
   "source": [
    "modularities.groupby(\"genre\").apply(np.mean).sort_values(by=\"modularity\")"
   ]
  },
  {
   "cell_type": "code",
   "execution_count": null,
   "metadata": {
    "collapsed": false
   },
   "outputs": [],
   "source": [
    "axs = sns.boxplot(x = \"genre\", y = \"modularity\", data = modularities, palette=xkcd_colors)\n",
    "for item in axs.get_xticklabels():\n",
    "    item.set_rotation(90)"
   ]
  },
  {
   "cell_type": "markdown",
   "metadata": {},
   "source": [
    "## Can modularity predict genre?\n",
    "The baselines are already incredibly high, so might not be much point in doing this."
   ]
  },
  {
   "cell_type": "code",
   "execution_count": null,
   "metadata": {
    "collapsed": false
   },
   "outputs": [],
   "source": [
    "tmp = []\n",
    "for t in types:\n",
    "    pos = modularities[modularities.genre == t]\n",
    "    neg = modularities[modularities.genre != t]\n",
    "    \n",
    "    base_score = 100*np.max([len(pos) / (len(pos) + len(neg)), len(neg) / (len(pos) + len(neg))])\n",
    "    \n",
    "    # Baseline is most popular class in genre\n",
    "    print (\"{} baseline: {:.2f}%\".format(t, base_score))\n",
    "    \n",
    "    tmp.append(base_score)\n",
    "    \n",
    "np.mean(tmp), np.std(tmp)"
   ]
  },
  {
   "cell_type": "markdown",
   "metadata": {},
   "source": [
    "Mayyyybeeeee for drama..."
   ]
  },
  {
   "cell_type": "code",
   "execution_count": null,
   "metadata": {
    "collapsed": false
   },
   "outputs": [],
   "source": [
    "from sklearn.linear_model import LogisticRegression\n",
    "from sklearn.cross_validation import cross_val_score\n",
    "\n",
    "for t in types:\n",
    "    pos = modularities[modularities.genre == t].copy()\n",
    "    neg = modularities[modularities.genre != t].copy()\n",
    "\n",
    "    pos['genre_drama'] = 1\n",
    "    neg['genre_drama'] = 0\n",
    "\n",
    "\n",
    "    drama_data = pd.concat([pos, neg])\n",
    "    \n",
    "    \n",
    "\n",
    "    X = drama_data.modularity\n",
    "    X = X.reshape(X.shape[0], 1)\n",
    "\n",
    "    Y = drama_data.genre_drama\n",
    "\n",
    "    print(\"{} model: {:.2f}%\".format(t, 100 * cross_val_score(LogisticRegression(), X, Y, cv = 10).mean()))"
   ]
  }
 ],
 "metadata": {
  "anaconda-cloud": {},
  "kernelspec": {
   "display_name": "Python [default]",
   "language": "python",
   "name": "python3"
  },
  "language_info": {
   "codemirror_mode": {
    "name": "ipython",
    "version": 3
   },
   "file_extension": ".py",
   "mimetype": "text/x-python",
   "name": "python",
   "nbconvert_exporter": "python",
   "pygments_lexer": "ipython3",
   "version": "3.5.2"
  }
 },
 "nbformat": 4,
 "nbformat_minor": 0
}
