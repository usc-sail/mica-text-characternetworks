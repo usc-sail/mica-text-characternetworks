{
 "cells": [
  {
   "cell_type": "code",
   "execution_count": 1,
   "metadata": {
    "collapsed": false
   },
   "outputs": [],
   "source": [
    "%matplotlib inline\n",
    "from utils import read, createGraph, readGenders, functionals\n",
    "from glob import iglob as glob\n",
    "from os.path import exists, basename\n",
    "import pandas as pd\n",
    "import matplotlib.pyplot as plt\n",
    "import seaborn as sns\n",
    "from collections import defaultdict, Counter\n",
    "import numpy as np\n",
    "import scipy as sp\n",
    "import pickle\n",
    "import warnings\n",
    "import community\n",
    "import networkx as nx\n",
    "import itertools\n",
    "import scipy as sp \n",
    "import logging\n",
    "from funcy import walk_values\n",
    "\n",
    "plt.rcParams[\"figure.figsize\"] = (10, 8)"
   ]
  },
  {
   "cell_type": "code",
   "execution_count": 2,
   "metadata": {
    "collapsed": true
   },
   "outputs": [],
   "source": [
    "logging.basicConfig(format = \"%(asctime)-15s %(message)s\", level = logging.DEBUG)"
   ]
  },
  {
   "cell_type": "code",
   "execution_count": 3,
   "metadata": {
    "collapsed": false
   },
   "outputs": [],
   "source": [
    "th = 2\n",
    "data_dir = \"../data/utterances_with_charnames/*\"\n",
    "info_dir = \"../data/character_info/\"\n",
    "genre_dir = \"../data/genres/*\""
   ]
  },
  {
   "cell_type": "markdown",
   "metadata": {},
   "source": [
    "## Read genres"
   ]
  },
  {
   "cell_type": "code",
   "execution_count": 4,
   "metadata": {
    "collapsed": false
   },
   "outputs": [
    {
     "name": "stderr",
     "output_type": "stream",
     "text": [
      "INFO:root:Read 1146 genres files\n"
     ]
    }
   ],
   "source": [
    "genres = {}\n",
    "\n",
    "for f in glob(genre_dir):\n",
    "    with open(f) as inpt:\n",
    "        try:\n",
    "            next(inpt)\n",
    "            glist = next(inpt).strip().split(\": \")[1].split(\",\")\n",
    "            \n",
    "            genres[basename(f)] = glist\n",
    "            \n",
    "        except StopIteration:\n",
    "            logging.debug(\"File {} is empty\".format(f))\n",
    "            continue\n",
    "        except Exception as e:\n",
    "            logging.debug(e)\n",
    "\n",
    "logging.info(\"Read {} genres files\".format(len(genres)))"
   ]
  },
  {
   "cell_type": "markdown",
   "metadata": {
    "collapsed": true
   },
   "source": [
    "## Read all scripts"
   ]
  },
  {
   "cell_type": "code",
   "execution_count": 5,
   "metadata": {
    "collapsed": false
   },
   "outputs": [],
   "source": [
    "data = {}\n",
    "for script in glob(data_dir):\n",
    "    \n",
    "    _, char_list, adj = read(script, threshold = th)\n",
    "\n",
    "    gender_file = info_dir + basename(script)\n",
    "    if exists(gender_file):\n",
    "        gens, races = readGenders(gender_file)\n",
    "    else:\n",
    "#         logging.warning(\"Info for {} not found\".format(basename(script)))\n",
    "#         gens = defaultdict(lambda: 'unknown')\n",
    "#         races = defaultdict(lambda: 'unknown')  \n",
    "        continue\n",
    "        \n",
    "    races = walk_values(lambda x: x.split(\",\")[0], races)\n",
    "        \n",
    "    G = createGraph(char_list, adj, gens, races)\n",
    "\n",
    "\n",
    "    key = basename(script)\n",
    "\n",
    "    data[key] = {}\n",
    "    data[key]['graph'] = G\n",
    "    data[key]['chars'] = char_list\n",
    "    data[key]['genres'] = genres.get(key, [])\n",
    "    data[key]['races'] = races\n",
    "    "
   ]
  },
  {
   "cell_type": "code",
   "execution_count": 6,
   "metadata": {
    "collapsed": false
   },
   "outputs": [
    {
     "data": {
      "text/plain": [
       "15133"
      ]
     },
     "execution_count": 6,
     "metadata": {},
     "output_type": "execute_result"
    }
   ],
   "source": [
    "np.sum([nx.number_of_nodes(d['graph']) for d in data.values()])"
   ]
  },
  {
   "cell_type": "code",
   "execution_count": 7,
   "metadata": {
    "collapsed": false
   },
   "outputs": [
    {
     "name": "stdout",
     "output_type": "stream",
     "text": [
      "Counter({'Drama': 558, 'Thriller': 368, 'Comedy': 286, 'Action': 252, 'Crime': 242, 'Romance': 194, 'Adventure': 170, 'Sci-Fi': 154, 'Mystery': 143, 'Horror': 115, 'Fantasy': 115, 'Biography': 70, 'Family': 49, 'History': 34, 'War': 34, 'Sport': 32, 'Animation': 32, 'Music': 23, 'Musical': 19, 'Western': 17, 'Short': 6, 'Film-Noir': 5, 'Documentary': 1})\n"
     ]
    }
   ],
   "source": [
    "types = Counter([y for x in [d['genres'] for script, d in data.items()] for y in x])\n",
    "print(types)\n",
    "types = list(types.keys())"
   ]
  },
  {
   "cell_type": "code",
   "execution_count": 8,
   "metadata": {
    "collapsed": false
   },
   "outputs": [
    {
     "name": "stdout",
     "output_type": "stream",
     "text": [
      "Counter({'unknown': 10608, 'caucasian': 4244, 'african': 432, 'other': 213, 'latino': 127, 'nativeamerican': 61, 'eastasian': 59, 'asianindian': 34, 'pacificislander': 16})\n"
     ]
    }
   ],
   "source": [
    "races = Counter([y for x in [list(d['races'].values()) for d in data.values()] for y in x])\n",
    "print(races)\n",
    "races = list(races.keys())"
   ]
  },
  {
   "cell_type": "code",
   "execution_count": 9,
   "metadata": {
    "collapsed": true
   },
   "outputs": [],
   "source": [
    "xkcd_colors = sns.xkcd_palette([\"grass green\", \"sand\", \"blue\", \"light red\", \"cerulean\",\n",
    "                                \"red\", \"light blue\", \"teal\", \"orange\", \"light green\",\n",
    "                                \"magenta\", \"yellow\", \"sky blue\", \"grey\", \"cobalt\",\n",
    "                                \"grass\", \"algae green\", \"coral\", \"cerise\", \"steel\",\n",
    "                                \"hot purple\", \"mango\", \"pale lime\", \"rouge\"])\n",
    "colors = itertools.cycle(xkcd_colors)"
   ]
  },
  {
   "cell_type": "markdown",
   "metadata": {},
   "source": [
    "# Pre-check\n",
    "In [GENDER BIAS WITHOUT BORDERS](http://seejane.org/wp-content/uploads/gender-bias-without-borders-executive-summary.pdf), there is a ratio of 2.25 men for every women on screen (women = $30.9$%). Lets check our numbers."
   ]
  },
  {
   "cell_type": "code",
   "execution_count": null,
   "metadata": {
    "collapsed": false
   },
   "outputs": [],
   "source": [
    "total, males, females = 0, 0, 0\n",
    "for _, d in data.items():\n",
    "    G = d['graph']\n",
    "    \n",
    "    for i in G.nodes():\n",
    "        if G.node[i]['gender'] == 'male':\n",
    "            males += 1\n",
    "        elif G.node[i]['gender'] == 'female':\n",
    "            females += 1\n",
    "        \n",
    "        total += 1\n",
    "        \n",
    "print(\"total: {}\".format(total))\n",
    "print(\"males: {:.2f}%\".format(float(males) / total))\n",
    "print(\"females: {:.2f}%\".format(float(females) / total))\n"
   ]
  },
  {
   "cell_type": "markdown",
   "metadata": {},
   "source": [
    "What if we drop unknown?... shouldn't matter right?"
   ]
  },
  {
   "cell_type": "code",
   "execution_count": null,
   "metadata": {
    "collapsed": false
   },
   "outputs": [],
   "source": [
    "print(\"males: {:.2f}%\".format(float(males) / (males + females)))\n",
    "print(\"females: {:.2f}%\".format(float(females) / (males + females)))"
   ]
  },
  {
   "cell_type": "markdown",
   "metadata": {},
   "source": [
    "# Graph analysis"
   ]
  },
  {
   "cell_type": "markdown",
   "metadata": {
    "collapsed": true
   },
   "source": [
    "# Degree centrality"
   ]
  },
  {
   "cell_type": "markdown",
   "metadata": {},
   "source": [
    "#### Average degree"
   ]
  },
  {
   "cell_type": "code",
   "execution_count": null,
   "metadata": {
    "collapsed": false
   },
   "outputs": [],
   "source": [
    "warnings.simplefilter(\"ignore\")\n",
    "male_deg, female_deg = [], []\n",
    "for script, d in data.items():\n",
    "    G = d['graph']\n",
    "    degrees = nx.degree(G)\n",
    "    \n",
    "    male_deg.append(np.mean([degrees[i] for i in G.nodes() if G.node[i]['gender'] == 'male']))\n",
    "    female_deg.append(np.mean([degrees[i] for i in G.nodes() if G.node[i]['gender'] == 'female']))"
   ]
  },
  {
   "cell_type": "code",
   "execution_count": null,
   "metadata": {
    "collapsed": false
   },
   "outputs": [],
   "source": [
    "#Remove nans\n",
    "\n",
    "male_deg = np.array(male_deg)\n",
    "female_deg = np.array(female_deg)\n",
    "\n",
    "male_deg = male_deg[~np.isnan(male_deg)]\n",
    "female_deg = female_deg[~np.isnan(female_deg)]"
   ]
  },
  {
   "cell_type": "code",
   "execution_count": null,
   "metadata": {
    "collapsed": false
   },
   "outputs": [],
   "source": [
    "sp.stats.describe([y for x in [list(nx.degree(d['graph']).values()) for script, d in data.items()]\n",
    "     for y in x])"
   ]
  },
  {
   "cell_type": "code",
   "execution_count": null,
   "metadata": {
    "collapsed": false
   },
   "outputs": [],
   "source": [
    "sns.distplot(male_deg, hist = False, label = \"male\");\n",
    "sns.distplot(female_deg, hist = False, label = \"female\");\n",
    "plt.legend();\n",
    "plt.xlabel(\"average degree\");"
   ]
  },
  {
   "cell_type": "markdown",
   "metadata": {},
   "source": [
    "There is no real difference in the number of connections between men and women."
   ]
  },
  {
   "cell_type": "code",
   "execution_count": null,
   "metadata": {
    "collapsed": false
   },
   "outputs": [],
   "source": [
    "sp.stats.ttest_ind(male_deg, female_deg)"
   ]
  },
  {
   "cell_type": "markdown",
   "metadata": {},
   "source": [
    "### Based on Genre"
   ]
  },
  {
   "cell_type": "code",
   "execution_count": null,
   "metadata": {
    "collapsed": false
   },
   "outputs": [],
   "source": [
    "res = {}\n",
    "for t in types:\n",
    "    male_deg, female_deg = [], []\n",
    "    for script, d in data.items():\n",
    "        \n",
    "        if t not in d['genres']:\n",
    "            continue \n",
    "            \n",
    "        G = d['graph']\n",
    "        degrees = nx.degree(G)\n",
    "\n",
    "        male_deg.append(np.mean([degrees[i] for i in G.nodes() if G.node[i]['gender'] == 'male']))\n",
    "        female_deg.append(np.mean([degrees[i] for i in G.nodes() if G.node[i]['gender'] == 'female']))\n",
    "    \n",
    "    res[t] = {}\n",
    "    res[t]['male'] = male_deg\n",
    "    res[t]['female'] = female_deg"
   ]
  },
  {
   "cell_type": "code",
   "execution_count": null,
   "metadata": {
    "collapsed": false
   },
   "outputs": [],
   "source": [
    "# Pass into long format\n",
    "tmp = []\n",
    "for t, k in res.items():\n",
    "    for g, v in k.items():\n",
    "        for i in v:\n",
    "            tmp.append((t, g, i))\n",
    "\n",
    "tmp = pd.DataFrame(tmp, columns=[\"genre\", \"gender\", \"value\"])\n",
    "\n",
    "#Drop nan's\n",
    "tmp = tmp[(tmp.genre!=\"Documentary\")]\n",
    "tmp = tmp[(tmp.genre!=\"Short\")]\n",
    "tmp = tmp[(tmp.genre!=\"Reality-TV\")]\n",
    "\n",
    "tmp.head()"
   ]
  },
  {
   "cell_type": "code",
   "execution_count": null,
   "metadata": {
    "collapsed": false
   },
   "outputs": [],
   "source": [
    "g = sns.FacetGrid(tmp, col = \"genre\", row = \"gender\")\n",
    "g = g.map(sns.distplot, \"value\", hist=False)"
   ]
  },
  {
   "cell_type": "code",
   "execution_count": null,
   "metadata": {
    "collapsed": false
   },
   "outputs": [],
   "source": [
    "res = {}\n",
    "for t in types:\n",
    "    male_deg = tmp.ix[(tmp.genre == t) & (tmp.gender == \"male\"), \"value\"]\n",
    "    female_deg = tmp.ix[(tmp.genre == t) & (tmp.gender == \"female\"), \"value\"]\n",
    "    \n",
    "    #Remove nans\n",
    "    male_deg, female_deg = np.array(male_deg), np.array(female_deg)\n",
    "    male_deg = male_deg[~np.isnan(male_deg)]\n",
    "    female_deg = female_deg[~np.isnan(female_deg)]\n",
    "\n",
    "    ttest = sp.stats.ttest_ind(male_deg, female_deg)\n",
    "\n",
    "    if not np.isnan(ttest.pvalue):\n",
    "        res[t] = ttest\n",
    "    \n",
    "res;"
   ]
  },
  {
   "cell_type": "markdown",
   "metadata": {},
   "source": [
    "__There are no significant differences between the degrees based on gender.__"
   ]
  },
  {
   "cell_type": "code",
   "execution_count": null,
   "metadata": {
    "collapsed": false
   },
   "outputs": [],
   "source": [
    "# Using Benjamin-Hochberg's method\n",
    "res_2 = sorted(res.items(), key = lambda x: x[1].pvalue)\n",
    "m = len(res_2)\n",
    "\n",
    "i = 1\n",
    "while i < len(res_2) + 1:\n",
    "    if res_2[i - 1][1].pvalue > i / m * 0.05:\n",
    "        break\n",
    "    i = i + 1\n",
    "        \n",
    "res_2[:(i - 1)]"
   ]
  },
  {
   "cell_type": "markdown",
   "metadata": {},
   "source": [
    "\n",
    "# Betweeness Centrality"
   ]
  },
  {
   "cell_type": "markdown",
   "metadata": {},
   "source": [
    "#### Average centrality"
   ]
  },
  {
   "cell_type": "code",
   "execution_count": null,
   "metadata": {
    "collapsed": false
   },
   "outputs": [],
   "source": [
    "male_cent, female_cent = [], []\n",
    "for script, d in data.items():\n",
    "    G = d['graph']\n",
    "    cents = nx.betweenness_centrality(G)\n",
    "    \n",
    "    male_cent.append(np.mean([cents[i] for i in G.nodes() if G.node[i]['gender'] == 'male']))\n",
    "    female_cent.append(np.mean([cents[i] for i in G.nodes() if G.node[i]['gender'] == 'female']))"
   ]
  },
  {
   "cell_type": "code",
   "execution_count": null,
   "metadata": {
    "collapsed": true
   },
   "outputs": [],
   "source": [
    "#Remove nans\n",
    "male_cent, female_cent = np.array(male_cent), np.array(female_cent)\n",
    "male_cent = male_cent[~np.isnan(male_cent)]\n",
    "female_cent = female_cent[~np.isnan(female_cent)]"
   ]
  },
  {
   "cell_type": "code",
   "execution_count": null,
   "metadata": {
    "collapsed": false
   },
   "outputs": [],
   "source": [
    "sp.stats.describe([y for x in [list(nx.betweenness_centrality(d['graph']).values()) for d in data.values()] for y in x])"
   ]
  },
  {
   "cell_type": "markdown",
   "metadata": {},
   "source": [
    "Just a quick note, this is a _density_, not a probability. The AUC adds up to 1. "
   ]
  },
  {
   "cell_type": "code",
   "execution_count": null,
   "metadata": {
    "collapsed": false
   },
   "outputs": [],
   "source": [
    "sns.distplot(male_cent, hist = False, label = \"male\");\n",
    "sns.distplot(female_cent, hist = False, label = \"female\");\n",
    "plt.legend();\n",
    "plt.xlabel(\"average centrality\");"
   ]
  },
  {
   "cell_type": "markdown",
   "metadata": {
    "collapsed": true
   },
   "source": [
    "In this case, there is a significant difference in the average centrality of male characters and female characters ($t(?) = 4.8805,\\, p < 0.01$). In most of the scripts, males occupy a more central role than females."
   ]
  },
  {
   "cell_type": "code",
   "execution_count": null,
   "metadata": {
    "collapsed": false
   },
   "outputs": [],
   "source": [
    "sp.stats.ttest_ind(male_cent, female_cent)"
   ]
  },
  {
   "cell_type": "markdown",
   "metadata": {},
   "source": [
    "## By Genre"
   ]
  },
  {
   "cell_type": "code",
   "execution_count": null,
   "metadata": {
    "collapsed": false
   },
   "outputs": [],
   "source": [
    "res = {}\n",
    "for t in types:\n",
    "    male_centr, female_centr = [], []\n",
    "    for script, d in data.items():\n",
    "        \n",
    "        if t not in d['genres']:\n",
    "            continue \n",
    "            \n",
    "        G = d['graph']\n",
    "        centralities = nx.betweenness_centrality(G)\n",
    "\n",
    "        male_centr.append(np.mean([centralities[i] for i in G.nodes() if G.node[i]['gender'] == 'male']))\n",
    "        female_centr.append(np.mean([centralities[i] for i in G.nodes() if G.node[i]['gender'] == 'female']))\n",
    "    \n",
    "    res[t] = {}\n",
    "    res[t]['male'] = male_centr\n",
    "    res[t]['female'] = female_centr"
   ]
  },
  {
   "cell_type": "code",
   "execution_count": null,
   "metadata": {
    "collapsed": false
   },
   "outputs": [],
   "source": [
    "# Pass into long format\n",
    "tmp = []\n",
    "for t, k in res.items():\n",
    "    for g, v in k.items():\n",
    "        for i in v:\n",
    "            tmp.append((t, g, i))\n",
    "\n",
    "tmp = pd.DataFrame(tmp, columns=[\"genre\", \"gender\", \"value\"])\n",
    "\n",
    "#Drop nan's\n",
    "tmp = tmp[(tmp.genre!=\"Documentary\")]\n",
    "tmp = tmp[(tmp.genre!=\"Short\")]\n",
    "tmp = tmp[(tmp.genre!=\"Reality-TV\")]\n",
    "\n",
    "tmp.head()"
   ]
  },
  {
   "cell_type": "code",
   "execution_count": null,
   "metadata": {
    "collapsed": false
   },
   "outputs": [],
   "source": [
    "g = sns.FacetGrid(tmp, col = \"genre\", row = \"gender\")\n",
    "g = g.map(sns.distplot, \"value\", hist=False)"
   ]
  },
  {
   "cell_type": "code",
   "execution_count": null,
   "metadata": {
    "collapsed": false
   },
   "outputs": [],
   "source": [
    "res = {}\n",
    "for t in types:\n",
    "    male_deg = tmp.ix[(tmp.genre == t) & (tmp.gender == \"male\"), \"value\"]\n",
    "    female_deg = tmp.ix[(tmp.genre == t) & (tmp.gender == \"female\"), \"value\"]\n",
    "    \n",
    "    #Remove nans\n",
    "    male_deg, female_deg = np.array(male_deg), np.array(female_deg)\n",
    "    male_deg = male_deg[~np.isnan(male_deg)]\n",
    "    female_deg = female_deg[~np.isnan(female_deg)]\n",
    "\n",
    "    ttest = sp.stats.ttest_ind(male_deg, female_deg)\n",
    "\n",
    "    if not np.isnan(ttest.pvalue):\n",
    "        res[t] = ttest\n",
    "    \n",
    "res;"
   ]
  },
  {
   "cell_type": "markdown",
   "metadata": {},
   "source": [
    "__ There is a real difference in the centrality of characters in: __"
   ]
  },
  {
   "cell_type": "code",
   "execution_count": null,
   "metadata": {
    "collapsed": false
   },
   "outputs": [],
   "source": [
    "# Using Benjamin-Hochberg's method\n",
    "res_2 = sorted(res.items(), key = lambda x: x[1].pvalue)\n",
    "m = len(res_2)\n",
    "\n",
    "i = 1\n",
    "while i < len(res_2) + 1:\n",
    "    if res_2[i - 1][1].pvalue > i / m * 0.05:\n",
    "        break\n",
    "    i = i + 1\n",
    "        \n",
    "res_2[:(i - 1)]"
   ]
  },
  {
   "cell_type": "code",
   "execution_count": null,
   "metadata": {
    "collapsed": false
   },
   "outputs": [],
   "source": [
    "fig, axx = plt.subplots(4, 2, sharey = True)\n",
    "\n",
    "for i, t in enumerate(['Drama', 'Comedy', 'Horror', 'Sport']):\n",
    "    \n",
    "    axx[i, 0].set_xlim((0, 0.3))\n",
    "    axx[i, 1].set_xlim((0, 0.3))\n",
    "    \n",
    "    male_deg = tmp.ix[(tmp.genre == t) & (tmp.gender == \"male\"), \"value\"]\n",
    "    female_deg = tmp.ix[(tmp.genre == t) & (tmp.gender == \"female\"), \"value\"]\n",
    "    \n",
    "    #Remove nans\n",
    "    male_deg, female_deg = np.array(male_deg), np.array(female_deg)\n",
    "    male_deg = male_deg[~np.isnan(male_deg)]\n",
    "    female_deg = female_deg[~np.isnan(female_deg)]\n",
    "\n",
    "    sns.distplot(male_deg, hist = False, ax=axx[i, 1]);\n",
    "    sns.distplot(female_deg, hist = False, ax=axx[i, 0]);\n",
    "\n",
    "    axx[i, 0].set_ylabel(t)\n",
    "    \n",
    "axx[0, 0].set_title(\"Female\")\n",
    "axx[0, 1].set_title(\"Male\")\n",
    "    \n",
    "# plt.legend();\n",
    "\n",
    "fig.tight_layout()\n",
    "plt.show()    "
   ]
  },
  {
   "cell_type": "code",
   "execution_count": null,
   "metadata": {
    "collapsed": false
   },
   "outputs": [],
   "source": [
    "male_deg = tmp.ix[(tmp.genre == 'Horror') & (tmp.gender == \"male\"), \"value\"].mean()\n",
    "female_deg = tmp.ix[(tmp.genre == 'Horror') & (tmp.gender == \"female\"), \"value\"].mean()\n",
    "\n",
    "print(male_deg, female_deg)\n",
    "    "
   ]
  },
  {
   "cell_type": "markdown",
   "metadata": {},
   "source": [
    "## By Race"
   ]
  },
  {
   "cell_type": "markdown",
   "metadata": {},
   "source": [
    "I can either agg by race (e.g., caucassian males get more important roles) or I could agg races by gender (e.g., latino women are more demanded than latino men)."
   ]
  },
  {
   "cell_type": "code",
   "execution_count": null,
   "metadata": {
    "collapsed": false
   },
   "outputs": [],
   "source": [
    "# Agg by race\n",
    "\n",
    "aggByRace = []\n",
    "\n",
    "for script, d in data.items():\n",
    "    G = d['graph']\n",
    "    centrs = nx.betweenness_centrality(G)\n",
    "    \n",
    "    \n",
    "    for n in G.nodes():\n",
    "        aggByRace.append((G.node[n]['race'], centrs[n]))\n",
    "        \n",
    "aggByRace = pd.DataFrame(aggByRace, columns=['race', 'value'])\n",
    "aggByRace = aggByRace[aggByRace.race != 'unknown']\n",
    "aggByRace.head()"
   ]
  },
  {
   "cell_type": "code",
   "execution_count": null,
   "metadata": {
    "collapsed": false
   },
   "outputs": [],
   "source": [
    "sns.boxplot(x = \"race\", y = \"value\", hue = \"race\", data = aggByRace);"
   ]
  },
  {
   "cell_type": "code",
   "execution_count": null,
   "metadata": {
    "collapsed": false
   },
   "outputs": [],
   "source": [
    "#1-way ANOVA for differences\n",
    "\n",
    "import statsmodels.api as sm\n",
    "from statsmodels.formula.api import ols\n",
    "\n",
    "mod = ols('value ~ race',\n",
    "                data=aggByRace).fit()\n",
    "                \n",
    "aov_table = sm.stats.anova_lm(mod, typ=2)\n",
    "print(aov_table)"
   ]
  },
  {
   "cell_type": "markdown",
   "metadata": {},
   "source": [
    "Post-hoc: Find differences by comparing each two and controlling error with Benjamin-Hochberg's method\n",
    "\n",
    "__TODO:__ But this doesnt matter too much"
   ]
  },
  {
   "cell_type": "code",
   "execution_count": null,
   "metadata": {
    "collapsed": true
   },
   "outputs": [],
   "source": []
  },
  {
   "cell_type": "markdown",
   "metadata": {},
   "source": [
    "### Agg race and gender"
   ]
  },
  {
   "cell_type": "code",
   "execution_count": 10,
   "metadata": {
    "collapsed": false
   },
   "outputs": [
    {
     "data": {
      "text/html": [
       "<div>\n",
       "<table border=\"1\" class=\"dataframe\">\n",
       "  <thead>\n",
       "    <tr style=\"text-align: right;\">\n",
       "      <th></th>\n",
       "      <th>race</th>\n",
       "      <th>gender</th>\n",
       "      <th>value</th>\n",
       "    </tr>\n",
       "  </thead>\n",
       "  <tbody>\n",
       "    <tr>\n",
       "      <th>3</th>\n",
       "      <td>caucasian</td>\n",
       "      <td>female</td>\n",
       "      <td>0.240741</td>\n",
       "    </tr>\n",
       "    <tr>\n",
       "      <th>8</th>\n",
       "      <td>caucasian</td>\n",
       "      <td>male</td>\n",
       "      <td>0.000000</td>\n",
       "    </tr>\n",
       "    <tr>\n",
       "      <th>9</th>\n",
       "      <td>nativeamerican</td>\n",
       "      <td>male</td>\n",
       "      <td>0.014815</td>\n",
       "    </tr>\n",
       "    <tr>\n",
       "      <th>10</th>\n",
       "      <td>caucasian</td>\n",
       "      <td>male</td>\n",
       "      <td>0.518519</td>\n",
       "    </tr>\n",
       "    <tr>\n",
       "      <th>37</th>\n",
       "      <td>caucasian</td>\n",
       "      <td>male</td>\n",
       "      <td>0.323373</td>\n",
       "    </tr>\n",
       "  </tbody>\n",
       "</table>\n",
       "</div>"
      ],
      "text/plain": [
       "              race  gender     value\n",
       "3        caucasian  female  0.240741\n",
       "8        caucasian    male  0.000000\n",
       "9   nativeamerican    male  0.014815\n",
       "10       caucasian    male  0.518519\n",
       "37       caucasian    male  0.323373"
      ]
     },
     "execution_count": 10,
     "metadata": {},
     "output_type": "execute_result"
    }
   ],
   "source": [
    "# Agg by race & gender\n",
    "\n",
    "aggByRaceGender = []\n",
    "\n",
    "for script, d in data.items():\n",
    "    G = d['graph']\n",
    "    centrs = nx.betweenness_centrality(G)\n",
    "    \n",
    "    \n",
    "    for n in G.nodes():\n",
    "        aggByRaceGender.append((G.node[n]['race'], G.node[n]['gender'], centrs[n]))\n",
    "        \n",
    "aggByRaceGender = pd.DataFrame(aggByRaceGender, columns=['race', 'gender', 'value'])\n",
    "aggByRaceGender = aggByRaceGender[aggByRaceGender.race != 'unknown']\n",
    "aggByRaceGender = aggByRaceGender[aggByRaceGender.gender != 'unknown']\n",
    "\n",
    "aggByRaceGender.head()"
   ]
  },
  {
   "cell_type": "code",
   "execution_count": 11,
   "metadata": {
    "collapsed": false
   },
   "outputs": [
    {
     "data": {
      "image/png": "[encoded data removed]",
      "text/plain": [
       "<matplotlib.figure.Figure at 0x10e741198>"
      ]
     },
     "metadata": {},
     "output_type": "display_data"
    }
   ],
   "source": [
    "sns.boxplot(x = \"race\", y = \"value\", hue = \"gender\", data = aggByRaceGender);"
   ]
  },
  {
   "cell_type": "code",
   "execution_count": null,
   "metadata": {
    "collapsed": true
   },
   "outputs": [],
   "source": []
  },
  {
   "cell_type": "markdown",
   "metadata": {
    "collapsed": true
   },
   "source": [
    "## Communities and Modularities\n",
    "\n",
    "Extract the community structure and modularity measurement of each graph using Louvain Method. The Louvain Method was created by Blondel et. al [https://arxiv.org/abs/0803.0476]"
   ]
  },
  {
   "cell_type": "code",
   "execution_count": null,
   "metadata": {
    "collapsed": false
   },
   "outputs": [],
   "source": [
    "communities = []\n",
    "modularities = []\n",
    "\n",
    "for t in types:\n",
    "    for script, d in data.items():\n",
    "        if t not in d['genres']:\n",
    "            continue\n",
    "        \n",
    "        G = d['graph']\n",
    "        parts = community.best_partition(G)\n",
    "        try:\n",
    "            q = community.modularity(parts, G)\n",
    "        except ValueError:\n",
    "            logging.debug(\"Script {} has no links\".format(script))\n",
    "    \n",
    "        communities.append((t, len(set(parts.values()))))\n",
    "        modularities.append((t, q))\n",
    "        \n",
    "communities = pd.DataFrame(communities, columns=[\"genre\", \"communities\"])\n",
    "modularities = pd.DataFrame(modularities, columns=[\"genre\", \"modularity\"])"
   ]
  },
  {
   "cell_type": "code",
   "execution_count": null,
   "metadata": {
    "collapsed": false
   },
   "outputs": [],
   "source": [
    "communities.communities.describe()"
   ]
  },
  {
   "cell_type": "code",
   "execution_count": null,
   "metadata": {
    "collapsed": false
   },
   "outputs": [],
   "source": [
    "communities.groupby(\"genre\").apply(np.mean).sort_values(by=\"communities\")"
   ]
  },
  {
   "cell_type": "code",
   "execution_count": null,
   "metadata": {
    "collapsed": false
   },
   "outputs": [],
   "source": [
    "axs = sns.boxplot(x = \"genre\", y = \"communities\", data = communities, palette=xkcd_colors)\n",
    "for item in axs.get_xticklabels():\n",
    "    item.set_rotation(90)"
   ]
  },
  {
   "cell_type": "code",
   "execution_count": null,
   "metadata": {
    "collapsed": false
   },
   "outputs": [],
   "source": [
    "modularities.modularity.describe()"
   ]
  },
  {
   "cell_type": "code",
   "execution_count": null,
   "metadata": {
    "collapsed": false
   },
   "outputs": [],
   "source": [
    "modularities.groupby(\"genre\").apply(np.mean).sort_values(by=\"modularity\")"
   ]
  },
  {
   "cell_type": "code",
   "execution_count": null,
   "metadata": {
    "collapsed": false
   },
   "outputs": [],
   "source": [
    "axs = sns.boxplot(x = \"genre\", y = \"modularity\", data = modularities, palette=xkcd_colors)\n",
    "for item in axs.get_xticklabels():\n",
    "    item.set_rotation(90)"
   ]
  },
  {
   "cell_type": "markdown",
   "metadata": {},
   "source": [
    "## Can modularity predict genre?\n",
    "Baseline: Most popular genre"
   ]
  },
  {
   "cell_type": "code",
   "execution_count": null,
   "metadata": {
    "collapsed": false
   },
   "outputs": [],
   "source": [
    "from sklearn.preprocessing import MultiLabelBinarizer\n",
    "Y = MultiLabelBinarizer().fit_transform([d['genres'] for d in data.values()])\n",
    "Y.shape"
   ]
  },
  {
   "cell_type": "code",
   "execution_count": null,
   "metadata": {
    "collapsed": false
   },
   "outputs": [],
   "source": [
    "from sklearn.linear_model import LogisticRegression\n",
    "from sklearn.cross_validation import train_test_split\n",
    "from sklearn.multiclass import OneVsRestClassifier\n",
    "\n",
    "train, test = train_test_split(np.arange(Y.shape[0]), test_size=0.25)"
   ]
  },
  {
   "cell_type": "code",
   "execution_count": null,
   "metadata": {
    "collapsed": false
   },
   "outputs": [],
   "source": [
    "mod_baseline = OneVsRestClassifier(LogisticRegression())\n",
    "mod_baseline.fit(np.ones_like(Y[train, :]), Y[train, :])\n",
    "\n",
    "pred_baseline = mod.predict(np.ones_like(Y[test, :]))\n",
    "pred_baseline"
   ]
  },
  {
   "cell_type": "code",
   "execution_count": null,
   "metadata": {
    "collapsed": true
   },
   "outputs": [],
   "source": []
  }
 ],
 "metadata": {
  "anaconda-cloud": {},
  "kernelspec": {
   "display_name": "Python [default]",
   "language": "python",
   "name": "python3"
  },
  "language_info": {
   "codemirror_mode": {
    "name": "ipython",
    "version": 3
   },
   "file_extension": ".py",
   "mimetype": "text/x-python",
   "name": "python",
   "nbconvert_exporter": "python",
   "pygments_lexer": "ipython3",
   "version": "3.5.2"
  }
 },
 "nbformat": 4,
 "nbformat_minor": 0
}
