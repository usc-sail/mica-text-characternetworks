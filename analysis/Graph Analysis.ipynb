{
 "cells": [
  {
   "cell_type": "markdown",
   "metadata": {},
   "source": [
    "# Graph Analysis\n",
    "Create graphs from movie scripts and obtain statistics on the node centralities.\n",
    "\n",
    "As input, this file expects data from the text-pipeline.\n",
    "\n",
    "Outputs statistics, graphs and aditional files to use with R for additional tests.\n",
    "\n",
    "Author: Victor R Martinez\n",
    "\n",
    "Last Modified: Sept 18, 2017"
   ]
  },
  {
   "cell_type": "code",
   "execution_count": 1,
   "metadata": {},
   "outputs": [
    {
     "name": "stderr",
     "output_type": "stream",
     "text": [
      "/Users/victor/miniconda3/lib/python3.6/site-packages/statsmodels/compat/pandas.py:56: FutureWarning: The pandas.core.datetools module is deprecated and will be removed in a future version. Please use the pandas.tseries module instead.\n",
      "  from pandas.core import datetools\n"
     ]
    }
   ],
   "source": [
    "%matplotlib inline\n",
    "from utils import read, createGraph, readExtraInfo, readGenre, readBirthdays, getCharacterAges\n",
    "from glob import iglob as glob\n",
    "from os.path import exists, basename\n",
    "import pandas as pd\n",
    "import matplotlib.pyplot as plt\n",
    "import seaborn as sns\n",
    "from collections import defaultdict, Counter\n",
    "import numpy as np\n",
    "import scipy as sp\n",
    "import warnings\n",
    "import networkx as nx\n",
    "import logging\n",
    "from funcy import walk_values, partial\n",
    "from scipy import stats\n",
    "import itertools\n",
    "import statsmodels.api as sm\n",
    "from statsmodels.formula.api import ols\n",
    "from statsmodels.stats.multicomp import pairwise_tukeyhsd, MultiComparison\n",
    "\n",
    "plt.rcParams[\"figure.figsize\"] = (10, 8)"
   ]
  },
  {
   "cell_type": "code",
   "execution_count": 2,
   "metadata": {},
   "outputs": [],
   "source": [
    "logging.basicConfig(format = \"%(asctime)-15s %(message)s\", level = logging.DEBUG)"
   ]
  },
  {
   "cell_type": "markdown",
   "metadata": {},
   "source": [
    "# Config\n",
    "\n",
    "* Threshold (_th_) is the minimum number of utterances a character needs to have in order to be considered as a node.\n",
    "\n",
    "#### Outputs from text pipeline:\n",
    "* _data_dir_ refers to the folder where the files with utterances and charnames are stored. \n",
    "* _info_dir_ has the files with character info\n",
    "* _birthdays_f_ is the file that has the birthdays of actors"
   ]
  },
  {
   "cell_type": "code",
   "execution_count": 3,
   "metadata": {},
   "outputs": [],
   "source": [
    "th = 2\n",
    "data_dir = \"../data/utterances_with_charnames/*\"\n",
    "info_dir = \"../data/charandmovie_info/\"\n",
    "birthdays_f = \"../data/age/actor_birthdays.txt\""
   ]
  },
  {
   "cell_type": "markdown",
   "metadata": {},
   "source": [
    "What measures of centrality are we going to use? For a list of all centralities available, check: https://networkx.github.io/documentation/networkx-1.10/reference/algorithms.centrality.html"
   ]
  },
  {
   "cell_type": "code",
   "execution_count": 4,
   "metadata": {
    "collapsed": true
   },
   "outputs": [],
   "source": [
    "centrality_measures = ['degree_centrality', 'betweenness_centrality']"
   ]
  },
  {
   "cell_type": "markdown",
   "metadata": {},
   "source": [
    "Define a set of colors to use for the graphs."
   ]
  },
  {
   "cell_type": "code",
   "execution_count": 5,
   "metadata": {},
   "outputs": [],
   "source": [
    "xkcd_colors = sns.xkcd_palette([\"grass green\", \"sand\", \"blue\", \"light red\", \"cerulean\",\n",
    "                                \"red\", \"light blue\", \"teal\", \"orange\", \"light green\",\n",
    "                                \"magenta\", \"yellow\", \"sky blue\", \"grey\", \"cobalt\",\n",
    "                                \"grass\", \"algae green\", \"coral\", \"cerise\", \"steel\",\n",
    "                                \"hot purple\", \"mango\", \"pale lime\", \"rouge\"])\n",
    "colors = itertools.cycle(xkcd_colors)"
   ]
  },
  {
   "cell_type": "markdown",
   "metadata": {},
   "source": [
    "## Controling for multiple comparisons.\n",
    "\n",
    "In order to control for multiple comparissons, we're going to use the [Holm-Bonferroni method](https://en.wikipedia.org/wiki/Holm%E2%80%93Bonferroni_method). We use a in house implementation, defined as follows:"
   ]
  },
  {
   "cell_type": "code",
   "execution_count": 6,
   "metadata": {
    "collapsed": true
   },
   "outputs": [],
   "source": [
    "# Using Holm-Bonferroni method\n",
    "def holmBonferroni(tests):\n",
    "    res_2 = sorted(tests, key = lambda x: x[1].pvalue)\n",
    "    m = len(res_2)\n",
    "\n",
    "    k = 0\n",
    "    while k < len(res_2) and res_2[k][1].pvalue < 0.05 / (m + 1 - k - 1):\n",
    "        k += 1\n",
    "\n",
    "    return res_2[:(k - 1)]"
   ]
  },
  {
   "cell_type": "markdown",
   "metadata": {
    "collapsed": true
   },
   "source": [
    "# Read all scripts\n",
    "The following lines reads all files and creates a data structure holding the graph, character list, movie genres, character/actor ages and races, as well as year of release."
   ]
  },
  {
   "cell_type": "code",
   "execution_count": 7,
   "metadata": {
    "collapsed": true
   },
   "outputs": [],
   "source": [
    "birthdays = readBirthdays(birthdays_f)"
   ]
  },
  {
   "cell_type": "code",
   "execution_count": 8,
   "metadata": {},
   "outputs": [],
   "source": [
    "data = {}\n",
    "for script in glob(data_dir):\n",
    "    \n",
    "    _, char_list, adj = read(script, threshold = th)\n",
    "\n",
    "    extra_info = info_dir + basename(script)\n",
    "    if exists(extra_info):\n",
    "        genders, races, namesids, movieyear = readExtraInfo(extra_info)\n",
    "        genres = readGenre(extra_info)\n",
    "    else:\n",
    "#         logging.warning(\"Info for {} not found\".format(basename(script)))\n",
    "#         gens = defaultdict(lambda: 'unknown')\n",
    "#         races = defaultdict(lambda: 'unknown')  \n",
    "        continue\n",
    "    \n",
    "    def splitRaces(x):\n",
    "        r = x.split(\",\")\n",
    "        if len(r) > 0:\n",
    "            if len(r) > 1:\n",
    "                return \"mixed\"\n",
    "            else:\n",
    "                return r[0]\n",
    "    \n",
    "    races = walk_values(splitRaces, races)\n",
    "    ages = getCharacterAges(char_list, namesids, movieyear, birthdays)\n",
    "        \n",
    "        \n",
    "    G = createGraph(char_list,\n",
    "                    adj,\n",
    "                    genders = genders,\n",
    "                    races = races,\n",
    "                    ages = ages)\n",
    "\n",
    "    \n",
    "\n",
    "    key = basename(script)\n",
    "\n",
    "    data[key] = {}\n",
    "    data[key]['graph'] = G\n",
    "    data[key]['chars'] = char_list\n",
    "    data[key]['genres'] = genres\n",
    "    data[key]['ages'] = ages\n",
    "    data[key]['races'] = races\n",
    "    data[key]['year'] = movieyear\n",
    "    "
   ]
  },
  {
   "cell_type": "markdown",
   "metadata": {},
   "source": [
    "These variables helps us with the graphs later on.\n",
    "\n",
    "First, we obtain the distribution of movies across genres (remember that a movie might belong to one or more genres). _types_ is a list of movie genres without repeats.\n",
    "\n",
    "Second, we obtain the distribution of actor races in the movie dataset. _races_ is a list of races without repeats."
   ]
  },
  {
   "cell_type": "code",
   "execution_count": 9,
   "metadata": {},
   "outputs": [
    {
     "name": "stdout",
     "output_type": "stream",
     "text": [
      "Counter({'Drama': 559, 'Thriller': 368, 'Comedy': 287, 'Action': 252, 'Crime': 242, 'Romance': 194, 'Adventure': 170, 'Sci-Fi': 156, 'Mystery': 145, 'Horror': 116, 'Fantasy': 115, 'Biography': 70, 'Family': 49, 'History': 34, 'War': 34, 'Sport': 32, 'Animation': 32, 'Music': 22, 'Musical': 19, 'Western': 17, 'Film-Noir': 5, 'Short': 5})\n"
     ]
    }
   ],
   "source": [
    "types = Counter([y for x in [d['genres'] for script, d in data.items()] for y in x])\n",
    "print(types)\n",
    "types = list(types.keys())"
   ]
  },
  {
   "cell_type": "code",
   "execution_count": 10,
   "metadata": {},
   "outputs": [
    {
     "name": "stdout",
     "output_type": "stream",
     "text": [
      "Counter({'unknown': 7893, 'caucasian': 6887, 'african': 618, 'mixed': 449, 'latino': 165, 'eastasian': 78, 'asianindian': 44, 'other': 25, 'nativeamerican': 15, 'pacificislander': 7, 'others': 2})\n"
     ]
    }
   ],
   "source": [
    "races = Counter([y for x in [list(d['races'].values()) for d in data.values()] for y in x])\n",
    "print(races)\n",
    "races = list(races.keys())"
   ]
  },
  {
   "cell_type": "markdown",
   "metadata": {},
   "source": [
    "## Pre-check\n",
    "In [GENDER BIAS WITHOUT BORDERS](http://seejane.org/wp-content/uploads/gender-bias-without-borders-executive-summary.pdf), there is a ratio of 2.25 men for every women on screen (women = $30.9$%). Lets check our numbers."
   ]
  },
  {
   "cell_type": "code",
   "execution_count": 11,
   "metadata": {},
   "outputs": [
    {
     "name": "stdout",
     "output_type": "stream",
     "text": [
      "total: 15133\n",
      "males: 0.55%\n",
      "females: 0.21%\n"
     ]
    }
   ],
   "source": [
    "total, males, females = 0, 0, 0\n",
    "for _, d in data.items():\n",
    "    G = d['graph']\n",
    "    \n",
    "    for i in G.nodes():\n",
    "        if G.node[i]['gender'] == 'male':\n",
    "            males += 1\n",
    "        elif G.node[i]['gender'] == 'female':\n",
    "            females += 1\n",
    "        \n",
    "        total += 1\n",
    "        \n",
    "print(\"total: {}\".format(total))\n",
    "print(\"males: {:.2f}%\".format(float(males) / total))\n",
    "print(\"females: {:.2f}%\".format(float(females) / total))\n"
   ]
  },
  {
   "cell_type": "markdown",
   "metadata": {},
   "source": [
    "What if we drop unknown?... shouldn't matter right?"
   ]
  },
  {
   "cell_type": "code",
   "execution_count": 12,
   "metadata": {},
   "outputs": [
    {
     "name": "stdout",
     "output_type": "stream",
     "text": [
      "males: 0.72%\n",
      "females: 0.28%\n"
     ]
    }
   ],
   "source": [
    "print(\"males: {:.2f}%\".format(float(males) / (males + females)))\n",
    "print(\"females: {:.2f}%\".format(float(females) / (males + females)))"
   ]
  },
  {
   "cell_type": "markdown",
   "metadata": {},
   "source": [
    "# Graph analysis\n",
    "\n",
    "## Centrality Measurements"
   ]
  },
  {
   "cell_type": "markdown",
   "metadata": {},
   "source": [
    "### Calculate and save centralities"
   ]
  },
  {
   "cell_type": "code",
   "execution_count": 13,
   "metadata": {},
   "outputs": [],
   "source": [
    "for script, d in data.items():\n",
    "    G = d['graph']\n",
    "    \n",
    "    for cent in centrality_measures:\n",
    "        vals = nx.__getattribute__(cent)(G) #Obtain the function using reflection on nx\n",
    "        nx.set_node_attributes(G, cent, vals) #Save it in the graph nodes\n",
    "    "
   ]
  },
  {
   "cell_type": "markdown",
   "metadata": {},
   "source": [
    "### Some examples\n",
    "What are the most prominent women / most prominent men in movies?"
   ]
  },
  {
   "cell_type": "code",
   "execution_count": 14,
   "metadata": {},
   "outputs": [],
   "source": [
    "def averageCents(node):\n",
    "    \"\"\"Calculates the mean of each centrality\"\"\"\n",
    "    return np.mean([node[c] for c in centrality_measures])  \n",
    "    \n",
    "male_cents, female_cents = [], []\n",
    "for script, d in data.items():\n",
    "    G = d['graph']\n",
    "    char_list = d['chars']\n",
    "       \n",
    "    male_cents.extend([(averageCents(G.node[i]), char_list[i], script) for i in G.nodes() if G.node[i]['gender'] == 'male'])\n",
    "    female_cents.extend([(averageCents(G.node[i]), char_list[i], script) for i in G.nodes() if G.node[i]['gender'] == 'female'])"
   ]
  },
  {
   "cell_type": "code",
   "execution_count": 15,
   "metadata": {},
   "outputs": [
    {
     "data": {
      "text/plain": [
       "[(1.0, 'LT', 'bad_lieutenant.txt'),\n",
       " (1.0, 'SCOTTIE', 'vertigo.txt'),\n",
       " (0.91746031746031753, 'TONY', 'scarface.txt'),\n",
       " (0.86818181818181817, 'NICHOLAS', 'the_game.txt'),\n",
       " (0.8666666666666667, 'CHUCK', 'cast_away.txt'),\n",
       " (0.8660714285714286, 'ALEXANDER', 'the_time_machine.txt'),\n",
       " (0.86228070175438609, 'FORREST', 'forrest_gump.txt'),\n",
       " (0.85897435897435903, 'RODERICK', 'barry_lyndon.txt'),\n",
       " (0.84829059829059827, 'DANNY', 'salton_sea_the.txt'),\n",
       " (0.84761904761904761, 'BILLY', 'gremlins.txt')]"
      ]
     },
     "execution_count": 15,
     "metadata": {},
     "output_type": "execute_result"
    }
   ],
   "source": [
    "sorted(male_cents, key=lambda x: x[0], reverse=True)[0:10]"
   ]
  },
  {
   "cell_type": "code",
   "execution_count": 16,
   "metadata": {},
   "outputs": [
    {
     "data": {
      "text/plain": [
       "[(0.85119047619047628, 'OLIVE', 'easy_a.txt'),\n",
       " (0.8214285714285714, 'CORALINE', 'coraline.txt'),\n",
       " (0.81341991341991338, 'DOROTHY', 'wizard_of_oz_the.txt'),\n",
       " (0.79075943179204056, 'KATHY', 'whistleblower_the.txt'),\n",
       " (0.77412698412698422, 'SISSY', 'even_cowgirls_get_the_blues.txt'),\n",
       " (0.76930014430014437, 'MAYA', 'zero_dark_thirty.txt'),\n",
       " (0.75803811443932423, 'LISA', 'margaret.txt'),\n",
       " (0.75555555555555554, 'FRANCES', 'frances.txt'),\n",
       " (0.75555555555555554, 'THE BRIDE', 'kill_bill_volume_1_and_2.txt'),\n",
       " (0.75218253968253967, 'EMMA', 'no_strings_attached.txt')]"
      ]
     },
     "execution_count": 16,
     "metadata": {},
     "output_type": "execute_result"
    }
   ],
   "source": [
    "sorted(female_cents, key=lambda x: x[0], reverse=True)[0:10]"
   ]
  },
  {
   "cell_type": "markdown",
   "metadata": {},
   "source": [
    "## By Gender\n",
    "First, we describe the distribution of centralities across different genders:"
   ]
  },
  {
   "cell_type": "code",
   "execution_count": 17,
   "metadata": {},
   "outputs": [
    {
     "name": "stdout",
     "output_type": "stream",
     "text": [
      "degree_centrality\n",
      "DescribeResult(nobs=15133, minmax=(0.0, 1.0), mean=0.39085344359028013, variance=0.060658846118447539, skewness=0.8413833310233242, kurtosis=-0.17330570803736434)\n",
      "betweenness_centrality\n",
      "DescribeResult(nobs=15133, minmax=(0.0, 1.0), mean=0.045594842347982223, variance=0.0087036555743516143, skewness=3.5561931822032755, kurtosis=15.501383735343612)\n"
     ]
    }
   ],
   "source": [
    "for cent in centrality_measures:\n",
    "    print(cent)\n",
    "    print(stats.describe([vals for script, d in data.items() for vals in nx.get_node_attributes(d['graph'], cent).values()]))"
   ]
  },
  {
   "cell_type": "markdown",
   "metadata": {},
   "source": [
    "What are the mean values for each gender?\n",
    "__FIXME:__ This should be medians"
   ]
  },
  {
   "cell_type": "code",
   "execution_count": 18,
   "metadata": {},
   "outputs": [
    {
     "name": "stdout",
     "output_type": "stream",
     "text": [
      "degree_centrality\n",
      "#male: 8270, #female: 3168\n",
      "male's mean: 0.439224457856615, female's mean: 0.4496618675033694\n",
      "betweenness_centrality\n",
      "#male: 8270, #female: 3168\n",
      "male's mean: 0.0588726277976661, female's mean: 0.051286038407297764\n"
     ]
    }
   ],
   "source": [
    "for cent in centrality_measures:\n",
    "    male_cent, female_cent = [], []\n",
    "    for script, d in data.items():\n",
    "        G = d['graph']\n",
    "        male_cent.extend([G.node[i][cent] for i in G.nodes() if G.node[i]['gender'] == 'male'])\n",
    "        female_cent.extend([G.node[i][cent] for i in G.nodes() if G.node[i]['gender'] == 'female'])\n",
    "    print(cent)\n",
    "    print(\"#male: {}, #female: {}\".format(len(male_cent), len(female_cent)))\n",
    "    print(\"male's mean: {}, female's mean: {}\".format(np.mean(male_cent), np.mean(female_cent)))"
   ]
  },
  {
   "cell_type": "markdown",
   "metadata": {},
   "source": [
    "We want to test if the median between male and female centrality differs significantly. We make use of Mann Whitney U-test and control for multiple comparissons (i.e., the different centralities) using Holm-Bonferroni method. When controling for FWER, we could not find any difference between degree centralities. Likewise, there were no significant differences in betweenness centrality."
   ]
  },
  {
   "cell_type": "code",
   "execution_count": 19,
   "metadata": {},
   "outputs": [],
   "source": [
    "tests = {}\n",
    "for cent in centrality_measures:\n",
    "    \n",
    "    male_cent, female_cent = [], []\n",
    "    \n",
    "    for script, d in data.items():\n",
    "        G = d['graph']    \n",
    "        male_cent.extend([G.node[i][cent] for i in G.nodes() if G.node[i]['gender'] == 'male'])\n",
    "        female_cent.extend([G.node[i][cent] for i in G.nodes() if G.node[i]['gender'] == 'female'])\n",
    "    \n",
    "    #Remove nans\n",
    "    male_cent, female_cent = np.array(male_cent), np.array(female_cent)\n",
    "    male_cent = male_cent[~np.isnan(male_cent)]\n",
    "    female_cent = female_cent[~np.isnan(female_cent)]\n",
    "\n",
    "    tests[cent] = stats.mannwhitneyu(male_cent, female_cent)"
   ]
  },
  {
   "cell_type": "markdown",
   "metadata": {},
   "source": [
    "__ There were no significant differences in medians __"
   ]
  },
  {
   "cell_type": "code",
   "execution_count": 20,
   "metadata": {},
   "outputs": [
    {
     "data": {
      "text/plain": [
       "[]"
      ]
     },
     "execution_count": 20,
     "metadata": {},
     "output_type": "execute_result"
    }
   ],
   "source": [
    "# Using Holm-Bonferroni method\n",
    "holmBonferroni(tests.items())"
   ]
  },
  {
   "cell_type": "markdown",
   "metadata": {},
   "source": [
    "### Split by genre\n",
    "What if we take into consideration the movie genre?"
   ]
  },
  {
   "cell_type": "code",
   "execution_count": 21,
   "metadata": {},
   "outputs": [
    {
     "data": {
      "text/html": [
       "<div>\n",
       "<style>\n",
       "    .dataframe thead tr:only-child th {\n",
       "        text-align: right;\n",
       "    }\n",
       "\n",
       "    .dataframe thead th {\n",
       "        text-align: left;\n",
       "    }\n",
       "\n",
       "    .dataframe tbody tr th {\n",
       "        vertical-align: top;\n",
       "    }\n",
       "</style>\n",
       "<table border=\"1\" class=\"dataframe\">\n",
       "  <thead>\n",
       "    <tr style=\"text-align: right;\">\n",
       "      <th></th>\n",
       "      <th>genre</th>\n",
       "      <th>centrality</th>\n",
       "      <th>gender</th>\n",
       "      <th>value</th>\n",
       "    </tr>\n",
       "  </thead>\n",
       "  <tbody>\n",
       "    <tr>\n",
       "      <th>0</th>\n",
       "      <td>Comedy</td>\n",
       "      <td>degree_centrality</td>\n",
       "      <td>female</td>\n",
       "      <td>0.769231</td>\n",
       "    </tr>\n",
       "    <tr>\n",
       "      <th>1</th>\n",
       "      <td>Drama</td>\n",
       "      <td>degree_centrality</td>\n",
       "      <td>female</td>\n",
       "      <td>0.769231</td>\n",
       "    </tr>\n",
       "    <tr>\n",
       "      <th>2</th>\n",
       "      <td>Romance</td>\n",
       "      <td>degree_centrality</td>\n",
       "      <td>female</td>\n",
       "      <td>0.769231</td>\n",
       "    </tr>\n",
       "    <tr>\n",
       "      <th>3</th>\n",
       "      <td>Comedy</td>\n",
       "      <td>degree_centrality</td>\n",
       "      <td>male</td>\n",
       "      <td>0.230769</td>\n",
       "    </tr>\n",
       "    <tr>\n",
       "      <th>4</th>\n",
       "      <td>Drama</td>\n",
       "      <td>degree_centrality</td>\n",
       "      <td>male</td>\n",
       "      <td>0.230769</td>\n",
       "    </tr>\n",
       "  </tbody>\n",
       "</table>\n",
       "</div>"
      ],
      "text/plain": [
       "     genre         centrality  gender     value\n",
       "0   Comedy  degree_centrality  female  0.769231\n",
       "1    Drama  degree_centrality  female  0.769231\n",
       "2  Romance  degree_centrality  female  0.769231\n",
       "3   Comedy  degree_centrality    male  0.230769\n",
       "4    Drama  degree_centrality    male  0.230769"
      ]
     },
     "execution_count": 21,
     "metadata": {},
     "output_type": "execute_result"
    }
   ],
   "source": [
    "centr_byGenre = []\n",
    "for script, d in data.items():\n",
    "    G = d['graph']\n",
    "    genres = d['genres']\n",
    "        \n",
    "    for centr_t in centrality_measures:\n",
    "        centr_v = nx.get_node_attributes(G, centr_t)\n",
    "        genders = nx.get_node_attributes(G, 'gender')\n",
    "        \n",
    "        for k in genders:\n",
    "            if k in centr_v:\n",
    "                centr_byGenre.extend([(t, centr_t, genders[k], centr_v[k]) for t in genres])\n",
    "            else:\n",
    "                centr_byGenre.extend([(t, centr_t, genders[k], np.nan) for t in genres])\n",
    "                \n",
    "centr_byGenre = pd.DataFrame(centr_byGenre, columns = [\"genre\", \"centrality\", \"gender\", \"value\"])\n",
    "centr_byGenre.head()\n",
    "    "
   ]
  },
  {
   "cell_type": "code",
   "execution_count": 22,
   "metadata": {},
   "outputs": [
    {
     "data": {
      "text/html": [
       "<div>\n",
       "<style>\n",
       "    .dataframe thead tr:only-child th {\n",
       "        text-align: right;\n",
       "    }\n",
       "\n",
       "    .dataframe thead th {\n",
       "        text-align: left;\n",
       "    }\n",
       "\n",
       "    .dataframe tbody tr th {\n",
       "        vertical-align: top;\n",
       "    }\n",
       "</style>\n",
       "<table border=\"1\" class=\"dataframe\">\n",
       "  <thead>\n",
       "    <tr style=\"text-align: right;\">\n",
       "      <th></th>\n",
       "      <th>genre</th>\n",
       "      <th>centrality</th>\n",
       "      <th>gender</th>\n",
       "      <th>value</th>\n",
       "    </tr>\n",
       "  </thead>\n",
       "  <tbody>\n",
       "    <tr>\n",
       "      <th>0</th>\n",
       "      <td>Comedy</td>\n",
       "      <td>degree_centrality</td>\n",
       "      <td>female</td>\n",
       "      <td>0.769231</td>\n",
       "    </tr>\n",
       "    <tr>\n",
       "      <th>1</th>\n",
       "      <td>Drama</td>\n",
       "      <td>degree_centrality</td>\n",
       "      <td>female</td>\n",
       "      <td>0.769231</td>\n",
       "    </tr>\n",
       "    <tr>\n",
       "      <th>2</th>\n",
       "      <td>Romance</td>\n",
       "      <td>degree_centrality</td>\n",
       "      <td>female</td>\n",
       "      <td>0.769231</td>\n",
       "    </tr>\n",
       "    <tr>\n",
       "      <th>3</th>\n",
       "      <td>Comedy</td>\n",
       "      <td>degree_centrality</td>\n",
       "      <td>male</td>\n",
       "      <td>0.230769</td>\n",
       "    </tr>\n",
       "    <tr>\n",
       "      <th>4</th>\n",
       "      <td>Drama</td>\n",
       "      <td>degree_centrality</td>\n",
       "      <td>male</td>\n",
       "      <td>0.230769</td>\n",
       "    </tr>\n",
       "  </tbody>\n",
       "</table>\n",
       "</div>"
      ],
      "text/plain": [
       "     genre         centrality  gender     value\n",
       "0   Comedy  degree_centrality  female  0.769231\n",
       "1    Drama  degree_centrality  female  0.769231\n",
       "2  Romance  degree_centrality  female  0.769231\n",
       "3   Comedy  degree_centrality    male  0.230769\n",
       "4    Drama  degree_centrality    male  0.230769"
      ]
     },
     "execution_count": 22,
     "metadata": {},
     "output_type": "execute_result"
    }
   ],
   "source": [
    "#Drop nan's\n",
    "centr_byGenre = centr_byGenre[(centr_byGenre.genre!=\"Documentary\")]\n",
    "centr_byGenre = centr_byGenre[(centr_byGenre.genre!=\"Short\")]\n",
    "centr_byGenre = centr_byGenre[(centr_byGenre.genre!=\"Reality-TV\")]\n",
    "\n",
    "centr_byGenre = centr_byGenre[(centr_byGenre.gender!=\"unknown\")]\n",
    "\n",
    "centr_byGenre = centr_byGenre.dropna()\n",
    "\n",
    "centr_byGenre.head()"
   ]
  },
  {
   "cell_type": "code",
   "execution_count": 23,
   "metadata": {},
   "outputs": [
    {
     "name": "stderr",
     "output_type": "stream",
     "text": [
      "/Users/victor/miniconda3/lib/python3.6/site-packages/ipykernel_launcher.py:2: DeprecationWarning: \n",
      ".ix is deprecated. Please use\n",
      ".loc for label based indexing or\n",
      ".iloc for positional indexing\n",
      "\n",
      "See the documentation here:\n",
      "http://pandas.pydata.org/pandas-docs/stable/indexing.html#ix-indexer-is-deprecated\n",
      "  \n"
     ]
    }
   ],
   "source": [
    "#TODO: Use a .loc instead of .ix\n",
    "res = centr_byGenre.groupby([\"centrality\", \"genre\"]).apply(lambda x: stats.mannwhitneyu(x.ix[x['gender'] == 'male', 'value'].values,\n",
    "                                                                     x.ix[x['gender'] == 'female', 'value'].values))"
   ]
  },
  {
   "cell_type": "markdown",
   "metadata": {},
   "source": [
    "__ There is a real difference in the centrality of characters in: __\n",
    "* Degree of Horror movies (p < 0.001)"
   ]
  },
  {
   "cell_type": "code",
   "execution_count": 24,
   "metadata": {},
   "outputs": [
    {
     "name": "stdout",
     "output_type": "stream",
     "text": [
      "degree_centrality\n",
      "Horror MannwhitneyuResult(statistic=144206.0, pvalue=0.00098616602154669359)\n",
      "\n",
      "betweenness_centrality\n",
      "\n"
     ]
    }
   ],
   "source": [
    "# Using Holm-Bonferroni's method\n",
    "bygenre = res.unstack(level=0)\n",
    "for centr_t in centrality_measures:\n",
    "    \n",
    "    tmp = zip(bygenre[centr_t].index, bygenre[centr_t].values)\n",
    "\n",
    "    print(centr_t)\n",
    "    for g, ttest in holmBonferroni(tmp):\n",
    "        print(g, ttest)\n",
    "    print()"
   ]
  },
  {
   "cell_type": "markdown",
   "metadata": {},
   "source": [
    "## By Race\n",
    "Calculate statistics for centralities per race."
   ]
  },
  {
   "cell_type": "code",
   "execution_count": 25,
   "metadata": {},
   "outputs": [
    {
     "data": {
      "text/html": [
       "<div>\n",
       "<style>\n",
       "    .dataframe thead tr:only-child th {\n",
       "        text-align: right;\n",
       "    }\n",
       "\n",
       "    .dataframe thead th {\n",
       "        text-align: left;\n",
       "    }\n",
       "\n",
       "    .dataframe tbody tr th {\n",
       "        vertical-align: top;\n",
       "    }\n",
       "</style>\n",
       "<table border=\"1\" class=\"dataframe\">\n",
       "  <thead>\n",
       "    <tr style=\"text-align: right;\">\n",
       "      <th></th>\n",
       "      <th>genre</th>\n",
       "      <th>centrality</th>\n",
       "      <th>gender</th>\n",
       "      <th>race</th>\n",
       "      <th>value</th>\n",
       "    </tr>\n",
       "  </thead>\n",
       "  <tbody>\n",
       "    <tr>\n",
       "      <th>0</th>\n",
       "      <td>Comedy</td>\n",
       "      <td>degree_centrality</td>\n",
       "      <td>female</td>\n",
       "      <td>caucasian</td>\n",
       "      <td>0.769231</td>\n",
       "    </tr>\n",
       "    <tr>\n",
       "      <th>1</th>\n",
       "      <td>Drama</td>\n",
       "      <td>degree_centrality</td>\n",
       "      <td>female</td>\n",
       "      <td>caucasian</td>\n",
       "      <td>0.769231</td>\n",
       "    </tr>\n",
       "    <tr>\n",
       "      <th>2</th>\n",
       "      <td>Romance</td>\n",
       "      <td>degree_centrality</td>\n",
       "      <td>female</td>\n",
       "      <td>caucasian</td>\n",
       "      <td>0.769231</td>\n",
       "    </tr>\n",
       "    <tr>\n",
       "      <th>3</th>\n",
       "      <td>Comedy</td>\n",
       "      <td>degree_centrality</td>\n",
       "      <td>male</td>\n",
       "      <td>unknown</td>\n",
       "      <td>0.230769</td>\n",
       "    </tr>\n",
       "    <tr>\n",
       "      <th>4</th>\n",
       "      <td>Drama</td>\n",
       "      <td>degree_centrality</td>\n",
       "      <td>male</td>\n",
       "      <td>unknown</td>\n",
       "      <td>0.230769</td>\n",
       "    </tr>\n",
       "  </tbody>\n",
       "</table>\n",
       "</div>"
      ],
      "text/plain": [
       "     genre         centrality  gender       race     value\n",
       "0   Comedy  degree_centrality  female  caucasian  0.769231\n",
       "1    Drama  degree_centrality  female  caucasian  0.769231\n",
       "2  Romance  degree_centrality  female  caucasian  0.769231\n",
       "3   Comedy  degree_centrality    male    unknown  0.230769\n",
       "4    Drama  degree_centrality    male    unknown  0.230769"
      ]
     },
     "execution_count": 25,
     "metadata": {},
     "output_type": "execute_result"
    }
   ],
   "source": [
    "# Agg by race\n",
    "centr_race_byGenre = []\n",
    "for script, d in data.items():\n",
    "    G = d['graph']\n",
    "    genres = d['genres']\n",
    "        \n",
    "    for centr_t in centrality_measures:\n",
    "        centr_v = nx.get_node_attributes(G, centr_t)\n",
    "        genders = nx.get_node_attributes(G, 'gender')\n",
    "        races = nx.get_node_attributes(G, 'race')\n",
    "        \n",
    "        for k in genders:\n",
    "            if k in centr_v:\n",
    "                centr_race_byGenre.extend([(t, centr_t, genders[k], races[k], centr_v[k]) for t in genres])\n",
    "            else:\n",
    "                centr_race_byGenre.extend([(t, centr_t, genders[k], races[k], np.nan) for t in genres])\n",
    "                \n",
    "centr_race_byGenre = pd.DataFrame(centr_race_byGenre, columns = [\"genre\", \"centrality\", \"gender\", \"race\", \"value\"])\n",
    "centr_race_byGenre.head()"
   ]
  },
  {
   "cell_type": "code",
   "execution_count": 26,
   "metadata": {},
   "outputs": [
    {
     "name": "stderr",
     "output_type": "stream",
     "text": [
      "/Users/victor/miniconda3/lib/python3.6/site-packages/ipykernel_launcher.py:3: DeprecationWarning: \n",
      ".ix is deprecated. Please use\n",
      ".loc for label based indexing or\n",
      ".iloc for positional indexing\n",
      "\n",
      "See the documentation here:\n",
      "http://pandas.pydata.org/pandas-docs/stable/indexing.html#ix-indexer-is-deprecated\n",
      "  This is separate from the ipykernel package so we can avoid doing imports until\n"
     ]
    }
   ],
   "source": [
    "# Fix others -> other\n",
    "# TODO: Use .loc instead of .ix\n",
    "centr_race_byGenre.ix[centr_race_byGenre.race == \"others\", \"race\"] = \"other\""
   ]
  },
  {
   "cell_type": "code",
   "execution_count": 27,
   "metadata": {},
   "outputs": [
    {
     "data": {
      "text/html": [
       "<div>\n",
       "<style>\n",
       "    .dataframe thead tr:only-child th {\n",
       "        text-align: right;\n",
       "    }\n",
       "\n",
       "    .dataframe thead th {\n",
       "        text-align: left;\n",
       "    }\n",
       "\n",
       "    .dataframe tbody tr th {\n",
       "        vertical-align: top;\n",
       "    }\n",
       "</style>\n",
       "<table border=\"1\" class=\"dataframe\">\n",
       "  <thead>\n",
       "    <tr>\n",
       "      <th></th>\n",
       "      <th></th>\n",
       "      <th colspan=\"2\" halign=\"left\">value</th>\n",
       "    </tr>\n",
       "    <tr>\n",
       "      <th></th>\n",
       "      <th></th>\n",
       "      <th>len</th>\n",
       "      <th>median</th>\n",
       "    </tr>\n",
       "    <tr>\n",
       "      <th>centrality</th>\n",
       "      <th>race</th>\n",
       "      <th></th>\n",
       "      <th></th>\n",
       "    </tr>\n",
       "  </thead>\n",
       "  <tbody>\n",
       "    <tr>\n",
       "      <th rowspan=\"10\" valign=\"top\">betweenness_centrality</th>\n",
       "      <th>african</th>\n",
       "      <td>1570.0</td>\n",
       "      <td>0.026181</td>\n",
       "    </tr>\n",
       "    <tr>\n",
       "      <th>asianindian</th>\n",
       "      <td>102.0</td>\n",
       "      <td>0.029853</td>\n",
       "    </tr>\n",
       "    <tr>\n",
       "      <th>caucasian</th>\n",
       "      <td>17878.0</td>\n",
       "      <td>0.031528</td>\n",
       "    </tr>\n",
       "    <tr>\n",
       "      <th>eastasian</th>\n",
       "      <td>212.0</td>\n",
       "      <td>0.023740</td>\n",
       "    </tr>\n",
       "    <tr>\n",
       "      <th>latino</th>\n",
       "      <td>412.0</td>\n",
       "      <td>0.023580</td>\n",
       "    </tr>\n",
       "    <tr>\n",
       "      <th>mixed</th>\n",
       "      <td>1256.0</td>\n",
       "      <td>0.029609</td>\n",
       "    </tr>\n",
       "    <tr>\n",
       "      <th>nativeamerican</th>\n",
       "      <td>53.0</td>\n",
       "      <td>0.006349</td>\n",
       "    </tr>\n",
       "    <tr>\n",
       "      <th>other</th>\n",
       "      <td>53.0</td>\n",
       "      <td>0.022894</td>\n",
       "    </tr>\n",
       "    <tr>\n",
       "      <th>pacificislander</th>\n",
       "      <td>11.0</td>\n",
       "      <td>0.088603</td>\n",
       "    </tr>\n",
       "    <tr>\n",
       "      <th>unknown</th>\n",
       "      <td>23628.0</td>\n",
       "      <td>0.002620</td>\n",
       "    </tr>\n",
       "    <tr>\n",
       "      <th rowspan=\"10\" valign=\"top\">degree_centrality</th>\n",
       "      <th>african</th>\n",
       "      <td>1570.0</td>\n",
       "      <td>0.461538</td>\n",
       "    </tr>\n",
       "    <tr>\n",
       "      <th>asianindian</th>\n",
       "      <td>102.0</td>\n",
       "      <td>0.535714</td>\n",
       "    </tr>\n",
       "    <tr>\n",
       "      <th>caucasian</th>\n",
       "      <td>17878.0</td>\n",
       "      <td>0.500000</td>\n",
       "    </tr>\n",
       "    <tr>\n",
       "      <th>eastasian</th>\n",
       "      <td>212.0</td>\n",
       "      <td>0.444444</td>\n",
       "    </tr>\n",
       "    <tr>\n",
       "      <th>latino</th>\n",
       "      <td>412.0</td>\n",
       "      <td>0.400000</td>\n",
       "    </tr>\n",
       "    <tr>\n",
       "      <th>mixed</th>\n",
       "      <td>1256.0</td>\n",
       "      <td>0.450000</td>\n",
       "    </tr>\n",
       "    <tr>\n",
       "      <th>nativeamerican</th>\n",
       "      <td>53.0</td>\n",
       "      <td>0.444444</td>\n",
       "    </tr>\n",
       "    <tr>\n",
       "      <th>other</th>\n",
       "      <td>53.0</td>\n",
       "      <td>0.428571</td>\n",
       "    </tr>\n",
       "    <tr>\n",
       "      <th>pacificislander</th>\n",
       "      <td>11.0</td>\n",
       "      <td>0.411765</td>\n",
       "    </tr>\n",
       "    <tr>\n",
       "      <th>unknown</th>\n",
       "      <td>23628.0</td>\n",
       "      <td>0.230769</td>\n",
       "    </tr>\n",
       "  </tbody>\n",
       "</table>\n",
       "</div>"
      ],
      "text/plain": [
       "                                          value          \n",
       "                                            len    median\n",
       "centrality             race                              \n",
       "betweenness_centrality african           1570.0  0.026181\n",
       "                       asianindian        102.0  0.029853\n",
       "                       caucasian        17878.0  0.031528\n",
       "                       eastasian          212.0  0.023740\n",
       "                       latino             412.0  0.023580\n",
       "                       mixed             1256.0  0.029609\n",
       "                       nativeamerican      53.0  0.006349\n",
       "                       other               53.0  0.022894\n",
       "                       pacificislander     11.0  0.088603\n",
       "                       unknown          23628.0  0.002620\n",
       "degree_centrality      african           1570.0  0.461538\n",
       "                       asianindian        102.0  0.535714\n",
       "                       caucasian        17878.0  0.500000\n",
       "                       eastasian          212.0  0.444444\n",
       "                       latino             412.0  0.400000\n",
       "                       mixed             1256.0  0.450000\n",
       "                       nativeamerican      53.0  0.444444\n",
       "                       other               53.0  0.428571\n",
       "                       pacificislander     11.0  0.411765\n",
       "                       unknown          23628.0  0.230769"
      ]
     },
     "execution_count": 27,
     "metadata": {},
     "output_type": "execute_result"
    }
   ],
   "source": [
    "centr_race_byGenre.groupby([\"centrality\", \"race\"]).agg([len, sp.median])"
   ]
  },
  {
   "cell_type": "markdown",
   "metadata": {},
   "source": [
    "### Kruskal-Wallis in R\n",
    "\n",
    "This code comes from __CorrectedANOVA.R__ from this same folder. I would recomend you run that file in R instead.\n",
    "\n",
    "For completeness, we present a running version of the code using __Rscript__"
   ]
  },
  {
   "cell_type": "code",
   "execution_count": 28,
   "metadata": {
    "collapsed": true
   },
   "outputs": [],
   "source": [
    "# Save to use in R\n",
    "centr_race_byGenre.to_csv(\"../data/R/aggByRace.csv\", index = False)"
   ]
  },
  {
   "cell_type": "markdown",
   "metadata": {},
   "source": [
    "__This calls R, installs dependencies and prints output here__"
   ]
  },
  {
   "cell_type": "code",
   "execution_count": 31,
   "metadata": {},
   "outputs": [
    {
     "name": "stdout",
     "output_type": "stream",
     "text": [
      "[1] \"CorrectedANOVA.R\"\n",
      "[1] \"CWD:  /Users/victor/Workspace/mica-text-charactergraphs/analysis\"\n",
      "[1] \"Analyzing by:  race\"\n",
      "[1] \"File:  ../data/R/aggByRace.csv\"\n",
      "Parsed with column specification:\n",
      "cols(\n",
      "  genre = col_character(),\n",
      "  centrality = col_character(),\n",
      "  gender = col_character(),\n",
      "  race = col_character(),\n",
      "  value = col_double()\n",
      ")\n",
      "[1] \"Levene's test\"\n",
      "[1] \"Degree: \"\n",
      "Levene's Test for Homogeneity of Variance (center = median)\n",
      "         Df F value    Pr(>F)    \n",
      "group     9   466.8 < 2.2e-16 ***\n",
      "      45165                      \n",
      "---\n",
      "Signif. codes:  0 ‘***’ 0.001 ‘**’ 0.01 ‘*’ 0.05 ‘.’ 0.1 ‘ ’ 1\n",
      "[1] \"\"\n",
      "[1] \"\"\n",
      "[1] \"Betweenness: \"\n",
      "Levene's Test for Homogeneity of Variance (center = median)\n",
      "         Df F value    Pr(>F)    \n",
      "group     9  588.24 < 2.2e-16 ***\n",
      "      45165                      \n",
      "---\n",
      "Signif. codes:  0 ‘***’ 0.001 ‘**’ 0.01 ‘*’ 0.05 ‘.’ 0.1 ‘ ’ 1\n",
      "[1] \"\"\n",
      "[1] \"\"\n",
      "\n",
      "\tPairwise comparisons using Tukey and Kramer (Nemenyi) test\t\n",
      "                   with Tukey-Dist approximation for independent samples \n",
      "\n",
      "data:  value by race \n",
      "\n",
      "                african asianindian caucasian eastasian latino mixed \n",
      "asianindian     1.0000  -           -         -         -      -     \n",
      "caucasian       0.3603  1.0000      -         -         -      -     \n",
      "eastasian       0.9983  0.9978      0.7607    -         -      -     \n",
      "latino          0.6703  0.9468      0.0281    0.9999    -      -     \n",
      "mixed           0.9054  1.0000      1.0000    0.8700    0.1268 -     \n",
      "nativeamerican  0.0498  0.1174      0.0095    0.2746    0.3830 0.0142\n",
      "other           1.0000  1.0000      1.0000    0.9992    0.9858 1.0000\n",
      "pacificislander 0.9994  0.9999      1.0000    0.9966    0.9885 0.9999\n",
      "unknown         <2e-16  7e-14       <2e-16    <2e-16    <2e-16 <2e-16\n",
      "                nativeamerican other  pacificislander\n",
      "asianindian     -              -      -              \n",
      "caucasian       -              -      -              \n",
      "eastasian       -              -      -              \n",
      "latino          -              -      -              \n",
      "mixed           -              -      -              \n",
      "nativeamerican  -              -      -              \n",
      "other           0.2405         -      -              \n",
      "pacificislander 0.6049         1.0000 -              \n",
      "unknown         0.0991         3e-09  0.0156         \n",
      "\n",
      "P value adjustment method: none \n",
      "Warning messages:\n",
      "1: In posthoc.kruskal.nemenyi.test.default(c(0.769230769230769, 0.769230769230769,  :\n",
      "  Ties are present, p-values are not corrected.\n",
      "2: In posthoc.kruskal.nemenyi.test.default(c(0.0427350427350427, 0.0427350427350427,  :\n",
      "  Ties are present, p-values are not corrected.\n"
     ]
    }
   ],
   "source": [
    "!Rscript CorrectedANOVA.R \"race\" \"../data/R/aggByRace.csv\""
   ]
  },
  {
   "cell_type": "markdown",
   "metadata": {},
   "source": [
    "## By Age\n",
    "\n",
    "Calculate statistics for each age. Removes one guy/gal who had more than 100 years, as it is most likely an outlier."
   ]
  },
  {
   "cell_type": "code",
   "execution_count": 32,
   "metadata": {},
   "outputs": [],
   "source": [
    "for script, d in data.items():\n",
    "    G = d['graph']\n",
    "    char_list = d['chars']\n",
    "    \n",
    "    for n in G.nodes():\n",
    "        if G.node[n]['age'] > 100:\n",
    "            print(script, char_list[n], G.node[n]['age'])"
   ]
  },
  {
   "cell_type": "code",
   "execution_count": 33,
   "metadata": {},
   "outputs": [
    {
     "data": {
      "text/html": [
       "<div>\n",
       "<style>\n",
       "    .dataframe thead tr:only-child th {\n",
       "        text-align: right;\n",
       "    }\n",
       "\n",
       "    .dataframe thead th {\n",
       "        text-align: left;\n",
       "    }\n",
       "\n",
       "    .dataframe tbody tr th {\n",
       "        vertical-align: top;\n",
       "    }\n",
       "</style>\n",
       "<table border=\"1\" class=\"dataframe\">\n",
       "  <thead>\n",
       "    <tr style=\"text-align: right;\">\n",
       "      <th></th>\n",
       "      <th>genre</th>\n",
       "      <th>centrality</th>\n",
       "      <th>gender</th>\n",
       "      <th>age</th>\n",
       "      <th>value</th>\n",
       "    </tr>\n",
       "  </thead>\n",
       "  <tbody>\n",
       "    <tr>\n",
       "      <th>0</th>\n",
       "      <td>Comedy</td>\n",
       "      <td>degree_centrality</td>\n",
       "      <td>female</td>\n",
       "      <td>18</td>\n",
       "      <td>0.769231</td>\n",
       "    </tr>\n",
       "    <tr>\n",
       "      <th>1</th>\n",
       "      <td>Drama</td>\n",
       "      <td>degree_centrality</td>\n",
       "      <td>female</td>\n",
       "      <td>18</td>\n",
       "      <td>0.769231</td>\n",
       "    </tr>\n",
       "    <tr>\n",
       "      <th>2</th>\n",
       "      <td>Romance</td>\n",
       "      <td>degree_centrality</td>\n",
       "      <td>female</td>\n",
       "      <td>18</td>\n",
       "      <td>0.769231</td>\n",
       "    </tr>\n",
       "    <tr>\n",
       "      <th>3</th>\n",
       "      <td>Comedy</td>\n",
       "      <td>degree_centrality</td>\n",
       "      <td>male</td>\n",
       "      <td>0</td>\n",
       "      <td>0.230769</td>\n",
       "    </tr>\n",
       "    <tr>\n",
       "      <th>4</th>\n",
       "      <td>Drama</td>\n",
       "      <td>degree_centrality</td>\n",
       "      <td>male</td>\n",
       "      <td>0</td>\n",
       "      <td>0.230769</td>\n",
       "    </tr>\n",
       "  </tbody>\n",
       "</table>\n",
       "</div>"
      ],
      "text/plain": [
       "     genre         centrality  gender  age     value\n",
       "0   Comedy  degree_centrality  female   18  0.769231\n",
       "1    Drama  degree_centrality  female   18  0.769231\n",
       "2  Romance  degree_centrality  female   18  0.769231\n",
       "3   Comedy  degree_centrality    male    0  0.230769\n",
       "4    Drama  degree_centrality    male    0  0.230769"
      ]
     },
     "execution_count": 33,
     "metadata": {},
     "output_type": "execute_result"
    }
   ],
   "source": [
    "# Agg by age\n",
    "\n",
    "centr_age_byGenre = []\n",
    "for script, d in data.items():\n",
    "    G = d['graph']\n",
    "    genres = d['genres']\n",
    "        \n",
    "    for centr_t in centrality_measures:\n",
    "        centr_v = nx.get_node_attributes(G, centr_t)\n",
    "        genders = nx.get_node_attributes(G, 'gender')\n",
    "        ages = nx.get_node_attributes(G, 'age')\n",
    "        \n",
    "        for k in genders:\n",
    "            if k in centr_v:\n",
    "                centr_age_byGenre.extend([(t, centr_t, genders[k], ages[k], centr_v[k]) for t in genres])\n",
    "            else:\n",
    "                centr_age_byGenre.extend([(t, centr_t, genders[k], ages[k], np.nan) for t in genres])\n",
    "                \n",
    "centr_age_byGenre = pd.DataFrame(centr_age_byGenre, columns = [\"genre\", \"centrality\", \"gender\", \"age\", \"value\"])\n",
    "centr_age_byGenre.head()"
   ]
  },
  {
   "cell_type": "code",
   "execution_count": 34,
   "metadata": {},
   "outputs": [],
   "source": [
    "# Drop the guy with more than 100 yrs\n",
    "centr_age_byGenre = centr_age_byGenre[centr_age_byGenre.age < 100]"
   ]
  },
  {
   "cell_type": "markdown",
   "metadata": {
    "collapsed": true
   },
   "source": [
    "__ Analysis moved to R __"
   ]
  },
  {
   "cell_type": "code",
   "execution_count": 35,
   "metadata": {
    "collapsed": true
   },
   "outputs": [],
   "source": [
    "centr_age_byGenre.to_csv(\"../data/R/aggByAgeGender.csv\", index=False)"
   ]
  },
  {
   "cell_type": "markdown",
   "metadata": {},
   "source": [
    "__This calls R, installs dependencies and prints output here__"
   ]
  },
  {
   "cell_type": "code",
   "execution_count": 36,
   "metadata": {},
   "outputs": [
    {
     "name": "stdout",
     "output_type": "stream",
     "text": [
      "[1] \"CorrectedANOVA.R\"\n",
      "[1] \"CWD:  /Users/victor/Workspace/mica-text-charactergraphs/analysis\"\n",
      "[1] \"Analyzing by:  age\"\n",
      "[1] \"File:  ../data/R/aggByAgeGender.csv\"\n",
      "Parsed with column specification:\n",
      "cols(\n",
      "  genre = col_character(),\n",
      "  centrality = col_character(),\n",
      "  gender = col_character(),\n",
      "  age = col_integer(),\n",
      "  value = col_double()\n",
      ")\n",
      "\n",
      "Call:\n",
      "lm(formula = value ~ age, data = degree)\n",
      "\n",
      "Coefficients:\n",
      "(Intercept)          age  \n",
      "   0.314007     0.003371  \n",
      "\n",
      "\n",
      "Call:\n",
      "lm(formula = value ~ age, data = betweenness)\n",
      "\n",
      "Residuals:\n",
      "     Min       1Q   Median       3Q      Max \n",
      "-0.10085 -0.04173 -0.02614 -0.00429  0.93123 \n",
      "\n",
      "Coefficients:\n",
      "             Estimate Std. Error t value Pr(>|t|)    \n",
      "(Intercept) 2.671e-02  6.070e-04   44.00   <2e-16 ***\n",
      "age         8.413e-04  1.928e-05   43.63   <2e-16 ***\n",
      "---\n",
      "Signif. codes:  0 ‘***’ 0.001 ‘**’ 0.01 ‘*’ 0.05 ‘.’ 0.1 ‘ ’ 1\n",
      "\n",
      "Residual standard error: 0.09135 on 45173 degrees of freedom\n",
      "Multiple R-squared:  0.04043,\tAdjusted R-squared:  0.04041 \n",
      "F-statistic:  1903 on 1 and 45173 DF,  p-value: < 2.2e-16\n",
      "\n"
     ]
    }
   ],
   "source": [
    "!Rscript CorrectedANOVA.R \"age\" \"../data/R/aggByAgeGender.csv\""
   ]
  },
  {
   "cell_type": "code",
   "execution_count": null,
   "metadata": {
    "collapsed": true
   },
   "outputs": [],
   "source": []
  }
 ],
 "metadata": {
  "anaconda-cloud": {},
  "kernelspec": {
   "display_name": "Python 3",
   "language": "python",
   "name": "python3"
  },
  "language_info": {
   "codemirror_mode": {
    "name": "ipython",
    "version": 3
   },
   "file_extension": ".py",
   "mimetype": "text/x-python",
   "name": "python",
   "nbconvert_exporter": "python",
   "pygments_lexer": "ipython3",
   "version": "3.6.1"
  }
 },
 "nbformat": 4,
 "nbformat_minor": 1
}
