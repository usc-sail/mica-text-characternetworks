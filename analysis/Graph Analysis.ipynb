{
 "cells": [
  {
   "cell_type": "code",
   "execution_count": 1,
   "metadata": {
    "collapsed": false
   },
   "outputs": [],
   "source": [
    "%matplotlib inline\n",
    "from utils import read, createGraph, readExtraInfo, readGenre, readBirthdays, getCharacterAges\n",
    "from glob import iglob as glob\n",
    "from os.path import exists, basename\n",
    "import pandas as pd\n",
    "import matplotlib.pyplot as plt\n",
    "import seaborn as sns\n",
    "from collections import defaultdict, Counter\n",
    "import numpy as np\n",
    "import scipy as sp\n",
    "import warnings\n",
    "import networkx as nx\n",
    "import logging\n",
    "from funcy import walk_values, partial\n",
    "from scipy import stats\n",
    "import itertools\n",
    "import statsmodels.api as sm\n",
    "from statsmodels.formula.api import ols\n",
    "from statsmodels.stats.multicomp import pairwise_tukeyhsd, MultiComparison\n",
    "\n",
    "\n",
    "plt.rcParams[\"figure.figsize\"] = (10, 8)"
   ]
  },
  {
   "cell_type": "code",
   "execution_count": 2,
   "metadata": {
    "collapsed": false
   },
   "outputs": [],
   "source": [
    "logging.basicConfig(format = \"%(asctime)-15s %(message)s\", level = logging.DEBUG)"
   ]
  },
  {
   "cell_type": "code",
   "execution_count": 3,
   "metadata": {
    "collapsed": false
   },
   "outputs": [],
   "source": [
    "th = 2\n",
    "data_dir = \"../data/utterances_with_charnames/*\"\n",
    "info_dir = \"../data/charandmovie_info/\"\n",
    "birthdays_f = \"../data/age/actor_birthdays.txt\""
   ]
  },
  {
   "cell_type": "markdown",
   "metadata": {
    "collapsed": true
   },
   "source": [
    "## Read all scripts"
   ]
  },
  {
   "cell_type": "code",
   "execution_count": 4,
   "metadata": {
    "collapsed": true
   },
   "outputs": [],
   "source": [
    "birthdays = readBirthdays(birthdays_f)"
   ]
  },
  {
   "cell_type": "code",
   "execution_count": 5,
   "metadata": {
    "collapsed": false
   },
   "outputs": [],
   "source": [
    "data = {}\n",
    "for script in glob(data_dir):\n",
    "    \n",
    "    _, char_list, adj = read(script, threshold = th)\n",
    "\n",
    "    extra_info = info_dir + basename(script)\n",
    "    if exists(extra_info):\n",
    "        genders, races, namesids, movieyear = readExtraInfo(extra_info)\n",
    "        genres = readGenre(extra_info)\n",
    "    else:\n",
    "#         logging.warning(\"Info for {} not found\".format(basename(script)))\n",
    "#         gens = defaultdict(lambda: 'unknown')\n",
    "#         races = defaultdict(lambda: 'unknown')  \n",
    "        continue\n",
    "    \n",
    "    def splitRaces(x):\n",
    "        r = x.split(\",\")\n",
    "        if len(r) > 0:\n",
    "            if len(r) > 1:\n",
    "                return \"mixed\"\n",
    "            else:\n",
    "                return r[0]\n",
    "    \n",
    "    races = walk_values(splitRaces, races)\n",
    "    ages = getCharacterAges(char_list, namesids, movieyear, birthdays)\n",
    "        \n",
    "        \n",
    "    G = createGraph(char_list,\n",
    "                    adj,\n",
    "                    genders = genders,\n",
    "                    races = races,\n",
    "                    ages = ages)\n",
    "\n",
    "    \n",
    "\n",
    "    key = basename(script)\n",
    "\n",
    "    data[key] = {}\n",
    "    data[key]['graph'] = G\n",
    "    data[key]['chars'] = char_list\n",
    "    data[key]['genres'] = genres\n",
    "    data[key]['ages'] = ages\n",
    "    data[key]['races'] = races\n",
    "    data[key]['year'] = movieyear\n",
    "    "
   ]
  },
  {
   "cell_type": "code",
   "execution_count": 6,
   "metadata": {
    "collapsed": false
   },
   "outputs": [
    {
     "data": {
      "text/plain": [
       "986"
      ]
     },
     "execution_count": 6,
     "metadata": {},
     "output_type": "execute_result"
    }
   ],
   "source": [
    "len(data)"
   ]
  },
  {
   "cell_type": "code",
   "execution_count": 7,
   "metadata": {
    "collapsed": false
   },
   "outputs": [
    {
     "data": {
      "text/plain": [
       "15133"
      ]
     },
     "execution_count": 7,
     "metadata": {},
     "output_type": "execute_result"
    }
   ],
   "source": [
    "np.sum([nx.number_of_nodes(d['graph']) for d in data.values()])"
   ]
  },
  {
   "cell_type": "code",
   "execution_count": 8,
   "metadata": {
    "collapsed": false
   },
   "outputs": [
    {
     "name": "stdout",
     "output_type": "stream",
     "text": [
      "Counter({'Drama': 559, 'Thriller': 368, 'Comedy': 287, 'Action': 252, 'Crime': 242, 'Romance': 194, 'Adventure': 170, 'Sci-Fi': 156, 'Mystery': 145, 'Horror': 116, 'Fantasy': 115, 'Biography': 70, 'Family': 49, 'History': 34, 'War': 34, 'Sport': 32, 'Animation': 32, 'Music': 22, 'Musical': 19, 'Western': 17, 'Short': 5, 'Film-Noir': 5})\n"
     ]
    }
   ],
   "source": [
    "types = Counter([y for x in [d['genres'] for script, d in data.items()] for y in x])\n",
    "print(types)\n",
    "types = list(types.keys())"
   ]
  },
  {
   "cell_type": "code",
   "execution_count": 9,
   "metadata": {
    "collapsed": false
   },
   "outputs": [
    {
     "name": "stdout",
     "output_type": "stream",
     "text": [
      "Counter({'unknown': 7893, 'caucasian': 6887, 'african': 618, 'mixed': 449, 'latino': 165, 'eastasian': 78, 'asianindian': 44, 'other': 25, 'nativeamerican': 15, 'pacificislander': 7, 'others': 2})\n"
     ]
    }
   ],
   "source": [
    "races = Counter([y for x in [list(d['races'].values()) for d in data.values()] for y in x])\n",
    "print(races)\n",
    "races = list(races.keys())"
   ]
  },
  {
   "cell_type": "code",
   "execution_count": 10,
   "metadata": {
    "collapsed": true
   },
   "outputs": [],
   "source": [
    "centrality_measures = ['degree_cent', 'betweenness_cent']"
   ]
  },
  {
   "cell_type": "code",
   "execution_count": 11,
   "metadata": {
    "collapsed": false
   },
   "outputs": [],
   "source": [
    "xkcd_colors = sns.xkcd_palette([\"grass green\", \"sand\", \"blue\", \"light red\", \"cerulean\",\n",
    "                                \"red\", \"light blue\", \"teal\", \"orange\", \"light green\",\n",
    "                                \"magenta\", \"yellow\", \"sky blue\", \"grey\", \"cobalt\",\n",
    "                                \"grass\", \"algae green\", \"coral\", \"cerise\", \"steel\",\n",
    "                                \"hot purple\", \"mango\", \"pale lime\", \"rouge\"])\n",
    "colors = itertools.cycle(xkcd_colors)"
   ]
  },
  {
   "cell_type": "code",
   "execution_count": 12,
   "metadata": {
    "collapsed": true
   },
   "outputs": [],
   "source": [
    "# Using Holm-Bonferroni method\n",
    "def holmBonferroni(tests):\n",
    "    res_2 = sorted(tests, key = lambda x: x[1].pvalue)\n",
    "    m = len(res_2)\n",
    "\n",
    "    k = 0\n",
    "    while k < len(res_2) and res_2[k][1].pvalue < 0.05 / (m + 1 - k - 1):\n",
    "        k += 1\n",
    "\n",
    "    return res_2[:(k - 1)]"
   ]
  },
  {
   "cell_type": "markdown",
   "metadata": {},
   "source": [
    "# Pre-check\n",
    "In [GENDER BIAS WITHOUT BORDERS](http://seejane.org/wp-content/uploads/gender-bias-without-borders-executive-summary.pdf), there is a ratio of 2.25 men for every women on screen (women = $30.9$%). Lets check our numbers."
   ]
  },
  {
   "cell_type": "code",
   "execution_count": null,
   "metadata": {
    "collapsed": false
   },
   "outputs": [],
   "source": [
    "total, males, females = 0, 0, 0\n",
    "for _, d in data.items():\n",
    "    G = d['graph']\n",
    "    \n",
    "    for i in G.nodes():\n",
    "        if G.node[i]['gender'] == 'male':\n",
    "            males += 1\n",
    "        elif G.node[i]['gender'] == 'female':\n",
    "            females += 1\n",
    "        \n",
    "        total += 1\n",
    "        \n",
    "print(\"total: {}\".format(total))\n",
    "print(\"males: {:.2f}%\".format(float(males) / total))\n",
    "print(\"females: {:.2f}%\".format(float(females) / total))\n"
   ]
  },
  {
   "cell_type": "markdown",
   "metadata": {},
   "source": [
    "What if we drop unknown?... shouldn't matter right?"
   ]
  },
  {
   "cell_type": "code",
   "execution_count": null,
   "metadata": {
    "collapsed": false
   },
   "outputs": [],
   "source": [
    "print(\"males: {:.2f}%\".format(float(males) / (males + females)))\n",
    "print(\"females: {:.2f}%\".format(float(females) / (males + females)))"
   ]
  },
  {
   "cell_type": "markdown",
   "metadata": {},
   "source": [
    "# Graph analysis\n",
    "\n",
    "## Centrality Measurements"
   ]
  },
  {
   "cell_type": "markdown",
   "metadata": {},
   "source": [
    "### Calculate and save centralities"
   ]
  },
  {
   "cell_type": "code",
   "execution_count": 13,
   "metadata": {
    "collapsed": false
   },
   "outputs": [],
   "source": [
    "for script, d in data.items():\n",
    "    G = d['graph']\n",
    "    \n",
    "    degree = nx.degree_centrality(G)\n",
    "    nx.set_node_attributes(G, 'degree_cent', degree)\n",
    "    \n",
    "    betweenness = nx.betweenness_centrality(G)\n",
    "    nx.set_node_attributes(G, 'betweenness_cent', betweenness)\n",
    "    \n",
    "    #eigen = nx.eigenvector_centrality(G)\n",
    "    #nx.set_node_attributes(G, 'eigen_cent', eigen)\n",
    "        \n",
    "    # closeness = nx.closeness_centrality(G)\n",
    "    # nx.set_node_attributes(G, 'closeness_cent', closeness)\n",
    "        \n",
    "    # pagerank = nx.pagerank(G)\n",
    "    # nx.set_node_attributes(G, 'pagerank_cent', pagerank)\n",
    "    \n",
    "    "
   ]
  },
  {
   "cell_type": "markdown",
   "metadata": {},
   "source": [
    "### Some examples"
   ]
  },
  {
   "cell_type": "markdown",
   "metadata": {},
   "source": [
    "Most prominent women / most prominent men"
   ]
  },
  {
   "cell_type": "code",
   "execution_count": null,
   "metadata": {
    "collapsed": false
   },
   "outputs": [],
   "source": [
    "def averageCents(node):\n",
    "    return np.mean([node['degree_cent'], node['betweenness_cent'], node['closeness_cent'], node['pagerank_cent']])  \n",
    "    \n",
    "male_cents, female_cents = [], []\n",
    "for script, d in data.items():\n",
    "    G = d['graph']\n",
    "    char_list = d['chars']\n",
    "       \n",
    "    male_cents.extend([(averageCents(G.node[i]), char_list[i], script) for i in G.nodes() if G.node[i]['gender'] == 'male'])\n",
    "    female_cents.extend([(averageCents(G.node[i]), char_list[i], script) for i in G.nodes() if G.node[i]['gender'] == 'female'])"
   ]
  },
  {
   "cell_type": "code",
   "execution_count": null,
   "metadata": {
    "collapsed": false
   },
   "outputs": [],
   "source": [
    "sorted(male_cents, key=lambda x: x[0], reverse=True)[0:10]"
   ]
  },
  {
   "cell_type": "code",
   "execution_count": null,
   "metadata": {
    "collapsed": false
   },
   "outputs": [],
   "source": [
    "sorted(female_cents, key=lambda x: x[0], reverse=True)[0:10]"
   ]
  },
  {
   "cell_type": "markdown",
   "metadata": {},
   "source": [
    "## By Gender"
   ]
  },
  {
   "cell_type": "code",
   "execution_count": 14,
   "metadata": {
    "collapsed": false
   },
   "outputs": [
    {
     "name": "stdout",
     "output_type": "stream",
     "text": [
      "degree_cent\n",
      "DescribeResult(nobs=15133, minmax=(0.0, 1.0), mean=0.39085344359028013, variance=0.060658846118447539, skewness=0.8413833310233241, kurtosis=-0.17330570803736434)\n",
      "betweenness_cent\n",
      "DescribeResult(nobs=15133, minmax=(0.0, 1.0), mean=0.045594842347982223, variance=0.0087036555743516143, skewness=3.5561931822032755, kurtosis=15.501383735343612)\n"
     ]
    }
   ],
   "source": [
    "for cent in centrality_measures:\n",
    "    print(cent)\n",
    "    print(stats.describe([vals for script, d in data.items() for vals in nx.get_node_attributes(d['graph'], cent).values()]))"
   ]
  },
  {
   "cell_type": "code",
   "execution_count": 20,
   "metadata": {
    "collapsed": false
   },
   "outputs": [],
   "source": [
    "tests = {}\n",
    "for cent in centrality_measures:\n",
    "    \n",
    "    male_cent, female_cent = [], []\n",
    "    \n",
    "    for script, d in data.items():\n",
    "        G = d['graph']    \n",
    "        male_cent.extend([G.node[i][cent] for i in G.nodes() if G.node[i]['gender'] == 'male'])\n",
    "        female_cent.extend([G.node[i][cent] for i in G.nodes() if G.node[i]['gender'] == 'female'])\n",
    "    \n",
    "    #Remove nans\n",
    "    male_cent, female_cent = np.array(male_cent), np.array(female_cent)\n",
    "    male_cent = male_cent[~np.isnan(male_cent)]\n",
    "    female_cent = female_cent[~np.isnan(female_cent)]\n",
    "\n",
    "    tests[cent] = stats.mannwhitneyu(male_cent, female_cent)"
   ]
  },
  {
   "cell_type": "code",
   "execution_count": 23,
   "metadata": {
    "collapsed": false
   },
   "outputs": [
    {
     "name": "stdout",
     "output_type": "stream",
     "text": [
      "degree_cent\n",
      "8270 3168\n",
      "0.439224457857 0.449661867503\n",
      "betweenness_cent\n",
      "8270 3168\n",
      "0.0588726277977 0.0512860384073\n"
     ]
    }
   ],
   "source": [
    "for cent in centrality_measures:\n",
    "    male_cent, female_cent = [], []\n",
    "    for script, d in data.items():\n",
    "        G = d['graph']\n",
    "        male_cent.extend([G.node[i][cent] for i in G.nodes() if G.node[i]['gender'] == 'male'])\n",
    "        female_cent.extend([G.node[i][cent] for i in G.nodes() if G.node[i]['gender'] == 'female'])\n",
    "    print(cent)\n",
    "    print(len(male_cent), len(female_cent))\n",
    "    print(np.mean(male_cent), np.mean(female_cent))"
   ]
  },
  {
   "cell_type": "code",
   "execution_count": 22,
   "metadata": {
    "collapsed": false
   },
   "outputs": [
    {
     "data": {
      "text/plain": [
       "[]"
      ]
     },
     "execution_count": 22,
     "metadata": {},
     "output_type": "execute_result"
    }
   ],
   "source": [
    "# Using Holm-Bonferroni method\n",
    "holmBonferroni(tests.items())"
   ]
  },
  {
   "cell_type": "markdown",
   "metadata": {},
   "source": [
    "### Split by genre"
   ]
  },
  {
   "cell_type": "code",
   "execution_count": 24,
   "metadata": {
    "collapsed": false
   },
   "outputs": [
    {
     "data": {
      "text/html": [
       "<div>\n",
       "<table border=\"1\" class=\"dataframe\">\n",
       "  <thead>\n",
       "    <tr style=\"text-align: right;\">\n",
       "      <th></th>\n",
       "      <th>genre</th>\n",
       "      <th>centrality</th>\n",
       "      <th>gender</th>\n",
       "      <th>value</th>\n",
       "    </tr>\n",
       "  </thead>\n",
       "  <tbody>\n",
       "    <tr>\n",
       "      <th>0</th>\n",
       "      <td>Drama</td>\n",
       "      <td>degree_cent</td>\n",
       "      <td>male</td>\n",
       "      <td>1.000000</td>\n",
       "    </tr>\n",
       "    <tr>\n",
       "      <th>1</th>\n",
       "      <td>Sport</td>\n",
       "      <td>degree_cent</td>\n",
       "      <td>male</td>\n",
       "      <td>1.000000</td>\n",
       "    </tr>\n",
       "    <tr>\n",
       "      <th>2</th>\n",
       "      <td>Thriller</td>\n",
       "      <td>degree_cent</td>\n",
       "      <td>male</td>\n",
       "      <td>1.000000</td>\n",
       "    </tr>\n",
       "    <tr>\n",
       "      <th>3</th>\n",
       "      <td>Drama</td>\n",
       "      <td>degree_cent</td>\n",
       "      <td>male</td>\n",
       "      <td>0.181818</td>\n",
       "    </tr>\n",
       "    <tr>\n",
       "      <th>4</th>\n",
       "      <td>Sport</td>\n",
       "      <td>degree_cent</td>\n",
       "      <td>male</td>\n",
       "      <td>0.181818</td>\n",
       "    </tr>\n",
       "  </tbody>\n",
       "</table>\n",
       "</div>"
      ],
      "text/plain": [
       "      genre   centrality gender     value\n",
       "0     Drama  degree_cent   male  1.000000\n",
       "1     Sport  degree_cent   male  1.000000\n",
       "2  Thriller  degree_cent   male  1.000000\n",
       "3     Drama  degree_cent   male  0.181818\n",
       "4     Sport  degree_cent   male  0.181818"
      ]
     },
     "execution_count": 24,
     "metadata": {},
     "output_type": "execute_result"
    }
   ],
   "source": [
    "centr_byGenre = []\n",
    "for script, d in data.items():\n",
    "    G = d['graph']\n",
    "    genres = d['genres']\n",
    "        \n",
    "    for centr_t in centrality_measures:\n",
    "        centr_v = nx.get_node_attributes(G, centr_t)\n",
    "        genders = nx.get_node_attributes(G, 'gender')\n",
    "        \n",
    "        for k in genders:\n",
    "            if k in centr_v:\n",
    "                centr_byGenre.extend([(t, centr_t, genders[k], centr_v[k]) for t in genres])\n",
    "            else:\n",
    "                centr_byGenre.extend([(t, centr_t, genders[k], np.nan) for t in genres])\n",
    "                \n",
    "centr_byGenre = pd.DataFrame(centr_byGenre, columns = [\"genre\", \"centrality\", \"gender\", \"value\"])\n",
    "centr_byGenre.head()\n",
    "    "
   ]
  },
  {
   "cell_type": "code",
   "execution_count": 25,
   "metadata": {
    "collapsed": false
   },
   "outputs": [
    {
     "data": {
      "text/html": [
       "<div>\n",
       "<table border=\"1\" class=\"dataframe\">\n",
       "  <thead>\n",
       "    <tr style=\"text-align: right;\">\n",
       "      <th></th>\n",
       "      <th>genre</th>\n",
       "      <th>centrality</th>\n",
       "      <th>gender</th>\n",
       "      <th>value</th>\n",
       "    </tr>\n",
       "  </thead>\n",
       "  <tbody>\n",
       "    <tr>\n",
       "      <th>0</th>\n",
       "      <td>Drama</td>\n",
       "      <td>degree_cent</td>\n",
       "      <td>male</td>\n",
       "      <td>1.000000</td>\n",
       "    </tr>\n",
       "    <tr>\n",
       "      <th>1</th>\n",
       "      <td>Sport</td>\n",
       "      <td>degree_cent</td>\n",
       "      <td>male</td>\n",
       "      <td>1.000000</td>\n",
       "    </tr>\n",
       "    <tr>\n",
       "      <th>2</th>\n",
       "      <td>Thriller</td>\n",
       "      <td>degree_cent</td>\n",
       "      <td>male</td>\n",
       "      <td>1.000000</td>\n",
       "    </tr>\n",
       "    <tr>\n",
       "      <th>3</th>\n",
       "      <td>Drama</td>\n",
       "      <td>degree_cent</td>\n",
       "      <td>male</td>\n",
       "      <td>0.181818</td>\n",
       "    </tr>\n",
       "    <tr>\n",
       "      <th>4</th>\n",
       "      <td>Sport</td>\n",
       "      <td>degree_cent</td>\n",
       "      <td>male</td>\n",
       "      <td>0.181818</td>\n",
       "    </tr>\n",
       "  </tbody>\n",
       "</table>\n",
       "</div>"
      ],
      "text/plain": [
       "      genre   centrality gender     value\n",
       "0     Drama  degree_cent   male  1.000000\n",
       "1     Sport  degree_cent   male  1.000000\n",
       "2  Thriller  degree_cent   male  1.000000\n",
       "3     Drama  degree_cent   male  0.181818\n",
       "4     Sport  degree_cent   male  0.181818"
      ]
     },
     "execution_count": 25,
     "metadata": {},
     "output_type": "execute_result"
    }
   ],
   "source": [
    "#Drop nan's\n",
    "centr_byGenre = centr_byGenre[(centr_byGenre.genre!=\"Documentary\")]\n",
    "centr_byGenre = centr_byGenre[(centr_byGenre.genre!=\"Short\")]\n",
    "centr_byGenre = centr_byGenre[(centr_byGenre.genre!=\"Reality-TV\")]\n",
    "\n",
    "centr_byGenre = centr_byGenre[(centr_byGenre.gender!=\"unknown\")]\n",
    "\n",
    "centr_byGenre = centr_byGenre.dropna()\n",
    "\n",
    "centr_byGenre.head()"
   ]
  },
  {
   "cell_type": "code",
   "execution_count": 28,
   "metadata": {
    "collapsed": false
   },
   "outputs": [],
   "source": [
    "res = centr_byGenre.groupby([\"centrality\", \"genre\"]).apply(lambda x: stats.mannwhitneyu(x.ix[x['gender'] == 'male', 'value'].values,\n",
    "                                                                     x.ix[x['gender'] == 'female', 'value'].values))"
   ]
  },
  {
   "cell_type": "markdown",
   "metadata": {},
   "source": [
    "__ There is a real difference in the centrality of characters in: __"
   ]
  },
  {
   "cell_type": "code",
   "execution_count": 40,
   "metadata": {
    "collapsed": false
   },
   "outputs": [
    {
     "data": {
      "text/html": [
       "<div>\n",
       "<table border=\"1\" class=\"dataframe\">\n",
       "  <thead>\n",
       "    <tr>\n",
       "      <th></th>\n",
       "      <th></th>\n",
       "      <th colspan=\"2\" halign=\"left\">value</th>\n",
       "    </tr>\n",
       "    <tr>\n",
       "      <th></th>\n",
       "      <th></th>\n",
       "      <th>len</th>\n",
       "      <th>median</th>\n",
       "    </tr>\n",
       "    <tr>\n",
       "      <th>genre</th>\n",
       "      <th>gender</th>\n",
       "      <th></th>\n",
       "      <th></th>\n",
       "    </tr>\n",
       "  </thead>\n",
       "  <tbody>\n",
       "    <tr>\n",
       "      <th rowspan=\"2\" valign=\"top\">Action</th>\n",
       "      <th>female</th>\n",
       "      <td>1368.0</td>\n",
       "      <td>0.160000</td>\n",
       "    </tr>\n",
       "    <tr>\n",
       "      <th>male</th>\n",
       "      <td>4746.0</td>\n",
       "      <td>0.166667</td>\n",
       "    </tr>\n",
       "    <tr>\n",
       "      <th rowspan=\"2\" valign=\"top\">Adventure</th>\n",
       "      <th>female</th>\n",
       "      <td>924.0</td>\n",
       "      <td>0.160000</td>\n",
       "    </tr>\n",
       "    <tr>\n",
       "      <th>male</th>\n",
       "      <td>3154.0</td>\n",
       "      <td>0.163023</td>\n",
       "    </tr>\n",
       "    <tr>\n",
       "      <th rowspan=\"2\" valign=\"top\">Animation</th>\n",
       "      <th>female</th>\n",
       "      <td>212.0</td>\n",
       "      <td>0.187500</td>\n",
       "    </tr>\n",
       "    <tr>\n",
       "      <th>male</th>\n",
       "      <td>554.0</td>\n",
       "      <td>0.157287</td>\n",
       "    </tr>\n",
       "    <tr>\n",
       "      <th rowspan=\"2\" valign=\"top\">Biography</th>\n",
       "      <th>female</th>\n",
       "      <td>510.0</td>\n",
       "      <td>0.137848</td>\n",
       "    </tr>\n",
       "    <tr>\n",
       "      <th>male</th>\n",
       "      <td>1292.0</td>\n",
       "      <td>0.136601</td>\n",
       "    </tr>\n",
       "    <tr>\n",
       "      <th rowspan=\"2\" valign=\"top\">Comedy</th>\n",
       "      <th>female</th>\n",
       "      <td>2106.0</td>\n",
       "      <td>0.160000</td>\n",
       "    </tr>\n",
       "    <tr>\n",
       "      <th>male</th>\n",
       "      <td>4608.0</td>\n",
       "      <td>0.166667</td>\n",
       "    </tr>\n",
       "    <tr>\n",
       "      <th rowspan=\"2\" valign=\"top\">Crime</th>\n",
       "      <th>female</th>\n",
       "      <td>1294.0</td>\n",
       "      <td>0.160556</td>\n",
       "    </tr>\n",
       "    <tr>\n",
       "      <th>male</th>\n",
       "      <td>4202.0</td>\n",
       "      <td>0.162749</td>\n",
       "    </tr>\n",
       "    <tr>\n",
       "      <th rowspan=\"2\" valign=\"top\">Drama</th>\n",
       "      <th>female</th>\n",
       "      <td>3758.0</td>\n",
       "      <td>0.157895</td>\n",
       "    </tr>\n",
       "    <tr>\n",
       "      <th>male</th>\n",
       "      <td>9344.0</td>\n",
       "      <td>0.160000</td>\n",
       "    </tr>\n",
       "    <tr>\n",
       "      <th rowspan=\"2\" valign=\"top\">Family</th>\n",
       "      <th>female</th>\n",
       "      <td>334.0</td>\n",
       "      <td>0.183985</td>\n",
       "    </tr>\n",
       "    <tr>\n",
       "      <th>male</th>\n",
       "      <td>874.0</td>\n",
       "      <td>0.157287</td>\n",
       "    </tr>\n",
       "    <tr>\n",
       "      <th rowspan=\"2\" valign=\"top\">Fantasy</th>\n",
       "      <th>female</th>\n",
       "      <td>788.0</td>\n",
       "      <td>0.171297</td>\n",
       "    </tr>\n",
       "    <tr>\n",
       "      <th>male</th>\n",
       "      <td>1932.0</td>\n",
       "      <td>0.153846</td>\n",
       "    </tr>\n",
       "    <tr>\n",
       "      <th rowspan=\"2\" valign=\"top\">Film-Noir</th>\n",
       "      <th>female</th>\n",
       "      <td>26.0</td>\n",
       "      <td>0.178571</td>\n",
       "    </tr>\n",
       "    <tr>\n",
       "      <th>male</th>\n",
       "      <td>68.0</td>\n",
       "      <td>0.236172</td>\n",
       "    </tr>\n",
       "    <tr>\n",
       "      <th rowspan=\"2\" valign=\"top\">History</th>\n",
       "      <th>female</th>\n",
       "      <td>220.0</td>\n",
       "      <td>0.125000</td>\n",
       "    </tr>\n",
       "    <tr>\n",
       "      <th>male</th>\n",
       "      <td>894.0</td>\n",
       "      <td>0.117647</td>\n",
       "    </tr>\n",
       "    <tr>\n",
       "      <th rowspan=\"2\" valign=\"top\">Horror</th>\n",
       "      <th>female</th>\n",
       "      <td>776.0</td>\n",
       "      <td>0.221843</td>\n",
       "    </tr>\n",
       "    <tr>\n",
       "      <th>male</th>\n",
       "      <td>1670.0</td>\n",
       "      <td>0.166667</td>\n",
       "    </tr>\n",
       "    <tr>\n",
       "      <th rowspan=\"2\" valign=\"top\">Music</th>\n",
       "      <th>female</th>\n",
       "      <td>172.0</td>\n",
       "      <td>0.147923</td>\n",
       "    </tr>\n",
       "    <tr>\n",
       "      <th>male</th>\n",
       "      <td>352.0</td>\n",
       "      <td>0.172436</td>\n",
       "    </tr>\n",
       "    <tr>\n",
       "      <th rowspan=\"2\" valign=\"top\">Musical</th>\n",
       "      <th>female</th>\n",
       "      <td>154.0</td>\n",
       "      <td>0.155096</td>\n",
       "    </tr>\n",
       "    <tr>\n",
       "      <th>male</th>\n",
       "      <td>352.0</td>\n",
       "      <td>0.150275</td>\n",
       "    </tr>\n",
       "    <tr>\n",
       "      <th rowspan=\"2\" valign=\"top\">Mystery</th>\n",
       "      <th>female</th>\n",
       "      <td>830.0</td>\n",
       "      <td>0.176471</td>\n",
       "    </tr>\n",
       "    <tr>\n",
       "      <th>male</th>\n",
       "      <td>2182.0</td>\n",
       "      <td>0.169555</td>\n",
       "    </tr>\n",
       "    <tr>\n",
       "      <th rowspan=\"2\" valign=\"top\">Romance</th>\n",
       "      <th>female</th>\n",
       "      <td>1554.0</td>\n",
       "      <td>0.181818</td>\n",
       "    </tr>\n",
       "    <tr>\n",
       "      <th>male</th>\n",
       "      <td>2872.0</td>\n",
       "      <td>0.172219</td>\n",
       "    </tr>\n",
       "    <tr>\n",
       "      <th rowspan=\"2\" valign=\"top\">Sci-Fi</th>\n",
       "      <th>female</th>\n",
       "      <td>874.0</td>\n",
       "      <td>0.166667</td>\n",
       "    </tr>\n",
       "    <tr>\n",
       "      <th>male</th>\n",
       "      <td>2694.0</td>\n",
       "      <td>0.166667</td>\n",
       "    </tr>\n",
       "    <tr>\n",
       "      <th rowspan=\"2\" valign=\"top\">Sport</th>\n",
       "      <th>female</th>\n",
       "      <td>184.0</td>\n",
       "      <td>0.142857</td>\n",
       "    </tr>\n",
       "    <tr>\n",
       "      <th>male</th>\n",
       "      <td>642.0</td>\n",
       "      <td>0.180195</td>\n",
       "    </tr>\n",
       "    <tr>\n",
       "      <th rowspan=\"2\" valign=\"top\">Thriller</th>\n",
       "      <th>female</th>\n",
       "      <td>2036.0</td>\n",
       "      <td>0.177521</td>\n",
       "    </tr>\n",
       "    <tr>\n",
       "      <th>male</th>\n",
       "      <td>6048.0</td>\n",
       "      <td>0.166667</td>\n",
       "    </tr>\n",
       "    <tr>\n",
       "      <th rowspan=\"2\" valign=\"top\">War</th>\n",
       "      <th>female</th>\n",
       "      <td>160.0</td>\n",
       "      <td>0.114694</td>\n",
       "    </tr>\n",
       "    <tr>\n",
       "      <th>male</th>\n",
       "      <td>838.0</td>\n",
       "      <td>0.121875</td>\n",
       "    </tr>\n",
       "    <tr>\n",
       "      <th rowspan=\"2\" valign=\"top\">Western</th>\n",
       "      <th>female</th>\n",
       "      <td>86.0</td>\n",
       "      <td>0.133333</td>\n",
       "    </tr>\n",
       "    <tr>\n",
       "      <th>male</th>\n",
       "      <td>372.0</td>\n",
       "      <td>0.163409</td>\n",
       "    </tr>\n",
       "  </tbody>\n",
       "</table>\n",
       "</div>"
      ],
      "text/plain": [
       "                   value          \n",
       "                     len    median\n",
       "genre     gender                  \n",
       "Action    female  1368.0  0.160000\n",
       "          male    4746.0  0.166667\n",
       "Adventure female   924.0  0.160000\n",
       "          male    3154.0  0.163023\n",
       "Animation female   212.0  0.187500\n",
       "          male     554.0  0.157287\n",
       "Biography female   510.0  0.137848\n",
       "          male    1292.0  0.136601\n",
       "Comedy    female  2106.0  0.160000\n",
       "          male    4608.0  0.166667\n",
       "Crime     female  1294.0  0.160556\n",
       "          male    4202.0  0.162749\n",
       "Drama     female  3758.0  0.157895\n",
       "          male    9344.0  0.160000\n",
       "Family    female   334.0  0.183985\n",
       "          male     874.0  0.157287\n",
       "Fantasy   female   788.0  0.171297\n",
       "          male    1932.0  0.153846\n",
       "Film-Noir female    26.0  0.178571\n",
       "          male      68.0  0.236172\n",
       "History   female   220.0  0.125000\n",
       "          male     894.0  0.117647\n",
       "Horror    female   776.0  0.221843\n",
       "          male    1670.0  0.166667\n",
       "Music     female   172.0  0.147923\n",
       "          male     352.0  0.172436\n",
       "Musical   female   154.0  0.155096\n",
       "          male     352.0  0.150275\n",
       "Mystery   female   830.0  0.176471\n",
       "          male    2182.0  0.169555\n",
       "Romance   female  1554.0  0.181818\n",
       "          male    2872.0  0.172219\n",
       "Sci-Fi    female   874.0  0.166667\n",
       "          male    2694.0  0.166667\n",
       "Sport     female   184.0  0.142857\n",
       "          male     642.0  0.180195\n",
       "Thriller  female  2036.0  0.177521\n",
       "          male    6048.0  0.166667\n",
       "War       female   160.0  0.114694\n",
       "          male     838.0  0.121875\n",
       "Western   female    86.0  0.133333\n",
       "          male     372.0  0.163409"
      ]
     },
     "execution_count": 40,
     "metadata": {},
     "output_type": "execute_result"
    }
   ],
   "source": [
    "centr_byGenre[[\"genre\", \"gender\", \"value\"]].groupby([\"genre\", \"gender\"]).agg([len, sp.median])"
   ]
  },
  {
   "cell_type": "code",
   "execution_count": 30,
   "metadata": {
    "collapsed": false
   },
   "outputs": [
    {
     "name": "stdout",
     "output_type": "stream",
     "text": [
      "degree_cent\n",
      "Horror MannwhitneyuResult(statistic=144206.0, pvalue=0.00098616602154669359)\n",
      "\n",
      "betweenness_cent\n",
      "\n"
     ]
    }
   ],
   "source": [
    "# Using Holm-Bonferroni's method\n",
    "bygenre = res.unstack(level=0)\n",
    "for centr_t in centrality_measures:\n",
    "    \n",
    "    tmp = zip(bygenre[centr_t].index, bygenre[centr_t].values)\n",
    "\n",
    "    print(centr_t)\n",
    "    for g, ttest in holmBonferroni(tmp):\n",
    "        print(g, ttest)\n",
    "    print()"
   ]
  },
  {
   "cell_type": "code",
   "execution_count": null,
   "metadata": {
    "collapsed": false
   },
   "outputs": [],
   "source": [
    "# t = centr_byGenre[centr_byGenre.genre.isin(['Drama', 'Comedy', 'Horror'])]\n",
    "# t = t[t.centrality == \"betweenness_cent\"]\n",
    "# bplt = sns.boxplot(x = 'genre', y = 'value', hue = 'gender', data = t)\n",
    "# bplt.axes.set_ylim([0, .3]);"
   ]
  },
  {
   "cell_type": "markdown",
   "metadata": {},
   "source": [
    "## By Race\n",
    "I can either agg by race (e.g., caucassian males get more important roles) or I could agg races by gender (e.g., latino women are more demanded than latino men)."
   ]
  },
  {
   "cell_type": "code",
   "execution_count": 31,
   "metadata": {
    "collapsed": false
   },
   "outputs": [
    {
     "data": {
      "text/html": [
       "<div>\n",
       "<table border=\"1\" class=\"dataframe\">\n",
       "  <thead>\n",
       "    <tr style=\"text-align: right;\">\n",
       "      <th></th>\n",
       "      <th>genre</th>\n",
       "      <th>centrality</th>\n",
       "      <th>gender</th>\n",
       "      <th>race</th>\n",
       "      <th>value</th>\n",
       "    </tr>\n",
       "  </thead>\n",
       "  <tbody>\n",
       "    <tr>\n",
       "      <th>0</th>\n",
       "      <td>Drama</td>\n",
       "      <td>degree_cent</td>\n",
       "      <td>male</td>\n",
       "      <td>caucasian</td>\n",
       "      <td>1.000000</td>\n",
       "    </tr>\n",
       "    <tr>\n",
       "      <th>1</th>\n",
       "      <td>Sport</td>\n",
       "      <td>degree_cent</td>\n",
       "      <td>male</td>\n",
       "      <td>caucasian</td>\n",
       "      <td>1.000000</td>\n",
       "    </tr>\n",
       "    <tr>\n",
       "      <th>2</th>\n",
       "      <td>Thriller</td>\n",
       "      <td>degree_cent</td>\n",
       "      <td>male</td>\n",
       "      <td>caucasian</td>\n",
       "      <td>1.000000</td>\n",
       "    </tr>\n",
       "    <tr>\n",
       "      <th>3</th>\n",
       "      <td>Drama</td>\n",
       "      <td>degree_cent</td>\n",
       "      <td>male</td>\n",
       "      <td>caucasian</td>\n",
       "      <td>0.181818</td>\n",
       "    </tr>\n",
       "    <tr>\n",
       "      <th>4</th>\n",
       "      <td>Sport</td>\n",
       "      <td>degree_cent</td>\n",
       "      <td>male</td>\n",
       "      <td>caucasian</td>\n",
       "      <td>0.181818</td>\n",
       "    </tr>\n",
       "  </tbody>\n",
       "</table>\n",
       "</div>"
      ],
      "text/plain": [
       "      genre   centrality gender       race     value\n",
       "0     Drama  degree_cent   male  caucasian  1.000000\n",
       "1     Sport  degree_cent   male  caucasian  1.000000\n",
       "2  Thriller  degree_cent   male  caucasian  1.000000\n",
       "3     Drama  degree_cent   male  caucasian  0.181818\n",
       "4     Sport  degree_cent   male  caucasian  0.181818"
      ]
     },
     "execution_count": 31,
     "metadata": {},
     "output_type": "execute_result"
    }
   ],
   "source": [
    "# Agg by race\n",
    "centr_race_byGenre = []\n",
    "for script, d in data.items():\n",
    "    G = d['graph']\n",
    "    genres = d['genres']\n",
    "        \n",
    "    for centr_t in centrality_measures:\n",
    "        centr_v = nx.get_node_attributes(G, centr_t)\n",
    "        genders = nx.get_node_attributes(G, 'gender')\n",
    "        races = nx.get_node_attributes(G, 'race')\n",
    "        \n",
    "        for k in genders:\n",
    "            if k in centr_v:\n",
    "                centr_race_byGenre.extend([(t, centr_t, genders[k], races[k], centr_v[k]) for t in genres])\n",
    "            else:\n",
    "                centr_race_byGenre.extend([(t, centr_t, genders[k], races[k], np.nan) for t in genres])\n",
    "                \n",
    "centr_race_byGenre = pd.DataFrame(centr_race_byGenre, columns = [\"genre\", \"centrality\", \"gender\", \"race\", \"value\"])\n",
    "centr_race_byGenre.head()"
   ]
  },
  {
   "cell_type": "code",
   "execution_count": 32,
   "metadata": {
    "collapsed": true
   },
   "outputs": [],
   "source": [
    "# Fix others -> other\n",
    "centr_race_byGenre.ix[centr_race_byGenre.race == \"others\", \"race\"] = \"other\""
   ]
  },
  {
   "cell_type": "code",
   "execution_count": 42,
   "metadata": {
    "collapsed": false
   },
   "outputs": [
    {
     "data": {
      "text/html": [
       "<div>\n",
       "<table border=\"1\" class=\"dataframe\">\n",
       "  <thead>\n",
       "    <tr>\n",
       "      <th></th>\n",
       "      <th></th>\n",
       "      <th colspan=\"2\" halign=\"left\">value</th>\n",
       "    </tr>\n",
       "    <tr>\n",
       "      <th></th>\n",
       "      <th></th>\n",
       "      <th>len</th>\n",
       "      <th>median</th>\n",
       "    </tr>\n",
       "    <tr>\n",
       "      <th>centrality</th>\n",
       "      <th>race</th>\n",
       "      <th></th>\n",
       "      <th></th>\n",
       "    </tr>\n",
       "  </thead>\n",
       "  <tbody>\n",
       "    <tr>\n",
       "      <th rowspan=\"10\" valign=\"top\">betweenness_cent</th>\n",
       "      <th>african</th>\n",
       "      <td>1570.0</td>\n",
       "      <td>0.026181</td>\n",
       "    </tr>\n",
       "    <tr>\n",
       "      <th>asianindian</th>\n",
       "      <td>102.0</td>\n",
       "      <td>0.029853</td>\n",
       "    </tr>\n",
       "    <tr>\n",
       "      <th>caucasian</th>\n",
       "      <td>17878.0</td>\n",
       "      <td>0.031528</td>\n",
       "    </tr>\n",
       "    <tr>\n",
       "      <th>eastasian</th>\n",
       "      <td>212.0</td>\n",
       "      <td>0.023740</td>\n",
       "    </tr>\n",
       "    <tr>\n",
       "      <th>latino</th>\n",
       "      <td>412.0</td>\n",
       "      <td>0.023580</td>\n",
       "    </tr>\n",
       "    <tr>\n",
       "      <th>mixed</th>\n",
       "      <td>1256.0</td>\n",
       "      <td>0.029609</td>\n",
       "    </tr>\n",
       "    <tr>\n",
       "      <th>nativeamerican</th>\n",
       "      <td>53.0</td>\n",
       "      <td>0.006349</td>\n",
       "    </tr>\n",
       "    <tr>\n",
       "      <th>other</th>\n",
       "      <td>53.0</td>\n",
       "      <td>0.022894</td>\n",
       "    </tr>\n",
       "    <tr>\n",
       "      <th>pacificislander</th>\n",
       "      <td>11.0</td>\n",
       "      <td>0.088603</td>\n",
       "    </tr>\n",
       "    <tr>\n",
       "      <th>unknown</th>\n",
       "      <td>23628.0</td>\n",
       "      <td>0.002620</td>\n",
       "    </tr>\n",
       "    <tr>\n",
       "      <th rowspan=\"10\" valign=\"top\">degree_cent</th>\n",
       "      <th>african</th>\n",
       "      <td>1570.0</td>\n",
       "      <td>0.461538</td>\n",
       "    </tr>\n",
       "    <tr>\n",
       "      <th>asianindian</th>\n",
       "      <td>102.0</td>\n",
       "      <td>0.535714</td>\n",
       "    </tr>\n",
       "    <tr>\n",
       "      <th>caucasian</th>\n",
       "      <td>17878.0</td>\n",
       "      <td>0.500000</td>\n",
       "    </tr>\n",
       "    <tr>\n",
       "      <th>eastasian</th>\n",
       "      <td>212.0</td>\n",
       "      <td>0.444444</td>\n",
       "    </tr>\n",
       "    <tr>\n",
       "      <th>latino</th>\n",
       "      <td>412.0</td>\n",
       "      <td>0.400000</td>\n",
       "    </tr>\n",
       "    <tr>\n",
       "      <th>mixed</th>\n",
       "      <td>1256.0</td>\n",
       "      <td>0.450000</td>\n",
       "    </tr>\n",
       "    <tr>\n",
       "      <th>nativeamerican</th>\n",
       "      <td>53.0</td>\n",
       "      <td>0.444444</td>\n",
       "    </tr>\n",
       "    <tr>\n",
       "      <th>other</th>\n",
       "      <td>53.0</td>\n",
       "      <td>0.428571</td>\n",
       "    </tr>\n",
       "    <tr>\n",
       "      <th>pacificislander</th>\n",
       "      <td>11.0</td>\n",
       "      <td>0.411765</td>\n",
       "    </tr>\n",
       "    <tr>\n",
       "      <th>unknown</th>\n",
       "      <td>23628.0</td>\n",
       "      <td>0.230769</td>\n",
       "    </tr>\n",
       "  </tbody>\n",
       "</table>\n",
       "</div>"
      ],
      "text/plain": [
       "                                    value          \n",
       "                                      len    median\n",
       "centrality       race                              \n",
       "betweenness_cent african           1570.0  0.026181\n",
       "                 asianindian        102.0  0.029853\n",
       "                 caucasian        17878.0  0.031528\n",
       "                 eastasian          212.0  0.023740\n",
       "                 latino             412.0  0.023580\n",
       "                 mixed             1256.0  0.029609\n",
       "                 nativeamerican      53.0  0.006349\n",
       "                 other               53.0  0.022894\n",
       "                 pacificislander     11.0  0.088603\n",
       "                 unknown          23628.0  0.002620\n",
       "degree_cent      african           1570.0  0.461538\n",
       "                 asianindian        102.0  0.535714\n",
       "                 caucasian        17878.0  0.500000\n",
       "                 eastasian          212.0  0.444444\n",
       "                 latino             412.0  0.400000\n",
       "                 mixed             1256.0  0.450000\n",
       "                 nativeamerican      53.0  0.444444\n",
       "                 other               53.0  0.428571\n",
       "                 pacificislander     11.0  0.411765\n",
       "                 unknown          23628.0  0.230769"
      ]
     },
     "execution_count": 42,
     "metadata": {},
     "output_type": "execute_result"
    }
   ],
   "source": [
    "centr_race_byGenre.groupby([\"centrality\", \"race\"]).agg([len, sp.median])"
   ]
  },
  {
   "cell_type": "markdown",
   "metadata": {},
   "source": [
    "__ ~~ANOVA~~  Kruskal-Wallis was moved to R __"
   ]
  },
  {
   "cell_type": "code",
   "execution_count": 34,
   "metadata": {
    "collapsed": true
   },
   "outputs": [],
   "source": [
    "# Save to use in R\n",
    "centr_race_byGenre.to_csv(\"../data/R/aggByRace.csv\", index = False)"
   ]
  },
  {
   "cell_type": "markdown",
   "metadata": {},
   "source": [
    "## By Age"
   ]
  },
  {
   "cell_type": "code",
   "execution_count": 35,
   "metadata": {
    "collapsed": false
   },
   "outputs": [],
   "source": [
    "# WHO THE FUCK HAD >!00 YRS!?\n",
    "for script, d in data.items():\n",
    "    G = d['graph']\n",
    "    char_list = d['chars']\n",
    "    \n",
    "    for n in G.nodes():\n",
    "        if G.node[n]['age'] > 100:\n",
    "            print(script, char_list[n], G.node[n]['age'])"
   ]
  },
  {
   "cell_type": "code",
   "execution_count": 36,
   "metadata": {
    "collapsed": false
   },
   "outputs": [
    {
     "data": {
      "text/html": [
       "<div>\n",
       "<table border=\"1\" class=\"dataframe\">\n",
       "  <thead>\n",
       "    <tr style=\"text-align: right;\">\n",
       "      <th></th>\n",
       "      <th>genre</th>\n",
       "      <th>centrality</th>\n",
       "      <th>gender</th>\n",
       "      <th>age</th>\n",
       "      <th>value</th>\n",
       "    </tr>\n",
       "  </thead>\n",
       "  <tbody>\n",
       "    <tr>\n",
       "      <th>0</th>\n",
       "      <td>Drama</td>\n",
       "      <td>degree_cent</td>\n",
       "      <td>male</td>\n",
       "      <td>36</td>\n",
       "      <td>1.000000</td>\n",
       "    </tr>\n",
       "    <tr>\n",
       "      <th>1</th>\n",
       "      <td>Sport</td>\n",
       "      <td>degree_cent</td>\n",
       "      <td>male</td>\n",
       "      <td>36</td>\n",
       "      <td>1.000000</td>\n",
       "    </tr>\n",
       "    <tr>\n",
       "      <th>2</th>\n",
       "      <td>Thriller</td>\n",
       "      <td>degree_cent</td>\n",
       "      <td>male</td>\n",
       "      <td>36</td>\n",
       "      <td>1.000000</td>\n",
       "    </tr>\n",
       "    <tr>\n",
       "      <th>3</th>\n",
       "      <td>Drama</td>\n",
       "      <td>degree_cent</td>\n",
       "      <td>male</td>\n",
       "      <td>36</td>\n",
       "      <td>0.181818</td>\n",
       "    </tr>\n",
       "    <tr>\n",
       "      <th>4</th>\n",
       "      <td>Sport</td>\n",
       "      <td>degree_cent</td>\n",
       "      <td>male</td>\n",
       "      <td>36</td>\n",
       "      <td>0.181818</td>\n",
       "    </tr>\n",
       "  </tbody>\n",
       "</table>\n",
       "</div>"
      ],
      "text/plain": [
       "      genre   centrality gender  age     value\n",
       "0     Drama  degree_cent   male   36  1.000000\n",
       "1     Sport  degree_cent   male   36  1.000000\n",
       "2  Thriller  degree_cent   male   36  1.000000\n",
       "3     Drama  degree_cent   male   36  0.181818\n",
       "4     Sport  degree_cent   male   36  0.181818"
      ]
     },
     "execution_count": 36,
     "metadata": {},
     "output_type": "execute_result"
    }
   ],
   "source": [
    "# Agg by age\n",
    "\n",
    "centr_age_byGenre = []\n",
    "for script, d in data.items():\n",
    "    G = d['graph']\n",
    "    genres = d['genres']\n",
    "        \n",
    "    for centr_t in centrality_measures:\n",
    "        centr_v = nx.get_node_attributes(G, centr_t)\n",
    "        genders = nx.get_node_attributes(G, 'gender')\n",
    "        ages = nx.get_node_attributes(G, 'age')\n",
    "        \n",
    "        for k in genders:\n",
    "            if k in centr_v:\n",
    "                centr_age_byGenre.extend([(t, centr_t, genders[k], ages[k], centr_v[k]) for t in genres])\n",
    "            else:\n",
    "                centr_age_byGenre.extend([(t, centr_t, genders[k], ages[k], np.nan) for t in genres])\n",
    "                \n",
    "centr_age_byGenre = pd.DataFrame(centr_age_byGenre, columns = [\"genre\", \"centrality\", \"gender\", \"age\", \"value\"])\n",
    "centr_age_byGenre.head()"
   ]
  },
  {
   "cell_type": "code",
   "execution_count": 37,
   "metadata": {
    "collapsed": false
   },
   "outputs": [],
   "source": [
    "# Drop the guy with more than 100 yrs\n",
    "centr_age_byGenre = centr_age_byGenre[centr_age_byGenre.age < 100]"
   ]
  },
  {
   "cell_type": "markdown",
   "metadata": {
    "collapsed": true
   },
   "source": [
    "__ Analysis moved to R __"
   ]
  },
  {
   "cell_type": "code",
   "execution_count": 38,
   "metadata": {
    "collapsed": true
   },
   "outputs": [],
   "source": [
    "centr_age_byGenre.to_csv(\"../data/R/aggByAgeGender.csv\", index=False)"
   ]
  },
  {
   "cell_type": "code",
   "execution_count": null,
   "metadata": {
    "collapsed": true
   },
   "outputs": [],
   "source": []
  }
 ],
 "metadata": {
  "anaconda-cloud": {},
  "kernelspec": {
   "display_name": "Python [default]",
   "language": "python",
   "name": "python3"
  },
  "language_info": {
   "codemirror_mode": {
    "name": "ipython",
    "version": 3
   },
   "file_extension": ".py",
   "mimetype": "text/x-python",
   "name": "python",
   "nbconvert_exporter": "python",
   "pygments_lexer": "ipython3",
   "version": "3.5.2"
  }
 },
 "nbformat": 4,
 "nbformat_minor": 0
}
