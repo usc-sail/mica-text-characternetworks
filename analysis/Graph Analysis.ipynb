{
 "cells": [
  {
   "cell_type": "code",
   "execution_count": 1,
   "metadata": {
    "collapsed": false
   },
   "outputs": [],
   "source": [
    "%matplotlib inline\n",
    "from utils import read, createGraph, readGenders, readGenre\n",
    "from glob import iglob as glob\n",
    "from os.path import exists, basename\n",
    "import pandas as pd\n",
    "import matplotlib.pyplot as plt\n",
    "import seaborn as sns\n",
    "from collections import defaultdict, Counter\n",
    "import numpy as np\n",
    "import scipy as sp\n",
    "import pickle\n",
    "import warnings\n",
    "import community\n",
    "import networkx as nx\n",
    "import itertools\n",
    "import scipy as sp \n",
    "import logging\n",
    "from funcy import walk_values\n",
    "\n",
    "plt.rcParams[\"figure.figsize\"] = (10, 8)"
   ]
  },
  {
   "cell_type": "code",
   "execution_count": 2,
   "metadata": {
    "collapsed": true
   },
   "outputs": [],
   "source": [
    "logging.basicConfig(format = \"%(asctime)-15s %(message)s\", level = logging.DEBUG)"
   ]
  },
  {
   "cell_type": "code",
   "execution_count": 3,
   "metadata": {
    "collapsed": false
   },
   "outputs": [],
   "source": [
    "th = 2\n",
    "data_dir = \"../data/utterances_with_charnames/*\"\n",
    "info_dir = \"../data/charandmovie_info/\""
   ]
  },
  {
   "cell_type": "markdown",
   "metadata": {
    "collapsed": true
   },
   "source": [
    "## Read all scripts"
   ]
  },
  {
   "cell_type": "code",
   "execution_count": 4,
   "metadata": {
    "collapsed": false
   },
   "outputs": [],
   "source": [
    "data = {}\n",
    "for script in glob(data_dir):\n",
    "    \n",
    "    gens, races, genres = None, None, None\n",
    "    _, char_list, adj = read(script, threshold = th)\n",
    "\n",
    "    extra_info = info_dir + basename(script)\n",
    "    if exists(extra_info):\n",
    "        gens, races = readGenders(extra_info)\n",
    "        genres = readGenre(extra_info)\n",
    "    else:\n",
    "#         logging.warning(\"Info for {} not found\".format(basename(script)))\n",
    "#         gens = defaultdict(lambda: 'unknown')\n",
    "#         races = defaultdict(lambda: 'unknown')  \n",
    "        continue\n",
    "        \n",
    "    races = walk_values(lambda x: x.split(\",\")[0], races)\n",
    "        \n",
    "    G = createGraph(char_list, adj, gens, races)\n",
    "\n",
    "    \n",
    "\n",
    "    key = basename(script)\n",
    "\n",
    "    data[key] = {}\n",
    "    data[key]['graph'] = G\n",
    "    data[key]['chars'] = char_list\n",
    "    data[key]['genres'] = genres\n",
    "    data[key]['races'] = races\n",
    "    "
   ]
  },
  {
   "cell_type": "code",
   "execution_count": 5,
   "metadata": {
    "collapsed": false
   },
   "outputs": [
    {
     "data": {
      "text/plain": [
       "{'chars': array(['ANGELA', 'BARBARA', 'BUDDY', 'CAROLYN', 'COLONEL', 'CONTINUED',\n",
       "        'JANE', 'JIM #1', 'JIM #2', 'LESTER', 'RICKY', 'TAPE VOICE'], \n",
       "       dtype='<U15'),\n",
       " 'genres': ['Drama', 'Romance'],\n",
       " 'graph': <networkx.classes.graph.Graph at 0x10e7d1320>,\n",
       " 'races': defaultdict(<function funcy.funcs.compose.<locals>.<lambda>.<locals>.<lambda>>,\n",
       "             {'ANGELA': 'caucasian',\n",
       "              'BARBARA': 'caucasian',\n",
       "              'BRAD': 'caucasian',\n",
       "              'BUDDY': 'caucasian',\n",
       "              'CAROLYN': 'caucasian',\n",
       "              'COLONEL': 'caucasian',\n",
       "              'CONTINUED': 'unknown',\n",
       "              'JANE': 'caucasian',\n",
       "              'JIM #1': 'unknown',\n",
       "              'JIM #2': 'unknown',\n",
       "              'JIM 1': 'caucasian',\n",
       "              'JIM 2': 'caucasian',\n",
       "              'LESTER': 'caucasian',\n",
       "              'RICKY': 'caucasian',\n",
       "              'TAPE VOICE': 'unknown'})}"
      ]
     },
     "execution_count": 5,
     "metadata": {},
     "output_type": "execute_result"
    }
   ],
   "source": [
    "data['american_beauty.txt']"
   ]
  },
  {
   "cell_type": "code",
   "execution_count": 6,
   "metadata": {
    "collapsed": false
   },
   "outputs": [
    {
     "data": {
      "text/plain": [
       "15133"
      ]
     },
     "execution_count": 6,
     "metadata": {},
     "output_type": "execute_result"
    }
   ],
   "source": [
    "np.sum([nx.number_of_nodes(d['graph']) for d in data.values()])"
   ]
  },
  {
   "cell_type": "code",
   "execution_count": 7,
   "metadata": {
    "collapsed": false
   },
   "outputs": [
    {
     "name": "stdout",
     "output_type": "stream",
     "text": [
      "Counter({'Drama': 559, 'Thriller': 368, 'Comedy': 287, 'Action': 252, 'Crime': 242, 'Romance': 194, 'Adventure': 170, 'Sci-Fi': 156, 'Mystery': 145, 'Horror': 116, 'Fantasy': 115, 'Biography': 70, 'Family': 49, 'History': 34, 'War': 34, 'Animation': 32, 'Sport': 32, 'Music': 22, 'Musical': 19, 'Western': 17, 'Short': 5, 'Film-Noir': 5})\n"
     ]
    }
   ],
   "source": [
    "types = Counter([y for x in [d['genres'] for script, d in data.items()] for y in x])\n",
    "print(types)\n",
    "types = list(types.keys())"
   ]
  },
  {
   "cell_type": "code",
   "execution_count": 8,
   "metadata": {
    "collapsed": false
   },
   "outputs": [
    {
     "name": "stdout",
     "output_type": "stream",
     "text": [
      "Counter({'caucasian': 8219, 'unknown': 6750, 'african': 881, 'latino': 281, 'other': 234, 'eastasian': 137, 'nativeamerican': 77, 'asianindian': 77, 'pacificislander': 22, 'others': 12})\n"
     ]
    }
   ],
   "source": [
    "races = Counter([y for x in [list(d['races'].values()) for d in data.values()] for y in x])\n",
    "print(races)\n",
    "races = list(races.keys())"
   ]
  },
  {
   "cell_type": "code",
   "execution_count": 9,
   "metadata": {
    "collapsed": true
   },
   "outputs": [],
   "source": [
    "xkcd_colors = sns.xkcd_palette([\"grass green\", \"sand\", \"blue\", \"light red\", \"cerulean\",\n",
    "                                \"red\", \"light blue\", \"teal\", \"orange\", \"light green\",\n",
    "                                \"magenta\", \"yellow\", \"sky blue\", \"grey\", \"cobalt\",\n",
    "                                \"grass\", \"algae green\", \"coral\", \"cerise\", \"steel\",\n",
    "                                \"hot purple\", \"mango\", \"pale lime\", \"rouge\"])\n",
    "colors = itertools.cycle(xkcd_colors)"
   ]
  },
  {
   "cell_type": "markdown",
   "metadata": {},
   "source": [
    "# Pre-check\n",
    "In [GENDER BIAS WITHOUT BORDERS](http://seejane.org/wp-content/uploads/gender-bias-without-borders-executive-summary.pdf), there is a ratio of 2.25 men for every women on screen (women = $30.9$%). Lets check our numbers."
   ]
  },
  {
   "cell_type": "code",
   "execution_count": null,
   "metadata": {
    "collapsed": false
   },
   "outputs": [],
   "source": [
    "total, males, females = 0, 0, 0\n",
    "for _, d in data.items():\n",
    "    G = d['graph']\n",
    "    \n",
    "    for i in G.nodes():\n",
    "        if G.node[i]['gender'] == 'male':\n",
    "            males += 1\n",
    "        elif G.node[i]['gender'] == 'female':\n",
    "            females += 1\n",
    "        \n",
    "        total += 1\n",
    "        \n",
    "print(\"total: {}\".format(total))\n",
    "print(\"males: {:.2f}%\".format(float(males) / total))\n",
    "print(\"females: {:.2f}%\".format(float(females) / total))\n"
   ]
  },
  {
   "cell_type": "markdown",
   "metadata": {},
   "source": [
    "What if we drop unknown?... shouldn't matter right?"
   ]
  },
  {
   "cell_type": "code",
   "execution_count": null,
   "metadata": {
    "collapsed": false
   },
   "outputs": [],
   "source": [
    "print(\"males: {:.2f}%\".format(float(males) / (males + females)))\n",
    "print(\"females: {:.2f}%\".format(float(females) / (males + females)))"
   ]
  },
  {
   "cell_type": "markdown",
   "metadata": {},
   "source": [
    "# Graph analysis"
   ]
  },
  {
   "cell_type": "markdown",
   "metadata": {
    "collapsed": true
   },
   "source": [
    "# Degree centrality"
   ]
  },
  {
   "cell_type": "markdown",
   "metadata": {},
   "source": [
    "#### Average degree"
   ]
  },
  {
   "cell_type": "code",
   "execution_count": null,
   "metadata": {
    "collapsed": false
   },
   "outputs": [],
   "source": [
    "warnings.simplefilter(\"ignore\")\n",
    "male_deg, female_deg = [], []\n",
    "for script, d in data.items():\n",
    "    G = d['graph']\n",
    "    degrees = nx.degree(G)\n",
    "    \n",
    "    male_deg.append(np.mean([degrees[i] for i in G.nodes() if G.node[i]['gender'] == 'male']))\n",
    "    female_deg.append(np.mean([degrees[i] for i in G.nodes() if G.node[i]['gender'] == 'female']))"
   ]
  },
  {
   "cell_type": "code",
   "execution_count": null,
   "metadata": {
    "collapsed": false
   },
   "outputs": [],
   "source": [
    "#Remove nans\n",
    "\n",
    "male_deg = np.array(male_deg)\n",
    "female_deg = np.array(female_deg)\n",
    "\n",
    "male_deg = male_deg[~np.isnan(male_deg)]\n",
    "female_deg = female_deg[~np.isnan(female_deg)]"
   ]
  },
  {
   "cell_type": "code",
   "execution_count": null,
   "metadata": {
    "collapsed": false
   },
   "outputs": [],
   "source": [
    "sp.stats.describe([y for x in [list(nx.degree(d['graph']).values()) for script, d in data.items()]\n",
    "     for y in x])"
   ]
  },
  {
   "cell_type": "code",
   "execution_count": null,
   "metadata": {
    "collapsed": false
   },
   "outputs": [],
   "source": [
    "sns.distplot(male_deg, hist = False, label = \"male\");\n",
    "sns.distplot(female_deg, hist = False, label = \"female\");\n",
    "plt.legend();\n",
    "plt.xlabel(\"average degree\");"
   ]
  },
  {
   "cell_type": "markdown",
   "metadata": {},
   "source": [
    "There is no real difference in the number of connections between men and women."
   ]
  },
  {
   "cell_type": "code",
   "execution_count": null,
   "metadata": {
    "collapsed": false
   },
   "outputs": [],
   "source": [
    "sp.stats.ttest_ind(male_deg, female_deg)"
   ]
  },
  {
   "cell_type": "markdown",
   "metadata": {},
   "source": [
    "### Based on Genre"
   ]
  },
  {
   "cell_type": "code",
   "execution_count": null,
   "metadata": {
    "collapsed": false
   },
   "outputs": [],
   "source": [
    "res = {}\n",
    "for t in types:\n",
    "    male_deg, female_deg = [], []\n",
    "    for script, d in data.items():\n",
    "        \n",
    "        if t not in d['genres']:\n",
    "            continue \n",
    "            \n",
    "        G = d['graph']\n",
    "        degrees = nx.degree(G)\n",
    "\n",
    "        male_deg.append(np.mean([degrees[i] for i in G.nodes() if G.node[i]['gender'] == 'male']))\n",
    "        female_deg.append(np.mean([degrees[i] for i in G.nodes() if G.node[i]['gender'] == 'female']))\n",
    "    \n",
    "    res[t] = {}\n",
    "    res[t]['male'] = male_deg\n",
    "    res[t]['female'] = female_deg"
   ]
  },
  {
   "cell_type": "code",
   "execution_count": null,
   "metadata": {
    "collapsed": false
   },
   "outputs": [],
   "source": [
    "# Pass into long format\n",
    "tmp = []\n",
    "for t, k in res.items():\n",
    "    for g, v in k.items():\n",
    "        for i in v:\n",
    "            tmp.append((t, g, i))\n",
    "\n",
    "tmp = pd.DataFrame(tmp, columns=[\"genre\", \"gender\", \"value\"])\n",
    "\n",
    "#Drop nan's\n",
    "tmp = tmp[(tmp.genre!=\"Documentary\")]\n",
    "tmp = tmp[(tmp.genre!=\"Short\")]\n",
    "tmp = tmp[(tmp.genre!=\"Reality-TV\")]\n",
    "\n",
    "tmp.head()"
   ]
  },
  {
   "cell_type": "code",
   "execution_count": null,
   "metadata": {
    "collapsed": false
   },
   "outputs": [],
   "source": [
    "g = sns.FacetGrid(tmp, col = \"genre\", row = \"gender\")\n",
    "g = g.map(sns.distplot, \"value\", hist=False)"
   ]
  },
  {
   "cell_type": "code",
   "execution_count": null,
   "metadata": {
    "collapsed": false
   },
   "outputs": [],
   "source": [
    "res = {}\n",
    "for t in types:\n",
    "    male_deg = tmp.ix[(tmp.genre == t) & (tmp.gender == \"male\"), \"value\"]\n",
    "    female_deg = tmp.ix[(tmp.genre == t) & (tmp.gender == \"female\"), \"value\"]\n",
    "    \n",
    "    #Remove nans\n",
    "    male_deg, female_deg = np.array(male_deg), np.array(female_deg)\n",
    "    male_deg = male_deg[~np.isnan(male_deg)]\n",
    "    female_deg = female_deg[~np.isnan(female_deg)]\n",
    "\n",
    "    ttest = sp.stats.ttest_ind(male_deg, female_deg)\n",
    "\n",
    "    if not np.isnan(ttest.pvalue):\n",
    "        res[t] = ttest\n",
    "    \n",
    "res;"
   ]
  },
  {
   "cell_type": "markdown",
   "metadata": {},
   "source": [
    "__There are no significant differences between the degrees based on gender.__"
   ]
  },
  {
   "cell_type": "code",
   "execution_count": null,
   "metadata": {
    "collapsed": false
   },
   "outputs": [],
   "source": [
    "# Using Benjamin-Hochberg's method\n",
    "res_2 = sorted(res.items(), key = lambda x: x[1].pvalue)\n",
    "m = len(res_2)\n",
    "\n",
    "i = 1\n",
    "while i < len(res_2) + 1:\n",
    "    if res_2[i - 1][1].pvalue > i / m * 0.05:\n",
    "        break\n",
    "    i = i + 1\n",
    "        \n",
    "res_2[:(i - 1)]"
   ]
  },
  {
   "cell_type": "markdown",
   "metadata": {},
   "source": [
    "\n",
    "# Betweeness Centrality"
   ]
  },
  {
   "cell_type": "markdown",
   "metadata": {},
   "source": [
    "#### Average centrality"
   ]
  },
  {
   "cell_type": "code",
   "execution_count": 10,
   "metadata": {
    "collapsed": false
   },
   "outputs": [
    {
     "name": "stderr",
     "output_type": "stream",
     "text": [
      "/Users/victor/miniconda3/lib/python3.5/site-packages/numpy/core/_methods.py:59: RuntimeWarning: Mean of empty slice.\n",
      "  warnings.warn(\"Mean of empty slice.\", RuntimeWarning)\n",
      "/Users/victor/miniconda3/lib/python3.5/site-packages/numpy/core/_methods.py:70: RuntimeWarning: invalid value encountered in double_scalars\n",
      "  ret = ret.dtype.type(ret / rcount)\n"
     ]
    }
   ],
   "source": [
    "male_cent, female_cent = [], []\n",
    "for script, d in data.items():\n",
    "    G = d['graph']\n",
    "    cents = nx.betweenness_centrality(G)\n",
    "    \n",
    "    male_cent.append(np.mean([cents[i] for i in G.nodes() if G.node[i]['gender'] == 'male']))\n",
    "    female_cent.append(np.mean([cents[i] for i in G.nodes() if G.node[i]['gender'] == 'female']))"
   ]
  },
  {
   "cell_type": "code",
   "execution_count": 11,
   "metadata": {
    "collapsed": true
   },
   "outputs": [],
   "source": [
    "#Remove nans\n",
    "male_cent, female_cent = np.array(male_cent), np.array(female_cent)\n",
    "male_cent = male_cent[~np.isnan(male_cent)]\n",
    "female_cent = female_cent[~np.isnan(female_cent)]"
   ]
  },
  {
   "cell_type": "code",
   "execution_count": 12,
   "metadata": {
    "collapsed": false
   },
   "outputs": [
    {
     "data": {
      "text/plain": [
       "DescribeResult(nobs=15133, minmax=(0.0, 1.0), mean=0.045594842347982223, variance=0.008703655574351616, skewness=3.556193182203275, kurtosis=15.501383735343609)"
      ]
     },
     "execution_count": 12,
     "metadata": {},
     "output_type": "execute_result"
    }
   ],
   "source": [
    "sp.stats.describe([y for x in [list(nx.betweenness_centrality(d['graph']).values()) for d in data.values()] for y in x])"
   ]
  },
  {
   "cell_type": "markdown",
   "metadata": {},
   "source": [
    "Just a quick note, this is a _density_, not a probability. The AUC adds up to 1. "
   ]
  },
  {
   "cell_type": "code",
   "execution_count": 13,
   "metadata": {
    "collapsed": false
   },
   "outputs": [
    {
     "data": {
      "image/png": "[encoded data removed]",
      "text/plain": [
       "<matplotlib.figure.Figure at 0x10477deb8>"
      ]
     },
     "metadata": {},
     "output_type": "display_data"
    }
   ],
   "source": [
    "sns.distplot(male_cent, hist = False, label = \"male\");\n",
    "sns.distplot(female_cent, hist = False, label = \"female\");\n",
    "plt.legend();\n",
    "plt.xlabel(\"average centrality\");"
   ]
  },
  {
   "cell_type": "markdown",
   "metadata": {
    "collapsed": true
   },
   "source": [
    "In this case, there is a significant difference in the average centrality of male characters and female characters ($t(?) = 4.8805,\\, p < 0.01$). In most of the scripts, males occupy a more central role than females."
   ]
  },
  {
   "cell_type": "code",
   "execution_count": null,
   "metadata": {
    "collapsed": false
   },
   "outputs": [],
   "source": [
    "sp.stats.ttest_ind(male_cent, female_cent)"
   ]
  },
  {
   "cell_type": "markdown",
   "metadata": {},
   "source": [
    "## By Genre"
   ]
  },
  {
   "cell_type": "code",
   "execution_count": 14,
   "metadata": {
    "collapsed": false
   },
   "outputs": [
    {
     "name": "stderr",
     "output_type": "stream",
     "text": [
      "/Users/victor/miniconda3/lib/python3.5/site-packages/numpy/core/_methods.py:59: RuntimeWarning: Mean of empty slice.\n",
      "  warnings.warn(\"Mean of empty slice.\", RuntimeWarning)\n",
      "/Users/victor/miniconda3/lib/python3.5/site-packages/numpy/core/_methods.py:70: RuntimeWarning: invalid value encountered in double_scalars\n",
      "  ret = ret.dtype.type(ret / rcount)\n"
     ]
    }
   ],
   "source": [
    "res = {}\n",
    "for t in types:\n",
    "    male_centr, female_centr = [], []\n",
    "    for script, d in data.items():\n",
    "        \n",
    "        if t not in d['genres']:\n",
    "            continue \n",
    "            \n",
    "        G = d['graph']\n",
    "        centralities = nx.betweenness_centrality(G)\n",
    "\n",
    "        male_centr.append(np.mean([centralities[i] for i in G.nodes() if G.node[i]['gender'] == 'male']))\n",
    "        female_centr.append(np.mean([centralities[i] for i in G.nodes() if G.node[i]['gender'] == 'female']))\n",
    "    \n",
    "    res[t] = {}\n",
    "    res[t]['male'] = male_centr\n",
    "    res[t]['female'] = female_centr"
   ]
  },
  {
   "cell_type": "code",
   "execution_count": 15,
   "metadata": {
    "collapsed": false
   },
   "outputs": [
    {
     "data": {
      "text/html": [
       "<div>\n",
       "<table border=\"1\" class=\"dataframe\">\n",
       "  <thead>\n",
       "    <tr style=\"text-align: right;\">\n",
       "      <th></th>\n",
       "      <th>genre</th>\n",
       "      <th>gender</th>\n",
       "      <th>value</th>\n",
       "    </tr>\n",
       "  </thead>\n",
       "  <tbody>\n",
       "    <tr>\n",
       "      <th>0</th>\n",
       "      <td>Comedy</td>\n",
       "      <td>female</td>\n",
       "      <td>0.030474</td>\n",
       "    </tr>\n",
       "    <tr>\n",
       "      <th>1</th>\n",
       "      <td>Comedy</td>\n",
       "      <td>female</td>\n",
       "      <td>0.051921</td>\n",
       "    </tr>\n",
       "    <tr>\n",
       "      <th>2</th>\n",
       "      <td>Comedy</td>\n",
       "      <td>female</td>\n",
       "      <td>0.056481</td>\n",
       "    </tr>\n",
       "    <tr>\n",
       "      <th>3</th>\n",
       "      <td>Comedy</td>\n",
       "      <td>female</td>\n",
       "      <td>0.052525</td>\n",
       "    </tr>\n",
       "    <tr>\n",
       "      <th>4</th>\n",
       "      <td>Comedy</td>\n",
       "      <td>female</td>\n",
       "      <td>0.088974</td>\n",
       "    </tr>\n",
       "  </tbody>\n",
       "</table>\n",
       "</div>"
      ],
      "text/plain": [
       "    genre  gender     value\n",
       "0  Comedy  female  0.030474\n",
       "1  Comedy  female  0.051921\n",
       "2  Comedy  female  0.056481\n",
       "3  Comedy  female  0.052525\n",
       "4  Comedy  female  0.088974"
      ]
     },
     "execution_count": 15,
     "metadata": {},
     "output_type": "execute_result"
    }
   ],
   "source": [
    "# Pass into long format\n",
    "tmp = []\n",
    "for t, k in res.items():\n",
    "    for g, v in k.items():\n",
    "        for i in v:\n",
    "            tmp.append((t, g, i))\n",
    "\n",
    "tmp = pd.DataFrame(tmp, columns=[\"genre\", \"gender\", \"value\"])\n",
    "\n",
    "#Drop nan's\n",
    "tmp = tmp[(tmp.genre!=\"Documentary\")]\n",
    "tmp = tmp[(tmp.genre!=\"Short\")]\n",
    "tmp = tmp[(tmp.genre!=\"Reality-TV\")]\n",
    "\n",
    "tmp.head()"
   ]
  },
  {
   "cell_type": "code",
   "execution_count": 17,
   "metadata": {
    "collapsed": false
   },
   "outputs": [],
   "source": [
    "res = {}\n",
    "for t in types:\n",
    "    male_deg = tmp.ix[(tmp.genre == t) & (tmp.gender == \"male\"), \"value\"]\n",
    "    female_deg = tmp.ix[(tmp.genre == t) & (tmp.gender == \"female\"), \"value\"]\n",
    "    \n",
    "    #Remove nans\n",
    "    male_deg, female_deg = np.array(male_deg), np.array(female_deg)\n",
    "    male_deg = male_deg[~np.isnan(male_deg)]\n",
    "    female_deg = female_deg[~np.isnan(female_deg)]\n",
    "\n",
    "    ttest = sp.stats.ttest_ind(male_deg, female_deg)\n",
    "\n",
    "    if not np.isnan(ttest.pvalue):\n",
    "        res[t] = ttest\n",
    "    \n",
    "res;"
   ]
  },
  {
   "cell_type": "markdown",
   "metadata": {},
   "source": [
    "__ There is a real difference in the centrality of characters in: __"
   ]
  },
  {
   "cell_type": "code",
   "execution_count": 18,
   "metadata": {
    "collapsed": false
   },
   "outputs": [
    {
     "data": {
      "text/plain": [
       "[('Drama',\n",
       "  Ttest_indResult(statistic=5.5262644731199071, pvalue=4.0836730069907744e-08)),\n",
       " ('Comedy',\n",
       "  Ttest_indResult(statistic=4.9098226229261925, pvalue=1.1971133888063754e-06)),\n",
       " ('Horror',\n",
       "  Ttest_indResult(statistic=-4.4777638911415742, pvalue=1.1923689840356018e-05)),\n",
       " ('Sport',\n",
       "  Ttest_indResult(statistic=4.308836031933156, pvalue=6.0748376366828641e-05)),\n",
       " ('Biography',\n",
       "  Ttest_indResult(statistic=3.1693058305550705, pvalue=0.0018850415732367494)),\n",
       " ('Sci-Fi',\n",
       "  Ttest_indResult(statistic=2.5448253204036693, pvalue=0.011427429949245071))]"
      ]
     },
     "execution_count": 18,
     "metadata": {},
     "output_type": "execute_result"
    }
   ],
   "source": [
    "# Using Benjamin-Hochberg's method\n",
    "res_2 = sorted(res.items(), key = lambda x: x[1].pvalue)\n",
    "m = len(res_2)\n",
    "\n",
    "i = 1\n",
    "while i < len(res_2) + 1:\n",
    "    if res_2[i - 1][1].pvalue > i / m * 0.05:\n",
    "        break\n",
    "    i = i + 1\n",
    "        \n",
    "res_2[:(i - 1)]"
   ]
  },
  {
   "cell_type": "code",
   "execution_count": 27,
   "metadata": {
    "collapsed": false
   },
   "outputs": [
    {
     "data": {
      "image/png": "[encoded data removed]",
      "text/plain": [
       "<matplotlib.figure.Figure at 0x1192689e8>"
      ]
     },
     "metadata": {},
     "output_type": "display_data"
    }
   ],
   "source": [
    "t = tmp[tmp.genre.isin(['Drama', 'Comedy', 'Horror', 'Sport'])]\n",
    "bplt = sns.boxplot(x = 'genre', y = 'value', hue = 'gender', data = t)\n",
    "bplt.axes.set_ylim([0, .3]);"
   ]
  },
  {
   "cell_type": "code",
   "execution_count": null,
   "metadata": {
    "collapsed": false
   },
   "outputs": [],
   "source": [
    "for t in types:\n",
    "    male_deg = tmp.ix[(tmp.genre == t) & (tmp.gender == \"male\"), \"value\"].mean()\n",
    "    female_deg = tmp.ix[(tmp.genre == t) & (tmp.gender == \"female\"), \"value\"].mean()\n",
    "\n",
    "    \n",
    "    if male_deg < female_deg:\n",
    "        print(t, male_deg, female_deg)\n",
    "    "
   ]
  },
  {
   "cell_type": "markdown",
   "metadata": {},
   "source": [
    "## By Race"
   ]
  },
  {
   "cell_type": "markdown",
   "metadata": {},
   "source": [
    "I can either agg by race (e.g., caucassian males get more important roles) or I could agg races by gender (e.g., latino women are more demanded than latino men)."
   ]
  },
  {
   "cell_type": "code",
   "execution_count": null,
   "metadata": {
    "collapsed": false
   },
   "outputs": [],
   "source": [
    "# Agg by race\n",
    "\n",
    "aggByRace = []\n",
    "\n",
    "for script, d in data.items():\n",
    "    G = d['graph']\n",
    "    centrs = nx.betweenness_centrality(G)\n",
    "    \n",
    "    \n",
    "    for n in G.nodes():\n",
    "        aggByRace.append((G.node[n]['race'], centrs[n]))\n",
    "        \n",
    "aggByRace = pd.DataFrame(aggByRace, columns=['race', 'value'])\n",
    "aggByRace = aggByRace[aggByRace.race != 'unknown']\n",
    "aggByRace.head()"
   ]
  },
  {
   "cell_type": "code",
   "execution_count": null,
   "metadata": {
    "collapsed": false
   },
   "outputs": [],
   "source": [
    "sns.boxplot(x = \"race\", y = \"value\", hue = \"race\", data = aggByRace);"
   ]
  },
  {
   "cell_type": "code",
   "execution_count": null,
   "metadata": {
    "collapsed": false
   },
   "outputs": [],
   "source": [
    "#1-way ANOVA for differences\n",
    "\n",
    "import statsmodels.api as sm\n",
    "from statsmodels.formula.api import ols\n",
    "\n",
    "mod = ols('value ~ race',\n",
    "                data=aggByRace).fit()\n",
    "                \n",
    "aov_table = sm.stats.anova_lm(mod, typ=2)\n",
    "print(aov_table)"
   ]
  },
  {
   "cell_type": "markdown",
   "metadata": {},
   "source": [
    "Post-hoc: Find differences by comparing each two and controlling error with Benjamin-Hochberg's method\n",
    "\n",
    "__TODO:__ But this doesnt matter too much"
   ]
  },
  {
   "cell_type": "code",
   "execution_count": null,
   "metadata": {
    "collapsed": true
   },
   "outputs": [],
   "source": []
  },
  {
   "cell_type": "markdown",
   "metadata": {},
   "source": [
    "### Agg race and gender"
   ]
  },
  {
   "cell_type": "code",
   "execution_count": 25,
   "metadata": {
    "collapsed": false
   },
   "outputs": [
    {
     "data": {
      "text/html": [
       "<div>\n",
       "<table border=\"1\" class=\"dataframe\">\n",
       "  <thead>\n",
       "    <tr style=\"text-align: right;\">\n",
       "      <th></th>\n",
       "      <th>race</th>\n",
       "      <th>gender</th>\n",
       "      <th>value</th>\n",
       "    </tr>\n",
       "  </thead>\n",
       "  <tbody>\n",
       "    <tr>\n",
       "      <th>1</th>\n",
       "      <td>caucasian</td>\n",
       "      <td>male</td>\n",
       "      <td>0.007407</td>\n",
       "    </tr>\n",
       "    <tr>\n",
       "      <th>2</th>\n",
       "      <td>caucasian</td>\n",
       "      <td>female</td>\n",
       "      <td>0.000000</td>\n",
       "    </tr>\n",
       "    <tr>\n",
       "      <th>3</th>\n",
       "      <td>caucasian</td>\n",
       "      <td>male</td>\n",
       "      <td>0.098148</td>\n",
       "    </tr>\n",
       "    <tr>\n",
       "      <th>4</th>\n",
       "      <td>caucasian</td>\n",
       "      <td>female</td>\n",
       "      <td>0.114815</td>\n",
       "    </tr>\n",
       "    <tr>\n",
       "      <th>6</th>\n",
       "      <td>caucasian</td>\n",
       "      <td>male</td>\n",
       "      <td>0.018519</td>\n",
       "    </tr>\n",
       "  </tbody>\n",
       "</table>\n",
       "</div>"
      ],
      "text/plain": [
       "        race  gender     value\n",
       "1  caucasian    male  0.007407\n",
       "2  caucasian  female  0.000000\n",
       "3  caucasian    male  0.098148\n",
       "4  caucasian  female  0.114815\n",
       "6  caucasian    male  0.018519"
      ]
     },
     "execution_count": 25,
     "metadata": {},
     "output_type": "execute_result"
    }
   ],
   "source": [
    "# Agg by race & gender\n",
    "\n",
    "aggByRaceGender = []\n",
    "\n",
    "for script, d in data.items():\n",
    "    G = d['graph']\n",
    "    centrs = nx.betweenness_centrality(G)\n",
    "    \n",
    "    \n",
    "    for n in G.nodes():\n",
    "        aggByRaceGender.append((G.node[n]['race'], G.node[n]['gender'], centrs[n]))\n",
    "        \n",
    "aggByRaceGender = pd.DataFrame(aggByRaceGender, columns=['race', 'gender', 'value'])\n",
    "aggByRaceGender = aggByRaceGender[aggByRaceGender.race != 'unknown']\n",
    "aggByRaceGender = aggByRaceGender[aggByRaceGender.gender != 'unknown']\n",
    "\n",
    "aggByRaceGender.head()"
   ]
  },
  {
   "cell_type": "code",
   "execution_count": 28,
   "metadata": {
    "collapsed": false
   },
   "outputs": [
    {
     "data": {
      "image/png": "[encoded data removed]",
      "text/plain": [
       "<matplotlib.figure.Figure at 0x1192409b0>"
      ]
     },
     "metadata": {},
     "output_type": "display_data"
    }
   ],
   "source": [
    "bxplt = sns.boxplot(x = \"race\", y = \"value\", hue = \"gender\", data = aggByRaceGender);\n",
    "bxplt.axes.set_ylim([0, .3]);"
   ]
  },
  {
   "cell_type": "code",
   "execution_count": null,
   "metadata": {
    "collapsed": true
   },
   "outputs": [],
   "source": []
  },
  {
   "cell_type": "markdown",
   "metadata": {
    "collapsed": true
   },
   "source": [
    "## Communities and Modularities\n",
    "\n",
    "Extract the community structure and modularity measurement of each graph using Louvain Method. The Louvain Method was created by Blondel et. al [https://arxiv.org/abs/0803.0476]"
   ]
  },
  {
   "cell_type": "code",
   "execution_count": null,
   "metadata": {
    "collapsed": false
   },
   "outputs": [],
   "source": [
    "communities = []\n",
    "modularities = []\n",
    "\n",
    "for t in types:\n",
    "    for script, d in data.items():\n",
    "        if t not in d['genres']:\n",
    "            continue\n",
    "        \n",
    "        G = d['graph']\n",
    "        parts = community.best_partition(G)\n",
    "        try:\n",
    "            q = community.modularity(parts, G)\n",
    "        except ValueError:\n",
    "            logging.debug(\"Script {} has no links\".format(script))\n",
    "    \n",
    "        communities.append((t, len(set(parts.values()))))\n",
    "        modularities.append((t, q))\n",
    "        \n",
    "communities = pd.DataFrame(communities, columns=[\"genre\", \"communities\"])\n",
    "modularities = pd.DataFrame(modularities, columns=[\"genre\", \"modularity\"])"
   ]
  },
  {
   "cell_type": "code",
   "execution_count": null,
   "metadata": {
    "collapsed": false
   },
   "outputs": [],
   "source": [
    "communities.communities.describe()"
   ]
  },
  {
   "cell_type": "code",
   "execution_count": null,
   "metadata": {
    "collapsed": false
   },
   "outputs": [],
   "source": [
    "communities.groupby(\"genre\").apply(np.mean).sort_values(by=\"communities\")"
   ]
  },
  {
   "cell_type": "code",
   "execution_count": null,
   "metadata": {
    "collapsed": false
   },
   "outputs": [],
   "source": [
    "axs = sns.boxplot(x = \"genre\", y = \"communities\", data = communities, palette=xkcd_colors)\n",
    "for item in axs.get_xticklabels():\n",
    "    item.set_rotation(90)"
   ]
  },
  {
   "cell_type": "code",
   "execution_count": null,
   "metadata": {
    "collapsed": false
   },
   "outputs": [],
   "source": [
    "modularities.modularity.describe()"
   ]
  },
  {
   "cell_type": "code",
   "execution_count": null,
   "metadata": {
    "collapsed": false
   },
   "outputs": [],
   "source": [
    "modularities.groupby(\"genre\").apply(np.mean).sort_values(by=\"modularity\")"
   ]
  },
  {
   "cell_type": "code",
   "execution_count": null,
   "metadata": {
    "collapsed": false
   },
   "outputs": [],
   "source": [
    "axs = sns.boxplot(x = \"genre\", y = \"modularity\", data = modularities, palette=xkcd_colors)\n",
    "for item in axs.get_xticklabels():\n",
    "    item.set_rotation(90)"
   ]
  },
  {
   "cell_type": "markdown",
   "metadata": {},
   "source": [
    "## Can modularity predict genre?\n",
    "Baseline: Most popular genre"
   ]
  },
  {
   "cell_type": "code",
   "execution_count": null,
   "metadata": {
    "collapsed": false
   },
   "outputs": [],
   "source": [
    "from sklearn.preprocessing import MultiLabelBinarizer\n",
    "Y = MultiLabelBinarizer().fit_transform([d['genres'] for d in data.values()])\n",
    "Y.shape"
   ]
  },
  {
   "cell_type": "code",
   "execution_count": null,
   "metadata": {
    "collapsed": false
   },
   "outputs": [],
   "source": [
    "from sklearn.linear_model import LogisticRegression\n",
    "from sklearn.cross_validation import train_test_split\n",
    "from sklearn.multiclass import OneVsRestClassifier\n",
    "\n",
    "train, test = train_test_split(np.arange(Y.shape[0]), test_size=0.25)"
   ]
  },
  {
   "cell_type": "code",
   "execution_count": null,
   "metadata": {
    "collapsed": false
   },
   "outputs": [],
   "source": [
    "mod_baseline = OneVsRestClassifier(LogisticRegression())\n",
    "mod_baseline.fit(np.ones_like(Y[train, :]), Y[train, :])\n",
    "\n",
    "pred_baseline = mod.predict(np.ones_like(Y[test, :]))\n",
    "pred_baseline"
   ]
  },
  {
   "cell_type": "code",
   "execution_count": null,
   "metadata": {
    "collapsed": true
   },
   "outputs": [],
   "source": []
  }
 ],
 "metadata": {
  "anaconda-cloud": {},
  "kernelspec": {
   "display_name": "Python [default]",
   "language": "python",
   "name": "python3"
  },
  "language_info": {
   "codemirror_mode": {
    "name": "ipython",
    "version": 3
   },
   "file_extension": ".py",
   "mimetype": "text/x-python",
   "name": "python",
   "nbconvert_exporter": "python",
   "pygments_lexer": "ipython3",
   "version": "3.5.2"
  }
 },
 "nbformat": 4,
 "nbformat_minor": 0
}
