{
 "cells": [
  {
   "cell_type": "code",
   "execution_count": 29,
   "metadata": {
    "collapsed": false
   },
   "outputs": [],
   "source": [
    "import untangle \n",
    "from glob import iglob as glob\n",
    "import wordcount\n",
    "from collections import Counter\n",
    "from string import punctuation\n",
    "from joblib import Parallel, delayed"
   ]
  },
  {
   "cell_type": "code",
   "execution_count": 7,
   "metadata": {
    "collapsed": false
   },
   "outputs": [],
   "source": [
    "LIWC_dict = \"../LIWC2007/Dictionaries/LIWC2007_English131104.dic\""
   ]
  },
  {
   "cell_type": "code",
   "execution_count": 8,
   "metadata": {
    "collapsed": false
   },
   "outputs": [
    {
     "name": "stdout",
     "output_type": "stream",
     "text": [
      "Error in dict:  kind\t<of>131/125\t<of>135/126\n",
      "Error in dict:  like\t(02 134)125/464\t(02 134)126\t253\n"
     ]
    }
   ],
   "source": [
    "(categories, words) = wordcount.readDictFile(LIWC_dict)"
   ]
  },
  {
   "cell_type": "code",
   "execution_count": 2,
   "metadata": {
    "collapsed": true
   },
   "outputs": [],
   "source": [
    "def read(filename):\n",
    "    utterances = []\n",
    "    f = untangle.parse(filename)\n",
    "\n",
    "    for diag in f.movie.dialogue:\n",
    "        utterances.extend(list(zip(map(lambda x: x.cdata, diag.speaker), map(lambda x: x.cdata, diag.utterance))))\n",
    "\n",
    "    return utterances"
   ]
  },
  {
   "cell_type": "code",
   "execution_count": 25,
   "metadata": {
    "collapsed": false
   },
   "outputs": [],
   "source": [
    "def mapper(line):\n",
    "    return (Counter([categories[y] for x in [words[_] for t in wordcount.preprocess(line).split(\" \") for _ in words.keys() if _.match(t)] for y in x]),\n",
    "            len(list(filter(lambda t: t not in punctuation, wordcount.preprocess(line).split(\" \")))),\\\n",
    "            1.0 if len(line.strip()) > 0 else 0.0)"
   ]
  },
  {
   "cell_type": "code",
   "execution_count": 44,
   "metadata": {
    "collapsed": true
   },
   "outputs": [],
   "source": [
    "def process(name, movielines, cats = []):\n",
    "    (counters, llens, lines) = zip(*Parallel(n_jobs = 4, verbose = 2)(delayed(mapper)(line[1]) for line in movielines))\n",
    "    WC = wordcount.reducer(counters)\n",
    "    num_words = sum(llens)\n",
    "#     wps = num_words\n",
    "\n",
    "    res = []\n",
    "    for c in cats:\n",
    "        res.append((c, round(100.0*WC[c]/num_words, 3)))\n",
    "    \n",
    "    return (name, num_words, res)"
   ]
  },
  {
   "cell_type": "code",
   "execution_count": 45,
   "metadata": {
    "collapsed": false
   },
   "outputs": [
    {
     "name": "stderr",
     "output_type": "stream",
     "text": [
      "[Parallel(n_jobs=4)]: Done 363 out of 363 | elapsed:    2.1s finished\n"
     ]
    },
    {
     "data": {
      "text/plain": [
       "('x_men', 3928, [('i', 6.39), ('relig', 0.509), ('pronoun', 23.32)])"
      ]
     },
     "execution_count": 45,
     "metadata": {},
     "output_type": "execute_result"
    }
   ],
   "source": [
    "process(\"x_men\", movielines, cats = [\"i\", \"relig\", \"pronoun\"])"
   ]
  },
  {
   "cell_type": "markdown",
   "metadata": {},
   "source": [
    "H0: Use of pronouns differ across sexes"
   ]
  },
  {
   "cell_type": "code",
   "execution_count": 41,
   "metadata": {
    "collapsed": true
   },
   "outputs": [],
   "source": [
    "cats = [\"pronoun\"]"
   ]
  },
  {
   "cell_type": "code",
   "execution_count": null,
   "metadata": {
    "collapsed": true
   },
   "outputs": [],
   "source": []
  }
 ],
 "metadata": {
  "anaconda-cloud": {},
  "kernelspec": {
   "display_name": "Python [Root]",
   "language": "python",
   "name": "Python [Root]"
  },
  "language_info": {
   "codemirror_mode": {
    "name": "ipython",
    "version": 3
   },
   "file_extension": ".py",
   "mimetype": "text/x-python",
   "name": "python",
   "nbconvert_exporter": "python",
   "pygments_lexer": "ipython3",
   "version": "3.5.2"
  }
 },
 "nbformat": 4,
 "nbformat_minor": 0
}
