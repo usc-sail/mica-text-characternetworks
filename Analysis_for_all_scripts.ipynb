{
 "cells": [
  {
   "cell_type": "code",
   "execution_count": 5,
   "metadata": {
    "collapsed": true
   },
   "outputs": [],
   "source": [
    "%matplotlib inline\n",
    "from utils import read, createGraph, genders, functionals\n",
    "import networkx as nx\n",
    "from glob import iglob as glob\n",
    "from os.path import exists, basename\n",
    "import pandas as pd\n",
    "from collections import defaultdict"
   ]
  },
  {
   "cell_type": "code",
   "execution_count": 3,
   "metadata": {
    "collapsed": true
   },
   "outputs": [],
   "source": [
    "th = 2\n",
    "data_dir = \"./data/by_movie/*\"\n",
    "info_dir = \"./data/speakersWithCharacterInfo/\""
   ]
  },
  {
   "cell_type": "code",
   "execution_count": 4,
   "metadata": {
    "collapsed": false
   },
   "outputs": [],
   "source": [
    "def graphAnalytics(G):\n",
    "        \n",
    "    #Gender\n",
    "    males = G.subgraph([i for i in G.nodes() if G.node[i]['gender'] == 'male'])\n",
    "    females = G.subgraph([i for i in G.nodes() if G.node[i]['gender'] == 'female'])\n",
    "    \n",
    "    #Basic measures\n",
    "    nodes, edges = len(G.nodes()), len(G.edges())\n",
    "    nodes_m, edges_m = len(males.nodes()), len(males.edges())\n",
    "    nodes_f, edges_f = len(females.nodes()), len(females.edges())\n",
    "    res = [nodes, edges, nodes_m, edges_m, nodes_f, edges_f]\n",
    "    \n",
    "    \n",
    "    #Degree Measures\n",
    "    f_deg, f_deg_m, f_deg_f = functionals([v for _,v in nx.degree(G).items()]),\\\n",
    "                              functionals([v for _,v in nx.degree(males).items()]),\\\n",
    "                              functionals([v for _,v in nx.degree(females).items()])\n",
    "    res.extend(f_deg+f_deg_m+f_deg_f)\n",
    "            \n",
    "    #Distance Measures\n",
    "    paths = [[v for _,v in vals.items()] for _,vals in nx.shortest_path_length(G).items()]\n",
    "    paths_m = [[v for _,v in vals.items()] for _,vals in nx.shortest_path_length(males).items()]\n",
    "    paths_f = [[v for _,v in vals.items()] for _,vals in nx.shortest_path_length(females).items()]\n",
    "    \n",
    "    \n",
    "    \n",
    "    return res"
   ]
  },
  {
   "cell_type": "markdown",
   "metadata": {},
   "source": [
    "# For all scripts"
   ]
  },
  {
   "cell_type": "code",
   "execution_count": null,
   "metadata": {
    "collapsed": false
   },
   "outputs": [],
   "source": [
    "data = []\n",
    "for script in glob(data_dir):\n",
    "    try:\n",
    "        char_list, adj = read(script)\n",
    "        \n",
    "        gender_file = info_dir + basename(script).replace(\".\", \"_\") + \".txt\"\n",
    "        if exists(gender_file):\n",
    "            gens = genders(gender_file)\n",
    "        else:\n",
    "            gens = defaultdict(lambda: 'unknown')\n",
    "        \n",
    "        G = createGraph(char_list, adj, gens)\n",
    "        func_G = graphAnalytics(G)\n",
    "        \n",
    "        \n",
    "        \n",
    "        data.append([script]+func_G)\n",
    "    except:\n",
    "        pass"
   ]
  },
  {
   "cell_type": "code",
   "execution_count": null,
   "metadata": {
    "collapsed": false
   },
   "outputs": [],
   "source": [
    "data = pd.DataFrame(data, columns= [\"script\", \"nodes\", \"edges\", \"nodes_males\", \"edges_males\", \"nodes_females\", \"edges_females\",\n",
    "                                    \"degree_min\", \"degree_mean\", \"degree_median\", \"degree_max\",\n",
    "                                    \"male_degree_min\", \"male_degree_mean\", \"male_degree_median\", \"male_degree_max\",\n",
    "                                    \"female_degree_min\", \"degree_mean\", \"degree_median\", \"degree_max\",])\n",
    "data.head()"
   ]
  },
  {
   "cell_type": "code",
   "execution_count": null,
   "metadata": {
    "collapsed": false
   },
   "outputs": [],
   "source": [
    "len(data)"
   ]
  },
  {
   "cell_type": "markdown",
   "metadata": {},
   "source": [
    "### Save dataframe"
   ]
  },
  {
   "cell_type": "code",
   "execution_count": null,
   "metadata": {
    "collapsed": true
   },
   "outputs": [],
   "source": [
    "data.to_pickle('./data/dataframe.pkl')"
   ]
  },
  {
   "cell_type": "code",
   "execution_count": null,
   "metadata": {
    "collapsed": true
   },
   "outputs": [],
   "source": []
  }
 ],
 "metadata": {
  "anaconda-cloud": {},
  "kernelspec": {
   "display_name": "Python [Root]",
   "language": "python",
   "name": "Python [Root]"
  },
  "language_info": {
   "codemirror_mode": {
    "name": "ipython",
    "version": 3
   },
   "file_extension": ".py",
   "mimetype": "text/x-python",
   "name": "python",
   "nbconvert_exporter": "python",
   "pygments_lexer": "ipython3",
   "version": "3.5.2"
  }
 },
 "nbformat": 4,
 "nbformat_minor": 0
}
