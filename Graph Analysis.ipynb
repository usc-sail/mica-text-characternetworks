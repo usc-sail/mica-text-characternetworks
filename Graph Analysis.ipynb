{
 "cells": [
  {
   "cell_type": "code",
   "execution_count": 22,
   "metadata": {
    "collapsed": false
   },
   "outputs": [],
   "source": [
    "%matplotlib inline\n",
    "from utils import read, createGraph, readGenders, functionals\n",
    "from glob import iglob as glob\n",
    "from os.path import exists, basename\n",
    "import pandas as pd\n",
    "import matplotlib.pyplot as plt\n",
    "import seaborn as sns\n",
    "from collections import defaultdict, Counter\n",
    "import numpy as np\n",
    "import scipy as sp\n",
    "import pickle\n",
    "import warnings\n",
    "import community\n",
    "import networkx as nx\n",
    "import itertools\n",
    "\n",
    "plt.rcParams[\"figure.figsize\"] = (10, 8)"
   ]
  },
  {
   "cell_type": "code",
   "execution_count": 2,
   "metadata": {
    "collapsed": false
   },
   "outputs": [],
   "source": [
    "th = 2\n",
    "data_dir = \"./data/by_movie/*\"\n",
    "info_dir = \"./data/speakersWithCharacterInfo/\"\n",
    "genre_file = \"./data/genres.pickle\""
   ]
  },
  {
   "cell_type": "markdown",
   "metadata": {
    "collapsed": true
   },
   "source": [
    "## Read all scripts"
   ]
  },
  {
   "cell_type": "code",
   "execution_count": 3,
   "metadata": {
    "collapsed": false
   },
   "outputs": [],
   "source": [
    "genres = pickle.load(open(genre_file, 'rb'))\n",
    "\n",
    "data = {}\n",
    "for script in glob(data_dir):\n",
    "    \n",
    "    movie, char_list, adj = read(script, threshold = th)\n",
    "\n",
    "    gender_file = info_dir + basename(script).replace(\".\", \"_\") + \".txt\"\n",
    "    if exists(gender_file):\n",
    "        gens = readGenders(gender_file)\n",
    "    else:\n",
    "        gens = defaultdict(lambda: 'unknown')\n",
    "\n",
    "    G = createGraph(char_list, adj, gens)\n",
    "\n",
    "\n",
    "    key = basename(script)\n",
    "\n",
    "    data[key] = {}\n",
    "    data[key]['graph'] = G\n",
    "    data[key]['chars'] = char_list\n",
    "    data[key]['genres'] = genres.get(movie, [])"
   ]
  },
  {
   "cell_type": "code",
   "execution_count": 4,
   "metadata": {
    "collapsed": false
   },
   "outputs": [],
   "source": [
    "res = []\n",
    "types = [z for x in genres.values() for y in x for z in y]\n",
    "for t in types:\n",
    "    if type(t) == str:\n",
    "        res.append(t)\n",
    "    else:\n",
    "        res.append([z for z in t][0])\n",
    "types = sorted(list(set(filter(lambda x: len(x) > 2, map(lambda x: x.strip(), res)))))\n",
    "types;"
   ]
  },
  {
   "cell_type": "code",
   "execution_count": 23,
   "metadata": {
    "collapsed": true
   },
   "outputs": [],
   "source": [
    "xkcd_colors = sns.xkcd_palette([\"grass green\", \"sand\", \"blue\", \"light red\", \"cerulean\",\n",
    "                                \"red\", \"light blue\", \"teal\", \"orange\", \"light green\",\n",
    "                                \"magenta\", \"yellow\", \"sky blue\", \"grey\", \"cobalt\",\n",
    "                                \"grass\", \"algae green\", \"coral\", \"cerise\", \"steel\",\n",
    "                                \"hot purple\", \"mango\", \"pale lime\", \"rouge\"])\n",
    "colors = itertools.cycle(xkcd_colors)"
   ]
  },
  {
   "cell_type": "markdown",
   "metadata": {},
   "source": [
    "# Pre-check\n",
    "In [GENDER BIAS WITHOUT BORDERS](http://seejane.org/wp-content/uploads/gender-bias-without-borders-executive-summary.pdf), there is a ratio of 2.25 men for every women on screen (women = $30.9$%). Lets check our numbers."
   ]
  },
  {
   "cell_type": "code",
   "execution_count": null,
   "metadata": {
    "collapsed": false
   },
   "outputs": [],
   "source": [
    "total, males, females = 0, 0, 0\n",
    "for _, d in data.items():\n",
    "    G = d['graph']\n",
    "    \n",
    "    for i in G.nodes():\n",
    "        if G.node[i]['gender'] == 'male':\n",
    "            males += 1\n",
    "        elif G.node[i]['gender'] == 'female':\n",
    "            females += 1\n",
    "        \n",
    "        total += 1\n",
    "        \n",
    "print(\"total: {}\".format(total))\n",
    "print(\"males: {:.2f}%\".format(float(males) / total))\n",
    "print(\"females: {:.2f}%\".format(float(females) / total))\n"
   ]
  },
  {
   "cell_type": "markdown",
   "metadata": {},
   "source": [
    "What if we drop unknown?... shouldn't matter right?"
   ]
  },
  {
   "cell_type": "code",
   "execution_count": null,
   "metadata": {
    "collapsed": false
   },
   "outputs": [],
   "source": [
    "print(\"males: {:.2f}%\".format(float(males) / (males + females)))\n",
    "print(\"females: {:.2f}%\".format(float(females) / (males + females)))"
   ]
  },
  {
   "cell_type": "markdown",
   "metadata": {},
   "source": [
    "# Graph analysis"
   ]
  },
  {
   "cell_type": "markdown",
   "metadata": {
    "collapsed": true
   },
   "source": [
    "# Degree centrality"
   ]
  },
  {
   "cell_type": "markdown",
   "metadata": {},
   "source": [
    "#### Average degree"
   ]
  },
  {
   "cell_type": "code",
   "execution_count": null,
   "metadata": {
    "collapsed": false
   },
   "outputs": [],
   "source": [
    "warnings.simplefilter(\"ignore\")\n",
    "male_deg, female_deg = [], []\n",
    "for script, d in data.items():\n",
    "    G = d['graph']\n",
    "    degrees = nx.degree(G)\n",
    "    \n",
    "    male_deg.append(np.mean([degrees[i] for i in G.nodes() if G.node[i]['gender'] == 'male']))\n",
    "    female_deg.append(np.mean([degrees[i] for i in G.nodes() if G.node[i]['gender'] == 'female']))"
   ]
  },
  {
   "cell_type": "code",
   "execution_count": null,
   "metadata": {
    "collapsed": false
   },
   "outputs": [],
   "source": [
    "sns.distplot(male_deg, hist = False, label = \"male\");\n",
    "sns.distplot(female_deg, hist = False, label = \"female\");\n",
    "plt.legend();\n",
    "plt.xlabel(\"average degree\");"
   ]
  },
  {
   "cell_type": "markdown",
   "metadata": {},
   "source": [
    "There is no real difference in the number of connections between men and women."
   ]
  },
  {
   "cell_type": "code",
   "execution_count": null,
   "metadata": {
    "collapsed": false
   },
   "outputs": [],
   "source": [
    "#Remove nans\n",
    "male_deg, female_deg = np.array(male_deg), np.array(female_deg)\n",
    "male_deg = male_deg[~np.isnan(male_deg)]\n",
    "female_deg = female_deg[~np.isnan(female_deg)]\n",
    "\n",
    "\n",
    "sp.stats.ttest_ind(male_deg, female_deg)"
   ]
  },
  {
   "cell_type": "markdown",
   "metadata": {},
   "source": [
    "### Based on Genre"
   ]
  },
  {
   "cell_type": "code",
   "execution_count": null,
   "metadata": {
    "collapsed": false
   },
   "outputs": [],
   "source": [
    "res = {}\n",
    "for t in types:\n",
    "    male_deg, female_deg = [], []\n",
    "    for script, d in data.items():\n",
    "        \n",
    "        if t not in d['genres']:\n",
    "            continue \n",
    "            \n",
    "        G = d['graph']\n",
    "        degrees = nx.degree(G)\n",
    "\n",
    "        male_deg.append(np.mean([degrees[i] for i in G.nodes() if G.node[i]['gender'] == 'male']))\n",
    "        female_deg.append(np.mean([degrees[i] for i in G.nodes() if G.node[i]['gender'] == 'female']))\n",
    "    \n",
    "    res[t] = {}\n",
    "    res[t]['male'] = male_deg\n",
    "    res[t]['female'] = female_deg"
   ]
  },
  {
   "cell_type": "code",
   "execution_count": null,
   "metadata": {
    "collapsed": false
   },
   "outputs": [],
   "source": [
    "# Pass into long format\n",
    "tmp = []\n",
    "for t, k in res.items():\n",
    "    for g, v in k.items():\n",
    "        for i in v:\n",
    "            tmp.append((t, g, i))\n",
    "\n",
    "tmp = pd.DataFrame(tmp, columns=[\"genre\", \"gender\", \"value\"])\n",
    "\n",
    "#Drop nan's\n",
    "tmp = tmp[(tmp.genre!=\"Documentary\")]\n",
    "tmp = tmp[(tmp.genre!=\"Short\")]\n",
    "tmp = tmp[(tmp.genre!=\"Reality-TV\")]\n",
    "\n",
    "tmp.head()"
   ]
  },
  {
   "cell_type": "code",
   "execution_count": null,
   "metadata": {
    "collapsed": false
   },
   "outputs": [],
   "source": [
    "g = sns.FacetGrid(tmp, col = \"genre\", row = \"gender\")\n",
    "g = g.map(sns.distplot, \"value\", hist=False)"
   ]
  },
  {
   "cell_type": "code",
   "execution_count": null,
   "metadata": {
    "collapsed": false
   },
   "outputs": [],
   "source": [
    "res = {}\n",
    "for t in types:\n",
    "    male_deg = tmp.ix[(tmp.genre == t) & (tmp.gender == \"male\"), \"value\"]\n",
    "    female_deg = tmp.ix[(tmp.genre == t) & (tmp.gender == \"female\"), \"value\"]\n",
    "    \n",
    "    #Remove nans\n",
    "    male_deg, female_deg = np.array(male_deg), np.array(female_deg)\n",
    "    male_deg = male_deg[~np.isnan(male_deg)]\n",
    "    female_deg = female_deg[~np.isnan(female_deg)]\n",
    "\n",
    "    ttest = sp.stats.ttest_ind(male_deg, female_deg)\n",
    "\n",
    "    if not np.isnan(ttest.pvalue):\n",
    "        res[t] = ttest\n",
    "    \n",
    "res;"
   ]
  },
  {
   "cell_type": "markdown",
   "metadata": {},
   "source": [
    "__There are no significant differences between the degrees based on gender.__"
   ]
  },
  {
   "cell_type": "code",
   "execution_count": null,
   "metadata": {
    "collapsed": false
   },
   "outputs": [],
   "source": [
    "# Using Benjamin-Hochberg's method\n",
    "res_2 = sorted(res.items(), key = lambda x: x[1].pvalue)\n",
    "m = len(res_2)\n",
    "\n",
    "i = 1\n",
    "while i < len(res_2) + 1:\n",
    "    if res_2[i - 1][1].pvalue > i / m * 0.05:\n",
    "        break\n",
    "    i = i + 1\n",
    "        \n",
    "res_2[:(i - 1)]"
   ]
  },
  {
   "cell_type": "markdown",
   "metadata": {},
   "source": [
    "\n",
    "# Betweeness Centrality"
   ]
  },
  {
   "cell_type": "markdown",
   "metadata": {},
   "source": [
    "#### Average centrality"
   ]
  },
  {
   "cell_type": "code",
   "execution_count": null,
   "metadata": {
    "collapsed": false
   },
   "outputs": [],
   "source": [
    "male_cent, female_cent = [], []\n",
    "for script, d in data.items():\n",
    "    G = d['graph']\n",
    "    cents = nx.betweenness_centrality(G)\n",
    "    \n",
    "    male_cent.append(np.mean([cents[i] for i in G.nodes() if G.node[i]['gender'] == 'male']))\n",
    "    female_cent.append(np.mean([cents[i] for i in G.nodes() if G.node[i]['gender'] == 'female']))"
   ]
  },
  {
   "cell_type": "markdown",
   "metadata": {},
   "source": [
    "Just a quick note, this is a _density_, not a probability. The AUC adds up to 1. "
   ]
  },
  {
   "cell_type": "code",
   "execution_count": null,
   "metadata": {
    "collapsed": false
   },
   "outputs": [],
   "source": [
    "sns.distplot(male_cent, hist = False, label = \"male\");\n",
    "sns.distplot(female_cent, hist = False, label = \"female\");\n",
    "plt.legend();\n",
    "plt.xlabel(\"average centrality\");"
   ]
  },
  {
   "cell_type": "markdown",
   "metadata": {
    "collapsed": true
   },
   "source": [
    "In this case, there is a significant difference in the average centrality of male characters and female characters ($t(?) = 2.7951,\\, p < 0.01$). In most of the scripts, males occupy a more central role than females."
   ]
  },
  {
   "cell_type": "code",
   "execution_count": null,
   "metadata": {
    "collapsed": false
   },
   "outputs": [],
   "source": [
    "#Remove nans\n",
    "male_cent, female_cent = np.array(male_cent), np.array(female_cent)\n",
    "male_cent = male_cent[~np.isnan(male_cent)]\n",
    "female_cent = female_cent[~np.isnan(female_cent)]\n",
    "\n",
    "\n",
    "sp.stats.ttest_ind(male_cent, female_cent)"
   ]
  },
  {
   "cell_type": "markdown",
   "metadata": {},
   "source": [
    "### Condition on Genre"
   ]
  },
  {
   "cell_type": "code",
   "execution_count": null,
   "metadata": {
    "collapsed": false
   },
   "outputs": [],
   "source": [
    "res = {}\n",
    "for t in types:\n",
    "    male_centr, female_centr = [], []\n",
    "    for script, d in data.items():\n",
    "        \n",
    "        if t not in d['genres']:\n",
    "            continue \n",
    "            \n",
    "        G = d['graph']\n",
    "        centralities = nx.betweenness_centrality(G)\n",
    "\n",
    "        male_centr.append(np.mean([centralities[i] for i in G.nodes() if G.node[i]['gender'] == 'male']))\n",
    "        female_centr.append(np.mean([centralities[i] for i in G.nodes() if G.node[i]['gender'] == 'female']))\n",
    "    \n",
    "    res[t] = {}\n",
    "    res[t]['male'] = male_centr\n",
    "    res[t]['female'] = female_centr"
   ]
  },
  {
   "cell_type": "code",
   "execution_count": null,
   "metadata": {
    "collapsed": false
   },
   "outputs": [],
   "source": [
    "# Pass into long format\n",
    "tmp = []\n",
    "for t, k in res.items():\n",
    "    for g, v in k.items():\n",
    "        for i in v:\n",
    "            tmp.append((t, g, i))\n",
    "\n",
    "tmp = pd.DataFrame(tmp, columns=[\"genre\", \"gender\", \"value\"])\n",
    "\n",
    "#Drop nan's\n",
    "tmp = tmp[(tmp.genre!=\"Documentary\")]\n",
    "tmp = tmp[(tmp.genre!=\"Short\")]\n",
    "tmp = tmp[(tmp.genre!=\"Reality-TV\")]\n",
    "\n",
    "tmp.head()"
   ]
  },
  {
   "cell_type": "code",
   "execution_count": null,
   "metadata": {
    "collapsed": false
   },
   "outputs": [],
   "source": [
    "g = sns.FacetGrid(tmp, col = \"genre\", row = \"gender\")\n",
    "g = g.map(sns.distplot, \"value\", hist=False)"
   ]
  },
  {
   "cell_type": "code",
   "execution_count": null,
   "metadata": {
    "collapsed": false
   },
   "outputs": [],
   "source": [
    "res = {}\n",
    "for t in types:\n",
    "    male_deg = tmp.ix[(tmp.genre == t) & (tmp.gender == \"male\"), \"value\"]\n",
    "    female_deg = tmp.ix[(tmp.genre == t) & (tmp.gender == \"female\"), \"value\"]\n",
    "    \n",
    "    #Remove nans\n",
    "    male_deg, female_deg = np.array(male_deg), np.array(female_deg)\n",
    "    male_deg = male_deg[~np.isnan(male_deg)]\n",
    "    female_deg = female_deg[~np.isnan(female_deg)]\n",
    "\n",
    "    ttest = sp.stats.ttest_ind(male_deg, female_deg)\n",
    "\n",
    "    if not np.isnan(ttest.pvalue):\n",
    "        res[t] = ttest\n",
    "    \n",
    "res;"
   ]
  },
  {
   "cell_type": "markdown",
   "metadata": {},
   "source": [
    "__ There is a real difference in the centrality of characters in Crime movies __"
   ]
  },
  {
   "cell_type": "code",
   "execution_count": null,
   "metadata": {
    "collapsed": false
   },
   "outputs": [],
   "source": [
    "# Using Benjamin-Hochberg's method\n",
    "res_2 = sorted(res.items(), key = lambda x: x[1].pvalue)\n",
    "m = len(res_2)\n",
    "\n",
    "i = 1\n",
    "while i < len(res_2) + 1:\n",
    "    if res_2[i - 1][1].pvalue > i / m * 0.05:\n",
    "        break\n",
    "    i = i + 1\n",
    "        \n",
    "res_2[:(i - 1)]"
   ]
  },
  {
   "cell_type": "code",
   "execution_count": null,
   "metadata": {
    "collapsed": false
   },
   "outputs": [],
   "source": [
    "g = sns.FacetGrid(tmp[tmp.genre == \"Crime\"], col = \"genre\", row = \"gender\")\n",
    "g = g.map(sns.distplot, \"value\", hist=False)"
   ]
  },
  {
   "cell_type": "markdown",
   "metadata": {
    "collapsed": true
   },
   "source": [
    "# Triads and love triangles\n",
    "Can we say that love triangles are really that common?"
   ]
  },
  {
   "cell_type": "code",
   "execution_count": null,
   "metadata": {
    "collapsed": false
   },
   "outputs": [],
   "source": [
    "def countTrianglesByGender(G):\n",
    "    triangles = []\n",
    "\n",
    "    for i in G.nodes():\n",
    "        for j in G.neighbors(i):\n",
    "            if j == i:\n",
    "                continue \n",
    "\n",
    "            for k in G.neighbors(j):\n",
    "                if k == j or k == i:\n",
    "                    continue\n",
    "\n",
    "                if i in G.neighbors(k):\n",
    "                    triangles.append(tuple(sorted([i, j, k])))\n",
    "\n",
    "    triangles = set(triangles)\n",
    "    triangles_genders = map(lambda x: map(lambda _: G.node[_]['gender'], x), triangles)\n",
    "    \n",
    "    return Counter(list(map(lambda x: tuple(sorted(list(x))), triangles_genders)))"
   ]
  },
  {
   "cell_type": "markdown",
   "metadata": {},
   "source": [
    "__Same gender triangles are the least common!!__"
   ]
  },
  {
   "cell_type": "code",
   "execution_count": null,
   "metadata": {
    "collapsed": false
   },
   "outputs": [],
   "source": [
    "genderTriangs = sum(map(countTrianglesByGender, [d['graph'] for d in data.values()]), Counter())\n",
    "genderTriangs"
   ]
  },
  {
   "cell_type": "markdown",
   "metadata": {
    "collapsed": true
   },
   "source": [
    "### Based on genre"
   ]
  },
  {
   "cell_type": "code",
   "execution_count": null,
   "metadata": {
    "collapsed": false
   },
   "outputs": [],
   "source": [
    "typeTriangs = {}\n",
    "for t in types:\n",
    "    typeTriangs[t] = sum(map(countTrianglesByGender, [d['graph'] for d in data.values() if t in d['genres']]), Counter())\n",
    "    \n",
    "typeTriangs;"
   ]
  },
  {
   "cell_type": "code",
   "execution_count": null,
   "metadata": {
    "collapsed": false
   },
   "outputs": [],
   "source": [
    "typeTriangs_df = []\n",
    "for t in types:\n",
    "    for k in typeTriangs[t]:\n",
    "        typeTriangs_df.append((t, k, typeTriangs[t][k]))\n",
    "typeTriangs_df = pd.DataFrame(typeTriangs_df, columns = [\"genre\", \"type\", \"value\"])\n",
    "typeTriangs_df.head()"
   ]
  },
  {
   "cell_type": "code",
   "execution_count": null,
   "metadata": {
    "collapsed": false
   },
   "outputs": [],
   "source": [
    "#Drop unknown\n",
    "typeTriangs_df = typeTriangs_df[~np.array(['unknown' in t for t in typeTriangs_df.type])]\n",
    "typeTriangs_df.head()\n",
    "\n",
    "#Normalize\n",
    "totals = typeTriangs_df.groupby(\"genre\").agg({'value':'sum'})\n",
    "df = pd.Series(index = typeTriangs_df.index)\n",
    "for idx, row in typeTriangs_df.iterrows():\n",
    "    df[idx] = (typeTriangs_df.ix[idx, 'value'] / totals.ix[typeTriangs_df.ix[idx, 'genre']])\n",
    "\n",
    "typeTriangs_df['value'] = df    \n",
    "    \n",
    "typeTriangs_df.head()"
   ]
  },
  {
   "cell_type": "markdown",
   "metadata": {},
   "source": [
    "* __ ('male', 'male', 'male') is the most popular in western and sports movies __\n",
    "* __ ('female', 'female', 'female') do not appear that much. Mostly on Comedy and Romance __"
   ]
  },
  {
   "cell_type": "code",
   "execution_count": null,
   "metadata": {
    "collapsed": false
   },
   "outputs": [],
   "source": [
    "g = sns.factorplot(\"type\", \"value\", hue=\"genre\", data = typeTriangs_df, kind = \"bar\", aspect = 3, palette=xkcd_colors);\n",
    "g.set_xticklabels(rotation=90);"
   ]
  },
  {
   "cell_type": "markdown",
   "metadata": {
    "collapsed": true
   },
   "source": [
    "## Communities and Modularities\n",
    "\n",
    "Extract the community structure and modularity measurement of each graph using Louvain Method. The Louvain Method was created by Blondel et. al [https://arxiv.org/abs/0803.0476]"
   ]
  },
  {
   "cell_type": "code",
   "execution_count": 31,
   "metadata": {
    "collapsed": false
   },
   "outputs": [
    {
     "name": "stderr",
     "output_type": "stream",
     "text": [
      "/home/victor/anaconda3/lib/python3.5/site-packages/ipykernel/__main__.py:6: DeprecationWarning: elementwise == comparison failed; this will raise an error in the future.\n"
     ]
    }
   ],
   "source": [
    "communities = []\n",
    "modularities = []\n",
    "\n",
    "for t in types:\n",
    "    for script, d in data.items():\n",
    "        if t not in d['genres']:\n",
    "            continue\n",
    "        \n",
    "        G = d['graph']\n",
    "        parts = community.best_partition(G)\n",
    "        q = community.modularity(parts, G)\n",
    "        \n",
    "        communities.append((t, len(set(parts.values()))))\n",
    "        modularities.append((t, q))\n",
    "        \n",
    "communities = pd.DataFrame(communities, columns=[\"genre\", \"communities\"])\n",
    "modularities = pd.DataFrame(modularities, columns=[\"genre\", \"modularity\"])"
   ]
  },
  {
   "cell_type": "code",
   "execution_count": 34,
   "metadata": {
    "collapsed": false
   },
   "outputs": [
    {
     "data": {
      "image/png": "[encoded data removed]",
      "text/plain": [
       "<matplotlib.figure.Figure at 0x7f3b27513198>"
      ]
     },
     "metadata": {},
     "output_type": "display_data"
    }
   ],
   "source": [
    "axs = sns.boxplot(x = \"genre\", y = \"communities\", data = communities, palette=xkcd_colors)\n",
    "for item in axs.get_xticklabels():\n",
    "    item.set_rotation(90)"
   ]
  },
  {
   "cell_type": "code",
   "execution_count": 35,
   "metadata": {
    "collapsed": false
   },
   "outputs": [
    {
     "data": {
      "image/png": "[encoded data removed]",
      "text/plain": [
       "<matplotlib.figure.Figure at 0x7f3b257826d8>"
      ]
     },
     "metadata": {},
     "output_type": "display_data"
    }
   ],
   "source": [
    "axs = sns.boxplot(x = \"genre\", y = \"modularity\", data = modularities, palette=xkcd_colors)\n",
    "for item in axs.get_xticklabels():\n",
    "    item.set_rotation(90)"
   ]
  },
  {
   "cell_type": "code",
   "execution_count": null,
   "metadata": {
    "collapsed": true
   },
   "outputs": [],
   "source": []
  }
 ],
 "metadata": {
  "anaconda-cloud": {},
  "kernelspec": {
   "display_name": "Python [Root]",
   "language": "python",
   "name": "Python [Root]"
  },
  "language_info": {
   "codemirror_mode": {
    "name": "ipython",
    "version": 3
   },
   "file_extension": ".py",
   "mimetype": "text/x-python",
   "name": "python",
   "nbconvert_exporter": "python",
   "pygments_lexer": "ipython3",
   "version": "3.5.2"
  }
 },
 "nbformat": 4,
 "nbformat_minor": 0
}
