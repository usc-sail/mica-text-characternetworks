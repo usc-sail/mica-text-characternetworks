{
 "cells": [
  {
   "cell_type": "code",
   "execution_count": 1,
   "metadata": {
    "collapsed": false
   },
   "outputs": [],
   "source": [
    "%matplotlib inline\n",
    "from utils import read, createGraph, genders, functionals\n",
    "import networkx as nx\n",
    "from glob import iglob as glob\n",
    "from os.path import exists, basename\n",
    "import pandas as pd\n",
    "import matplotlib.pyplot as plt\n",
    "import seaborn as sns\n",
    "from collections import defaultdict, Counter\n",
    "import numpy as np\n",
    "import scipy as sp\n",
    "\n",
    "plt.rcParams[\"figure.figsize\"] = (10, 8)"
   ]
  },
  {
   "cell_type": "code",
   "execution_count": 2,
   "metadata": {
    "collapsed": false
   },
   "outputs": [],
   "source": [
    "th = 2\n",
    "data_dir = \"./data/by_movie/*\"\n",
    "info_dir = \"./data/speakersWithCharacterInfo/\""
   ]
  },
  {
   "cell_type": "markdown",
   "metadata": {
    "collapsed": true
   },
   "source": [
    "## Read all scripts"
   ]
  },
  {
   "cell_type": "code",
   "execution_count": 3,
   "metadata": {
    "collapsed": true
   },
   "outputs": [],
   "source": [
    "data = {}\n",
    "for script in glob(data_dir):\n",
    "    try:\n",
    "        char_list, adj = read(script, threshold = th)\n",
    "        \n",
    "        gender_file = info_dir + basename(script).replace(\".\", \"_\") + \".txt\"\n",
    "        if exists(gender_file):\n",
    "            gens = genders(gender_file)\n",
    "        else:\n",
    "            gens = defaultdict(lambda: 'unknown')\n",
    "        \n",
    "        G = createGraph(char_list, adj, gens)\n",
    "           \n",
    "        data[basename(script)] = G\n",
    "    except:\n",
    "        pass"
   ]
  },
  {
   "cell_type": "markdown",
   "metadata": {},
   "source": [
    "# Pre-check\n",
    "In [GENDER BIAS WITHOUT BORDERS](http://seejane.org/wp-content/uploads/gender-bias-without-borders-executive-summary.pdf), there is a ratio of 2.25 men for every women on screen. Lets check our numbers."
   ]
  },
  {
   "cell_type": "code",
   "execution_count": 4,
   "metadata": {
    "collapsed": false
   },
   "outputs": [
    {
     "name": "stdout",
     "output_type": "stream",
     "text": [
      "total: 14592\n",
      "males: 0.37%\n",
      "females: 0.16%\n"
     ]
    }
   ],
   "source": [
    "total, males, females = 0, 0, 0\n",
    "for _, G in data.items():\n",
    "    for i in G.nodes():\n",
    "        if G.node[i]['gender'] == 'male':\n",
    "            males += 1\n",
    "        elif G.node[i]['gender'] == 'female':\n",
    "            females += 1\n",
    "        \n",
    "        total += 1\n",
    "        \n",
    "print(\"total: {}\".format(total))\n",
    "print(\"males: {:.2f}%\".format(float(males) / total))\n",
    "print(\"females: {:.2f}%\".format(float(females) / total))\n"
   ]
  },
  {
   "cell_type": "markdown",
   "metadata": {},
   "source": [
    "What if we drop unknown?... shouldn't matter right?"
   ]
  },
  {
   "cell_type": "code",
   "execution_count": 5,
   "metadata": {
    "collapsed": false
   },
   "outputs": [
    {
     "name": "stdout",
     "output_type": "stream",
     "text": [
      "males: 0.70%\n",
      "females: 0.30%\n"
     ]
    }
   ],
   "source": [
    "print(\"males: {:.2f}%\".format(float(males) / (males + females)))\n",
    "print(\"females: {:.2f}%\".format(float(females) / (males + females)))"
   ]
  },
  {
   "cell_type": "markdown",
   "metadata": {},
   "source": [
    "# Graph analysis"
   ]
  },
  {
   "cell_type": "markdown",
   "metadata": {
    "collapsed": true
   },
   "source": [
    "### Degree centrality"
   ]
  },
  {
   "cell_type": "markdown",
   "metadata": {},
   "source": [
    "#### Average degree"
   ]
  },
  {
   "cell_type": "code",
   "execution_count": 6,
   "metadata": {
    "collapsed": false
   },
   "outputs": [
    {
     "name": "stderr",
     "output_type": "stream",
     "text": [
      "/home/victor/anaconda3/lib/python3.5/site-packages/numpy/core/_methods.py:59: RuntimeWarning: Mean of empty slice.\n",
      "  warnings.warn(\"Mean of empty slice.\", RuntimeWarning)\n"
     ]
    }
   ],
   "source": [
    "male_deg, female_deg = [], []\n",
    "for script, G in data.items():\n",
    "    degrees = nx.degree(G)\n",
    "    \n",
    "    male_deg.append(np.mean([degrees[i] for i in G.nodes() if G.node[i]['gender'] == 'male']))\n",
    "    female_deg.append(np.mean([degrees[i] for i in G.nodes() if G.node[i]['gender'] == 'female']))"
   ]
  },
  {
   "cell_type": "code",
   "execution_count": 7,
   "metadata": {
    "collapsed": false
   },
   "outputs": [
    {
     "data": {
      "image/png": "[encoded data removed]",
      "text/plain": [
       "<matplotlib.figure.Figure at 0x7fcb61459b38>"
      ]
     },
     "metadata": {},
     "output_type": "display_data"
    }
   ],
   "source": [
    "sns.distplot(male_deg, hist = False, label = \"male\");\n",
    "sns.distplot(female_deg, hist = False, label = \"female\");\n",
    "plt.legend();\n",
    "plt.xlabel(\"average degree\");"
   ]
  },
  {
   "cell_type": "markdown",
   "metadata": {},
   "source": [
    "There is no real difference in the number of connections between men and women."
   ]
  },
  {
   "cell_type": "code",
   "execution_count": 8,
   "metadata": {
    "collapsed": false
   },
   "outputs": [
    {
     "data": {
      "text/plain": [
       "Ttest_indResult(statistic=0.50617752765310209, pvalue=0.61285476539479333)"
      ]
     },
     "execution_count": 8,
     "metadata": {},
     "output_type": "execute_result"
    }
   ],
   "source": [
    "#Remove nans\n",
    "male_deg, female_deg = np.array(male_deg), np.array(female_deg)\n",
    "male_deg = male_deg[~np.isnan(male_deg)]\n",
    "female_deg = female_deg[~np.isnan(female_deg)]\n",
    "\n",
    "\n",
    "sp.stats.ttest_ind(male_deg, female_deg)"
   ]
  },
  {
   "cell_type": "markdown",
   "metadata": {},
   "source": [
    "### Betweeness Centrality"
   ]
  },
  {
   "cell_type": "markdown",
   "metadata": {},
   "source": [
    "#### Average centrality"
   ]
  },
  {
   "cell_type": "code",
   "execution_count": 9,
   "metadata": {
    "collapsed": false
   },
   "outputs": [
    {
     "name": "stderr",
     "output_type": "stream",
     "text": [
      "/home/victor/anaconda3/lib/python3.5/site-packages/numpy/core/_methods.py:59: RuntimeWarning: Mean of empty slice.\n",
      "  warnings.warn(\"Mean of empty slice.\", RuntimeWarning)\n"
     ]
    }
   ],
   "source": [
    "male_cent, female_cent = [], []\n",
    "for script, G in data.items():\n",
    "    cents = nx.betweenness_centrality(G)\n",
    "    \n",
    "    male_cent.append(np.mean([cents[i] for i in G.nodes() if G.node[i]['gender'] == 'male']))\n",
    "    female_cent.append(np.mean([cents[i] for i in G.nodes() if G.node[i]['gender'] == 'female']))"
   ]
  },
  {
   "cell_type": "markdown",
   "metadata": {},
   "source": [
    "Just a quick note, this is a _density_, not a probability. The AUC adds up to 1. "
   ]
  },
  {
   "cell_type": "code",
   "execution_count": 10,
   "metadata": {
    "collapsed": false
   },
   "outputs": [
    {
     "data": {
      "image/png": "[encoded data removed]",
      "text/plain": [
       "<matplotlib.figure.Figure at 0x7fcb610c80f0>"
      ]
     },
     "metadata": {},
     "output_type": "display_data"
    }
   ],
   "source": [
    "sns.distplot(male_cent, hist = False, label = \"male\");\n",
    "sns.distplot(female_cent, hist = False, label = \"female\");\n",
    "plt.legend();\n",
    "plt.xlabel(\"average centrality\");"
   ]
  },
  {
   "cell_type": "markdown",
   "metadata": {
    "collapsed": true
   },
   "source": [
    "In this case, there is a significant difference in the average centrality of male characters and female characters ($t(?) = 2.7951,\\, p < 0.01$). In most of the scripts, males occupy a more central role than females."
   ]
  },
  {
   "cell_type": "code",
   "execution_count": 11,
   "metadata": {
    "collapsed": false
   },
   "outputs": [
    {
     "data": {
      "text/plain": [
       "Ttest_indResult(statistic=2.7951335187934907, pvalue=0.0052970912912426648)"
      ]
     },
     "execution_count": 11,
     "metadata": {},
     "output_type": "execute_result"
    }
   ],
   "source": [
    "#Remove nans\n",
    "male_cent, female_cent = np.array(male_cent), np.array(female_cent)\n",
    "male_cent = male_cent[~np.isnan(male_cent)]\n",
    "female_cent = female_cent[~np.isnan(female_cent)]\n",
    "\n",
    "\n",
    "sp.stats.ttest_ind(male_cent, female_cent)"
   ]
  },
  {
   "cell_type": "markdown",
   "metadata": {},
   "source": [
    "### Who are the most central women?"
   ]
  },
  {
   "cell_type": "code",
   "execution_count": 12,
   "metadata": {
    "collapsed": false
   },
   "outputs": [],
   "source": [
    "female_cent = []\n",
    "for script, G in data.items():\n",
    "    cents = nx.betweenness_centrality(G)\n",
    "\n",
    "    for femme in G.nodes():\n",
    "        if G.node[femme]['gender'] == 'female':\n",
    "            female_cent.append((script, femme, cents[femme]))"
   ]
  },
  {
   "cell_type": "markdown",
   "metadata": {},
   "source": [
    "Top 15 movies with the most central female lead. We got Sarah Connor and Erin Bronckovich!"
   ]
  },
  {
   "cell_type": "code",
   "execution_count": 13,
   "metadata": {
    "collapsed": false
   },
   "outputs": [
    {
     "data": {
      "text/plain": [
       "[('music_of_the_heart.xml', 32, 0.7738795186163606),\n",
       " ('8mm.xml', 20, 0.7719298245614036),\n",
       " ('frances.xml', 20, 0.7688689217758985),\n",
       " ('erin_brockovich.xml', 7, 0.7620772946859903),\n",
       " ('agnes_of_god.xml', 8, 0.75),\n",
       " ('high_fidelity.xml', 14, 0.7241666666666666),\n",
       " ('precious.xml', 15, 0.7236842105263157),\n",
       " ('bridesmaids.xml', 0, 0.7126626626626626),\n",
       " ('what_lies_beneath.xml', 1, 0.7014652014652014),\n",
       " ('terminator.xml', 11, 0.6764705882352943),\n",
       " ('legally_blonde.xml', 10, 0.6383465335169881),\n",
       " ('charade.xml', 16, 0.6362922705314009),\n",
       " ('wind_chill.xml', 0, 0.6333333333333333),\n",
       " ('drag_me_to_hell.xml', 9, 0.6317460317460317),\n",
       " ('juno.xml', 4, 0.6182539682539684)]"
      ]
     },
     "execution_count": 13,
     "metadata": {},
     "output_type": "execute_result"
    }
   ],
   "source": [
    "sorted(female_cent, key = lambda x: x[2], reverse = True)[:15]"
   ]
  },
  {
   "cell_type": "markdown",
   "metadata": {
    "collapsed": true
   },
   "source": [
    "# Triads and love triangles\n",
    "Can we say that love triangles are really that common?"
   ]
  },
  {
   "cell_type": "code",
   "execution_count": 14,
   "metadata": {
    "collapsed": false
   },
   "outputs": [],
   "source": [
    "# THIS IS OVERSTIMATING!\n",
    "\n",
    "triads = []\n",
    "\n",
    "for script, G in data.items():\n",
    "    for i in G.nodes():\n",
    "        for j in G.neighbors(i):\n",
    "            for k in G.neighbors(i):\n",
    "                if j == k:\n",
    "                    continue\n",
    "\n",
    "                triads.append(tuple(sorted([G.node[i]['gender'], G.node[j]['gender'], G.node[k]['gender']])))"
   ]
  },
  {
   "cell_type": "markdown",
   "metadata": {},
   "source": [
    "The most common triads are FMM and MMM. Three females speaking to each other is the least common pattern."
   ]
  },
  {
   "cell_type": "code",
   "execution_count": 15,
   "metadata": {
    "collapsed": false
   },
   "outputs": [
    {
     "data": {
      "text/plain": [
       "{('female', 'female', 'female'): 0.017559983846485914,\n",
       " ('female', 'female', 'male'): 0.07396081380289928,\n",
       " ('female', 'female', 'unknown'): 0.024453078219214327,\n",
       " ('female', 'male', 'male'): 0.15638829705755386,\n",
       " ('female', 'male', 'unknown'): 0.09258470150812549,\n",
       " ('female', 'unknown', 'unknown'): 0.02081018228405119,\n",
       " ('male', 'male', 'male'): 0.15878904346130815,\n",
       " ('male', 'male', 'unknown'): 0.14229296347356254,\n",
       " ('male', 'unknown', 'unknown'): 0.06484521869908509,\n",
       " ('unknown', 'unknown', 'unknown'): 0.24831571764771415}"
      ]
     },
     "execution_count": 15,
     "metadata": {},
     "output_type": "execute_result"
    }
   ],
   "source": [
    "T = sum(Counter(triads).values())\n",
    "\n",
    "{k:v/T for k, v in Counter(triads).items()}"
   ]
  },
  {
   "cell_type": "code",
   "execution_count": null,
   "metadata": {
    "collapsed": true
   },
   "outputs": [],
   "source": []
  }
 ],
 "metadata": {
  "anaconda-cloud": {},
  "kernelspec": {
   "display_name": "Python [Root]",
   "language": "python",
   "name": "Python [Root]"
  },
  "language_info": {
   "codemirror_mode": {
    "name": "ipython",
    "version": 3
   },
   "file_extension": ".py",
   "mimetype": "text/x-python",
   "name": "python",
   "nbconvert_exporter": "python",
   "pygments_lexer": "ipython3",
   "version": "3.5.2"
  }
 },
 "nbformat": 4,
 "nbformat_minor": 0
}
