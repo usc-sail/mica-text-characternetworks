{
 "cells": [
  {
   "cell_type": "code",
   "execution_count": 1,
   "metadata": {
    "collapsed": false
   },
   "outputs": [],
   "source": [
    "%matplotlib inline\n",
    "from utils import read, createGraph, genders, functionals\n",
    "import networkx as nx\n",
    "from glob import iglob as glob\n",
    "from os.path import exists, basename\n",
    "import pandas as pd\n",
    "import matplotlib.pyplot as plt\n",
    "import seaborn as sns\n",
    "from collections import defaultdict, Counter\n",
    "import numpy as np\n",
    "import scipy as sp\n",
    "\n",
    "plt.rcParams[\"figure.figsize\"] = (10, 8)"
   ]
  },
  {
   "cell_type": "code",
   "execution_count": 2,
   "metadata": {
    "collapsed": false
   },
   "outputs": [],
   "source": [
    "th = 2\n",
    "data_dir = \"./data/by_movie/*\"\n",
    "info_dir = \"./data/speakersWithCharacterInfo/\""
   ]
  },
  {
   "cell_type": "markdown",
   "metadata": {
    "collapsed": true
   },
   "source": [
    "## Read all scripts"
   ]
  },
  {
   "cell_type": "code",
   "execution_count": 3,
   "metadata": {
    "collapsed": true
   },
   "outputs": [],
   "source": [
    "data, chars = {}, {}\n",
    "for script in glob(data_dir):\n",
    "    try:\n",
    "        char_list, adj = read(script, threshold = th)\n",
    "        \n",
    "        gender_file = info_dir + basename(script).replace(\".\", \"_\") + \".txt\"\n",
    "        if exists(gender_file):\n",
    "            gens = genders(gender_file)\n",
    "        else:\n",
    "            gens = defaultdict(lambda: 'unknown')\n",
    "        \n",
    "        G = createGraph(char_list, adj, gens)\n",
    "           \n",
    "        data[basename(script)] = G\n",
    "        chars[basename(script)] = char_list\n",
    "    except:\n",
    "        pass"
   ]
  },
  {
   "cell_type": "markdown",
   "metadata": {},
   "source": [
    "# Pre-check\n",
    "In [GENDER BIAS WITHOUT BORDERS](http://seejane.org/wp-content/uploads/gender-bias-without-borders-executive-summary.pdf), there is a ratio of 2.25 men for every women on screen (women = $30.9$%). Lets check our numbers."
   ]
  },
  {
   "cell_type": "code",
   "execution_count": 4,
   "metadata": {
    "collapsed": false
   },
   "outputs": [
    {
     "name": "stdout",
     "output_type": "stream",
     "text": [
      "total: 14456\n",
      "males: 0.37%\n",
      "females: 0.16%\n"
     ]
    }
   ],
   "source": [
    "total, males, females = 0, 0, 0\n",
    "for _, G in data.items():\n",
    "    for i in G.nodes():\n",
    "        if G.node[i]['gender'] == 'male':\n",
    "            males += 1\n",
    "        elif G.node[i]['gender'] == 'female':\n",
    "            females += 1\n",
    "        \n",
    "        total += 1\n",
    "        \n",
    "print(\"total: {}\".format(total))\n",
    "print(\"males: {:.2f}%\".format(float(males) / total))\n",
    "print(\"females: {:.2f}%\".format(float(females) / total))\n"
   ]
  },
  {
   "cell_type": "markdown",
   "metadata": {},
   "source": [
    "What if we drop unknown?... shouldn't matter right?"
   ]
  },
  {
   "cell_type": "code",
   "execution_count": 5,
   "metadata": {
    "collapsed": false
   },
   "outputs": [
    {
     "name": "stdout",
     "output_type": "stream",
     "text": [
      "males: 0.70%\n",
      "females: 0.30%\n"
     ]
    }
   ],
   "source": [
    "print(\"males: {:.2f}%\".format(float(males) / (males + females)))\n",
    "print(\"females: {:.2f}%\".format(float(females) / (males + females)))"
   ]
  },
  {
   "cell_type": "markdown",
   "metadata": {},
   "source": [
    "# Graph analysis"
   ]
  },
  {
   "cell_type": "markdown",
   "metadata": {
    "collapsed": true
   },
   "source": [
    "### Degree centrality"
   ]
  },
  {
   "cell_type": "markdown",
   "metadata": {},
   "source": [
    "#### Average degree"
   ]
  },
  {
   "cell_type": "code",
   "execution_count": 6,
   "metadata": {
    "collapsed": false
   },
   "outputs": [
    {
     "name": "stderr",
     "output_type": "stream",
     "text": [
      "/Users/victor/miniconda2/envs/py3k/lib/python3.5/site-packages/numpy/core/_methods.py:59: RuntimeWarning: Mean of empty slice.\n",
      "  warnings.warn(\"Mean of empty slice.\", RuntimeWarning)\n"
     ]
    }
   ],
   "source": [
    "male_deg, female_deg = [], []\n",
    "for script, G in data.items():\n",
    "    degrees = nx.degree(G)\n",
    "    \n",
    "    male_deg.append(np.mean([degrees[i] for i in G.nodes() if G.node[i]['gender'] == 'male']))\n",
    "    female_deg.append(np.mean([degrees[i] for i in G.nodes() if G.node[i]['gender'] == 'female']))"
   ]
  },
  {
   "cell_type": "code",
   "execution_count": 7,
   "metadata": {
    "collapsed": false
   },
   "outputs": [
    {
     "name": "stderr",
     "output_type": "stream",
     "text": [
      "/Users/victor/miniconda2/envs/py3k/lib/python3.5/site-packages/statsmodels/nonparametric/kdetools.py:20: VisibleDeprecationWarning: using a non-integer number instead of an integer will result in an error in the future\n",
      "  y = X[:m/2+1] + np.r_[0,X[m/2+1:],0]*1j\n"
     ]
    },
    {
     "data": {
      "image/png": "[encoded data removed]",
      "text/plain": [
       "<matplotlib.figure.Figure at 0x10eed5b00>"
      ]
     },
     "metadata": {},
     "output_type": "display_data"
    }
   ],
   "source": [
    "sns.distplot(male_deg, hist = False, label = \"male\");\n",
    "sns.distplot(female_deg, hist = False, label = \"female\");\n",
    "plt.legend();\n",
    "plt.xlabel(\"average degree\");"
   ]
  },
  {
   "cell_type": "markdown",
   "metadata": {},
   "source": [
    "There is no real difference in the number of connections between men and women."
   ]
  },
  {
   "cell_type": "code",
   "execution_count": 8,
   "metadata": {
    "collapsed": false
   },
   "outputs": [
    {
     "data": {
      "text/plain": [
       "Ttest_indResult(statistic=0.66854780460708829, pvalue=0.50394934333620589)"
      ]
     },
     "execution_count": 8,
     "metadata": {},
     "output_type": "execute_result"
    }
   ],
   "source": [
    "#Remove nans\n",
    "male_deg, female_deg = np.array(male_deg), np.array(female_deg)\n",
    "male_deg = male_deg[~np.isnan(male_deg)]\n",
    "female_deg = female_deg[~np.isnan(female_deg)]\n",
    "\n",
    "\n",
    "sp.stats.ttest_ind(male_deg, female_deg)"
   ]
  },
  {
   "cell_type": "markdown",
   "metadata": {},
   "source": [
    "### Betweeness Centrality"
   ]
  },
  {
   "cell_type": "markdown",
   "metadata": {},
   "source": [
    "#### Average centrality"
   ]
  },
  {
   "cell_type": "code",
   "execution_count": 9,
   "metadata": {
    "collapsed": false
   },
   "outputs": [
    {
     "name": "stderr",
     "output_type": "stream",
     "text": [
      "/Users/victor/miniconda2/envs/py3k/lib/python3.5/site-packages/numpy/core/_methods.py:59: RuntimeWarning: Mean of empty slice.\n",
      "  warnings.warn(\"Mean of empty slice.\", RuntimeWarning)\n"
     ]
    }
   ],
   "source": [
    "male_cent, female_cent = [], []\n",
    "for script, G in data.items():\n",
    "    cents = nx.betweenness_centrality(G)\n",
    "    \n",
    "    male_cent.append(np.mean([cents[i] for i in G.nodes() if G.node[i]['gender'] == 'male']))\n",
    "    female_cent.append(np.mean([cents[i] for i in G.nodes() if G.node[i]['gender'] == 'female']))"
   ]
  },
  {
   "cell_type": "markdown",
   "metadata": {},
   "source": [
    "Just a quick note, this is a _density_, not a probability. The AUC adds up to 1. "
   ]
  },
  {
   "cell_type": "code",
   "execution_count": 10,
   "metadata": {
    "collapsed": false
   },
   "outputs": [
    {
     "name": "stderr",
     "output_type": "stream",
     "text": [
      "/Users/victor/miniconda2/envs/py3k/lib/python3.5/site-packages/statsmodels/nonparametric/kdetools.py:20: VisibleDeprecationWarning: using a non-integer number instead of an integer will result in an error in the future\n",
      "  y = X[:m/2+1] + np.r_[0,X[m/2+1:],0]*1j\n"
     ]
    },
    {
     "data": {
      "image/png": "[encoded data removed]",
      "text/plain": [
       "<matplotlib.figure.Figure at 0x10e3f6128>"
      ]
     },
     "metadata": {},
     "output_type": "display_data"
    }
   ],
   "source": [
    "sns.distplot(male_cent, hist = False, label = \"male\");\n",
    "sns.distplot(female_cent, hist = False, label = \"female\");\n",
    "plt.legend();\n",
    "plt.xlabel(\"average centrality\");"
   ]
  },
  {
   "cell_type": "markdown",
   "metadata": {
    "collapsed": true
   },
   "source": [
    "In this case, there is a significant difference in the average centrality of male characters and female characters ($t(?) = 2.7951,\\, p < 0.01$). In most of the scripts, males occupy a more central role than females."
   ]
  },
  {
   "cell_type": "code",
   "execution_count": 11,
   "metadata": {
    "collapsed": false
   },
   "outputs": [
    {
     "data": {
      "text/plain": [
       "Ttest_indResult(statistic=3.2939679380839992, pvalue=0.0010250046869674631)"
      ]
     },
     "execution_count": 11,
     "metadata": {},
     "output_type": "execute_result"
    }
   ],
   "source": [
    "#Remove nans\n",
    "male_cent, female_cent = np.array(male_cent), np.array(female_cent)\n",
    "male_cent = male_cent[~np.isnan(male_cent)]\n",
    "female_cent = female_cent[~np.isnan(female_cent)]\n",
    "\n",
    "\n",
    "sp.stats.ttest_ind(male_cent, female_cent)"
   ]
  },
  {
   "cell_type": "markdown",
   "metadata": {},
   "source": [
    "### Who are the most central women?"
   ]
  },
  {
   "cell_type": "code",
   "execution_count": 12,
   "metadata": {
    "collapsed": false
   },
   "outputs": [],
   "source": [
    "female_cent = []\n",
    "for script, G in data.items():\n",
    "    cents = nx.betweenness_centrality(G)\n",
    "\n",
    "    char_list = chars[script]\n",
    "    \n",
    "    for femme in G.nodes():\n",
    "        if G.node[femme]['gender'] == 'female':\n",
    "            female_cent.append((script, char_list[femme], cents[femme]))"
   ]
  },
  {
   "cell_type": "markdown",
   "metadata": {},
   "source": [
    "Top 15 movies with the most central female lead. We got Sarah Connor and Erin Bronckovich!"
   ]
  },
  {
   "cell_type": "code",
   "execution_count": 13,
   "metadata": {
    "collapsed": false
   },
   "outputs": [
    {
     "data": {
      "text/plain": [
       "[('terminator.xml', 'SARAH', 0.7836257309941519),\n",
       " ('frances.xml', 'FRANCES', 0.7700442967884829),\n",
       " ('8mm.xml', 'WELLES', 0.7641325536062379),\n",
       " ('music_of_the_heart.xml', 'ROBERTA', 0.7591068279163516),\n",
       " ('agnes_of_god.xml', 'MARTHA', 0.75),\n",
       " ('ringu.xml', 'ASAKAWA', 0.7352941176470589),\n",
       " ('erin_brockovich.xml', 'ERIN', 0.7330447330447329),\n",
       " ('high_fidelity.xml', 'ROB', 0.7241666666666666),\n",
       " ('precious.xml', 'PRECIOUS', 0.7236842105263157),\n",
       " ('what_lies_beneath.xml', 'CLAIRE', 0.7158119658119657),\n",
       " ('bridesmaids.xml', 'ANNIE', 0.7103081232492997),\n",
       " ('wind_chill.xml', 'GIRL', 0.6428571428571428),\n",
       " ('charade.xml', 'REGGIE', 0.6253246753246753),\n",
       " ('juno.xml', 'JUNO', 0.6034798534798536),\n",
       " ('legally_blonde.xml', 'ELLE', 0.6031476050830891)]"
      ]
     },
     "execution_count": 13,
     "metadata": {},
     "output_type": "execute_result"
    }
   ],
   "source": [
    "sorted(female_cent, key = lambda x: x[2], reverse = True)[:15]"
   ]
  },
  {
   "cell_type": "markdown",
   "metadata": {
    "collapsed": true
   },
   "source": [
    "# Triads and love triangles\n",
    "Can we say that love triangles are really that common?"
   ]
  },
  {
   "cell_type": "code",
   "execution_count": 14,
   "metadata": {
    "collapsed": false
   },
   "outputs": [],
   "source": [
    "def countTrianglesByGender(G):\n",
    "    triangles = []\n",
    "\n",
    "    for i in G.nodes():\n",
    "        for j in G.neighbors(i):\n",
    "            if j == i:\n",
    "                continue \n",
    "\n",
    "            for k in G.neighbors(j):\n",
    "                if k == j or k == i:\n",
    "                    continue\n",
    "\n",
    "                if i in G.neighbors(k):\n",
    "                    triangles.append(tuple(sorted([i, j, k])))\n",
    "\n",
    "    triangles = set(triangles)\n",
    "    triangles_genders = map(lambda x: map(lambda _: G.node[_]['gender'], x), triangles)\n",
    "    \n",
    "    return Counter(list(map(lambda x: tuple(sorted(list(x))), triangles_genders)))"
   ]
  },
  {
   "cell_type": "markdown",
   "metadata": {},
   "source": [
    "Same gender triangles are the least common!! "
   ]
  },
  {
   "cell_type": "code",
   "execution_count": 15,
   "metadata": {
    "collapsed": false
   },
   "outputs": [
    {
     "data": {
      "text/plain": [
       "Counter({('female', 'female', 'female'): 585,\n",
       "         ('female', 'female', 'male'): 3096,\n",
       "         ('female', 'female', 'unknown'): 640,\n",
       "         ('female', 'male', 'male'): 7587,\n",
       "         ('female', 'male', 'unknown'): 3438,\n",
       "         ('female', 'unknown', 'unknown'): 583,\n",
       "         ('male', 'male', 'male'): 6288,\n",
       "         ('male', 'male', 'unknown'): 4720,\n",
       "         ('male', 'unknown', 'unknown'): 1744,\n",
       "         ('unknown', 'unknown', 'unknown'): 9381})"
      ]
     },
     "execution_count": 15,
     "metadata": {},
     "output_type": "execute_result"
    }
   ],
   "source": [
    "genderTriangs = sum(map(countTrianglesByGender, data.values()), Counter())\n",
    "genderTriangs"
   ]
  },
  {
   "cell_type": "code",
   "execution_count": null,
   "metadata": {
    "collapsed": true
   },
   "outputs": [],
   "source": []
  }
 ],
 "metadata": {
  "anaconda-cloud": {},
  "kernelspec": {
   "display_name": "Python 3",
   "language": "python",
   "name": "python3"
  },
  "language_info": {
   "codemirror_mode": {
    "name": "ipython",
    "version": 3
   },
   "file_extension": ".py",
   "mimetype": "text/x-python",
   "name": "python",
   "nbconvert_exporter": "python",
   "pygments_lexer": "ipython3",
   "version": "3.5.2"
  }
 },
 "nbformat": 4,
 "nbformat_minor": 0
}
